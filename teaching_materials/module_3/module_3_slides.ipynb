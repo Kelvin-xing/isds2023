{
 "cells": [
  {
   "cell_type": "markdown",
   "metadata": {
    "slideshow": {
     "slide_type": "slide"
    }
   },
   "source": [
    "# Session 3: Data Structuring in Pandas II"
   ]
  },
  {
   "cell_type": "markdown",
   "metadata": {
    "slideshow": {
     "slide_type": "slide"
    }
   },
   "source": [
    "# Recap (I/II)\n",
    "\n",
    "*How does Pandas help us with data analysis?*\n"
   ]
  },
  {
   "cell_type": "markdown",
   "metadata": {
    "slideshow": {
     "slide_type": "fragment"
    }
   },
   "source": [
    "Along countless dimensions. Clear advantages over standard python and numpy are:\n",
    "- Data representation: Allows naming columns (and rows), making it much easier to navigate in large sets of data\n",
    "- Features and speed: Lots of functions and methods that are both *simple* and *fast* to apply\n",
    "- Method chaining: We can write something fairly complicated in just a few lines"
   ]
  },
  {
   "cell_type": "markdown",
   "metadata": {
    "slideshow": {
     "slide_type": "fragment"
    }
   },
   "source": [
    "*What are the standard types of data that we work with?*\n"
   ]
  },
  {
   "cell_type": "markdown",
   "metadata": {
    "slideshow": {
     "slide_type": "fragment"
    }
   },
   "source": [
    "- Boolean data (binary true/false variables): Often used for row selection (Boolean indexing)\n",
    "- Strings: Data consisting of *alphanumeric* characters. Many types of operations possible with pandas.\n",
    "- Numeric variables in general:\n",
    "    - Lots of built in methods for analysis (`describe`, `cut` and much, much more)"
   ]
  },
  {
   "cell_type": "markdown",
   "metadata": {
    "slideshow": {
     "slide_type": "slide"
    }
   },
   "source": [
    "# Recap (II/II)\n",
    "\n",
    "*What were more advanced types of data that are handled natively?*\n"
   ]
  },
  {
   "cell_type": "markdown",
   "metadata": {
    "slideshow": {
     "slide_type": "fragment"
    }
   },
   "source": [
    "- Categorical data: Numeric data that can only take a (often strictly) limited number of values.\n",
    "- Time Series: Data that has an explicit time dimension (a *time stamp* so to say)."
   ]
  },
  {
   "cell_type": "markdown",
   "metadata": {
    "slideshow": {
     "slide_type": "fragment"
    }
   },
   "source": [
    "*What do we do, when we want to make many operations on the same time?*"
   ]
  },
  {
   "cell_type": "markdown",
   "metadata": {
    "slideshow": {
     "slide_type": "fragment"
    }
   },
   "source": [
    "- Method chaining: Allows you to make multiple operations on a dataframe in one line.\n",
    "- Remember to make your code readable: Often difficult to return to / take over code that is not annotated."
   ]
  },
  {
   "cell_type": "markdown",
   "metadata": {
    "slideshow": {
     "slide_type": "slide"
    }
   },
   "source": [
    "# Typical Questions\n",
    "\n",
    "I have tried to gather some questions that seemed to address more general issues:\n",
    "- Dictionaries in multiple layers\n",
    "- Naming index keys\n",
    "- Method chaining\n",
    "- How to create and share a GitHub Repo with your group"
   ]
  },
  {
   "cell_type": "markdown",
   "metadata": {
    "slideshow": {
     "slide_type": "slide"
    },
    "tags": []
   },
   "source": [
    "## Dictionaries in Multiple Layers\n",
    "\n",
    "In the exercises, you encountered a problem with navigating in dictionaries with multiple layers. Why are these interesting?\n",
    "- It clearly illustrates how dictionaries differ in structure\n",
    "    - DataFrames have a matrix-like (2D) structure\n",
    "    - Dictionaries have a non-sequential, 1D structure\n",
    "    - In order to represent a df-like object with dictionaries, we must combine them in multiple layers\n",
    "- For the Scraping Sessions: \n",
    "    - Data that come in the form of JSON will often have this structure\n",
    "    - Potentially in many more layers"
   ]
  },
  {
   "cell_type": "code",
   "execution_count": 3,
   "metadata": {
    "slideshow": {
     "slide_type": "fragment"
    },
    "ExecuteTime": {
     "end_time": "2023-08-08T20:33:11.465417Z",
     "start_time": "2023-08-08T20:33:10.796958Z"
    }
   },
   "outputs": [
    {
     "name": "stdout",
     "output_type": "stream",
     "text": [
      "{'outer_layer_1': {'inner_layer_1': 432, 'inner_layer_2': 654, 'inner_layer_3': 234}, 'outer_layer_2': {'inner_layer_1': 131, 'inner_layer_2': 432, 'inner_layer_3': 432}, 'outer_layer_3': {'inner_layer_1': 222, 'inner_layer_2': 654, 'inner_layer_3': 862}}\n"
     ]
    },
    {
     "data": {
      "text/plain": "432"
     },
     "execution_count": 3,
     "metadata": {},
     "output_type": "execute_result"
    }
   ],
   "source": [
    "my_dict1 = {'inner_layer_1': 432, 'inner_layer_2': 654, 'inner_layer_3': 234}\n",
    "my_dict2 = {'inner_layer_1': 131, 'inner_layer_2': 432, 'inner_layer_3': 432}\n",
    "my_dict3 = {'inner_layer_1': 222, 'inner_layer_2': 654, 'inner_layer_3': 862}\n",
    "\n",
    "my_d = {\"outer_layer_1\": my_dict1, \"outer_layer_2\": my_dict2, \"outer_layer_3\": my_dict3}\n",
    "\n",
    "print(my_d)\n",
    "\n",
    "my_d['outer_layer_2']['inner_layer_2']"
   ]
  },
  {
   "cell_type": "markdown",
   "metadata": {
    "slideshow": {
     "slide_type": "fragment"
    }
   },
   "source": [
    "Can easily convert it into a DataFrame"
   ]
  },
  {
   "cell_type": "code",
   "execution_count": 4,
   "metadata": {
    "ExecuteTime": {
     "end_time": "2023-08-08T20:33:11.501636Z",
     "start_time": "2023-08-08T20:33:10.804830Z"
    }
   },
   "outputs": [
    {
     "data": {
      "text/plain": "               outer_layer_1  outer_layer_2  outer_layer_3\ninner_layer_1            432            131            222\ninner_layer_2            654            432            654\ninner_layer_3            234            432            862",
      "text/html": "<div>\n<style scoped>\n    .dataframe tbody tr th:only-of-type {\n        vertical-align: middle;\n    }\n\n    .dataframe tbody tr th {\n        vertical-align: top;\n    }\n\n    .dataframe thead th {\n        text-align: right;\n    }\n</style>\n<table border=\"1\" class=\"dataframe\">\n  <thead>\n    <tr style=\"text-align: right;\">\n      <th></th>\n      <th>outer_layer_1</th>\n      <th>outer_layer_2</th>\n      <th>outer_layer_3</th>\n    </tr>\n  </thead>\n  <tbody>\n    <tr>\n      <th>inner_layer_1</th>\n      <td>432</td>\n      <td>131</td>\n      <td>222</td>\n    </tr>\n    <tr>\n      <th>inner_layer_2</th>\n      <td>654</td>\n      <td>432</td>\n      <td>654</td>\n    </tr>\n    <tr>\n      <th>inner_layer_3</th>\n      <td>234</td>\n      <td>432</td>\n      <td>862</td>\n    </tr>\n  </tbody>\n</table>\n</div>"
     },
     "execution_count": 4,
     "metadata": {},
     "output_type": "execute_result"
    }
   ],
   "source": [
    "import pandas as pd\n",
    "pd.DataFrame(my_d)"
   ]
  },
  {
   "cell_type": "markdown",
   "metadata": {
    "slideshow": {
     "slide_type": "slide"
    }
   },
   "source": [
    "## Naming Columns and Rows\n",
    "\n",
    "We can name columns. And we can name rows. Both are easy:"
   ]
  },
  {
   "cell_type": "code",
   "execution_count": 5,
   "metadata": {
    "slideshow": {
     "slide_type": "fragment"
    },
    "ExecuteTime": {
     "end_time": "2023-08-08T20:33:11.760190Z",
     "start_time": "2023-08-08T20:33:10.809280Z"
    }
   },
   "outputs": [
    {
     "data": {
      "text/plain": "   0  1  2\n0  0  1  2\n1  3  4  5\n2  6  7  8",
      "text/html": "<div>\n<style scoped>\n    .dataframe tbody tr th:only-of-type {\n        vertical-align: middle;\n    }\n\n    .dataframe tbody tr th {\n        vertical-align: top;\n    }\n\n    .dataframe thead th {\n        text-align: right;\n    }\n</style>\n<table border=\"1\" class=\"dataframe\">\n  <thead>\n    <tr style=\"text-align: right;\">\n      <th></th>\n      <th>0</th>\n      <th>1</th>\n      <th>2</th>\n    </tr>\n  </thead>\n  <tbody>\n    <tr>\n      <th>0</th>\n      <td>0</td>\n      <td>1</td>\n      <td>2</td>\n    </tr>\n    <tr>\n      <th>1</th>\n      <td>3</td>\n      <td>4</td>\n      <td>5</td>\n    </tr>\n    <tr>\n      <th>2</th>\n      <td>6</td>\n      <td>7</td>\n      <td>8</td>\n    </tr>\n  </tbody>\n</table>\n</div>"
     },
     "execution_count": 5,
     "metadata": {},
     "output_type": "execute_result"
    }
   ],
   "source": [
    "import numpy as np\n",
    "import pandas as pd\n",
    "\n",
    "my_df = pd.DataFrame(np.arange(9).reshape(3,3))\n",
    "my_df"
   ]
  },
  {
   "cell_type": "code",
   "execution_count": 6,
   "metadata": {
    "scrolled": true,
    "ExecuteTime": {
     "end_time": "2023-08-08T20:33:11.797423Z",
     "start_time": "2023-08-08T20:33:10.814554Z"
    }
   },
   "outputs": [
    {
     "data": {
      "text/plain": "      column1  column2  column3\nrow1        0        1        2\nrow2        3        4        5\nrow3        6        7        8",
      "text/html": "<div>\n<style scoped>\n    .dataframe tbody tr th:only-of-type {\n        vertical-align: middle;\n    }\n\n    .dataframe tbody tr th {\n        vertical-align: top;\n    }\n\n    .dataframe thead th {\n        text-align: right;\n    }\n</style>\n<table border=\"1\" class=\"dataframe\">\n  <thead>\n    <tr style=\"text-align: right;\">\n      <th></th>\n      <th>column1</th>\n      <th>column2</th>\n      <th>column3</th>\n    </tr>\n  </thead>\n  <tbody>\n    <tr>\n      <th>row1</th>\n      <td>0</td>\n      <td>1</td>\n      <td>2</td>\n    </tr>\n    <tr>\n      <th>row2</th>\n      <td>3</td>\n      <td>4</td>\n      <td>5</td>\n    </tr>\n    <tr>\n      <th>row3</th>\n      <td>6</td>\n      <td>7</td>\n      <td>8</td>\n    </tr>\n  </tbody>\n</table>\n</div>"
     },
     "execution_count": 6,
     "metadata": {},
     "output_type": "execute_result"
    }
   ],
   "source": [
    "cols = []\n",
    "rows = []\n",
    "[rows.append(f'row{i + 1}') for i in range(3)] # you can also write ('row{a}'.format(a=i+1))\n",
    "[cols.append('column'+str(i+1)) for i in range(3)]\n",
    "             \n",
    "my_df.columns = cols\n",
    "my_df.index  = rows\n",
    "my_df"
   ]
  },
  {
   "cell_type": "markdown",
   "metadata": {
    "slideshow": {
     "slide_type": "slide"
    }
   },
   "source": [
    "## Method Chaining\n",
    "\n",
    "Make multiple operations in one line! Be careful that your code remains easy to read..."
   ]
  },
  {
   "cell_type": "code",
   "execution_count": 7,
   "metadata": {
    "scrolled": true,
    "slideshow": {
     "slide_type": "-"
    },
    "ExecuteTime": {
     "end_time": "2023-08-08T20:33:11.848626Z",
     "start_time": "2023-08-08T20:33:10.818684Z"
    }
   },
   "outputs": [
    {
     "data": {
      "text/plain": "   COL100  COL200  COL300  my_sum\n0       6       7       8      21\n1       3       4       5      12\n2       0       1       2       3",
      "text/html": "<div>\n<style scoped>\n    .dataframe tbody tr th:only-of-type {\n        vertical-align: middle;\n    }\n\n    .dataframe tbody tr th {\n        vertical-align: top;\n    }\n\n    .dataframe thead th {\n        text-align: right;\n    }\n</style>\n<table border=\"1\" class=\"dataframe\">\n  <thead>\n    <tr style=\"text-align: right;\">\n      <th></th>\n      <th>COL100</th>\n      <th>COL200</th>\n      <th>COL300</th>\n      <th>my_sum</th>\n    </tr>\n  </thead>\n  <tbody>\n    <tr>\n      <th>0</th>\n      <td>6</td>\n      <td>7</td>\n      <td>8</td>\n      <td>21</td>\n    </tr>\n    <tr>\n      <th>1</th>\n      <td>3</td>\n      <td>4</td>\n      <td>5</td>\n      <td>12</td>\n    </tr>\n    <tr>\n      <th>2</th>\n      <td>0</td>\n      <td>1</td>\n      <td>2</td>\n      <td>3</td>\n    </tr>\n  </tbody>\n</table>\n</div>"
     },
     "execution_count": 7,
     "metadata": {},
     "output_type": "execute_result"
    }
   ],
   "source": [
    "my_df_new = my_df\\\n",
    "                .rename(columns = {'column1': 'COL100', 'column2': 'COL200', 'column3': 'COL300'}) \\\n",
    "                .assign(my_sum = lambda my_df: my_df['COL100']+my_df['COL200']+my_df['COL300']) \\\n",
    "                .sort_values(by='my_sum', ascending = False) \\\n",
    "                .reset_index(drop=True)\n",
    "my_df_new"
   ]
  },
  {
   "cell_type": "code",
   "execution_count": 7,
   "metadata": {
    "ExecuteTime": {
     "end_time": "2023-08-08T20:33:11.848822Z",
     "start_time": "2023-08-08T20:33:10.822221Z"
    }
   },
   "outputs": [],
   "source": []
  },
  {
   "cell_type": "markdown",
   "metadata": {
    "slideshow": {
     "slide_type": "fragment"
    }
   },
   "source": [
    "What did that lambda function just do? Essentially, the idea is that it is a function that takes $\\textbf{x}$ as input (argument) and returns whatever we specificy (expression):"
   ]
  },
  {
   "cell_type": "code",
   "execution_count": 8,
   "metadata": {
    "ExecuteTime": {
     "end_time": "2023-08-08T20:33:11.849036Z",
     "start_time": "2023-08-08T20:33:10.824501Z"
    }
   },
   "outputs": [
    {
     "data": {
      "text/plain": "-3"
     },
     "execution_count": 8,
     "metadata": {},
     "output_type": "execute_result"
    }
   ],
   "source": [
    "func = lambda x1, x2, x3: x1+x2-2*x3\n",
    "func(1,2,3)"
   ]
  },
  {
   "cell_type": "markdown",
   "metadata": {},
   "source": [
    "Interested in learning more about lambda functions? Check this [post](https://stackabuse.com/lambda-functions-in-python/)"
   ]
  },
  {
   "cell_type": "markdown",
   "metadata": {
    "slideshow": {
     "slide_type": "fragment"
    }
   },
   "source": [
    "`.assign()` is then a method that creates a new column..."
   ]
  },
  {
   "cell_type": "markdown",
   "metadata": {
    "slideshow": {
     "slide_type": "slide"
    }
   },
   "source": [
    "# How to create and share a GitHub Repo with your group\n",
    "A step by step guide.."
   ]
  },
  {
   "cell_type": "markdown",
   "metadata": {
    "slideshow": {
     "slide_type": "-"
    }
   },
   "source": [
    "1. Go to GitHub and click \"Create new repository\": https://github.com/\n",
    " - Give it a name, description and make sure you tick on \"Public\"\n",
    " - Optional: Add a README file so the repo is not entirely empty. Makes it a little easier to see whether everything works or not when you clone the repo\n",
    "    \n",
    "2. Clone the repository to a local folder: Click Code -> Open with Github Desktop -> Select a new folder -> Clone\n",
    "\n",
    "3. You can now add files locally and push these to the remote github repo and vice versa\n",
    "\n",
    "4. To **share** the newly created repository with your group:\n",
    "  - Go to the Github repo: Settings -> Collaboraters -> Add people using their GitHub account names\n",
    "    \n",
    "5. The added people will receive an invitation:\n",
    " - Accept the invitation, and clone the repository to a local folder of your choice\n",
    " \n",
    "6. You are now ready to share documents with each other:\n",
    " - Try add an empty text-file to your local folder -> go to Github Desktop and commit/push the file\n",
    " - All the other group members should be able to pull this file using GitHub Desktop\n",
    " \n",
    "*Good practice:* Always pull before you push changes to ensure that your local copy is in sync with the remote repository."
   ]
  },
  {
   "cell_type": "markdown",
   "metadata": {
    "slideshow": {
     "slide_type": "slide"
    }
   },
   "source": [
    "# Today: More Structuring...\n",
    "\n",
    "In practice, you are rarely handed some data that are just ready for analysis. In particular, it may suffer from:"
   ]
  },
  {
   "cell_type": "markdown",
   "metadata": {
    "slideshow": {
     "slide_type": "fragment"
    }
   },
   "source": [
    "- Presence of missings and/or duplicated values:\n",
    "    - missing: Should we ignore? delete? replace (impute)? collect new data?\n",
    "        - Depends on the context!\n",
    "    - duplicated: Are they present? Should they be removed?\n",
    "        - Depends on the context!"
   ]
  },
  {
   "cell_type": "markdown",
   "metadata": {
    "slideshow": {
     "slide_type": "fragment"
    }
   },
   "source": [
    "- Your data comes in separate portions that must be combined:\n",
    "    - Vertical merge? Horizontal merge?\n",
    "    - On which keys? Inner or outer merge? "
   ]
  },
  {
   "cell_type": "markdown",
   "metadata": {
    "slideshow": {
     "slide_type": "fragment"
    }
   },
   "source": [
    "- Your data may have the different shape:\n",
    "    - What is a long format and a wide format?\n",
    "    - How to shift between the two?"
   ]
  },
  {
   "cell_type": "markdown",
   "metadata": {
    "slideshow": {
     "slide_type": "fragment"
    }
   },
   "source": [
    "- You may need some aggregate pieces of information on different subgroups?\n",
    "    - How to compute group-specific means, medians, variances, etc?"
   ]
  },
  {
   "cell_type": "markdown",
   "metadata": {
    "slideshow": {
     "slide_type": "slide"
    }
   },
   "source": [
    "## Associated Readings"
   ]
  },
  {
   "cell_type": "markdown",
   "metadata": {
    "slideshow": {
     "slide_type": "fragment"
    }
   },
   "source": [
    "PDA: Chapter 7: p. 203 - 211\n",
    "- Handling missing data and duplicates"
   ]
  },
  {
   "cell_type": "markdown",
   "metadata": {
    "slideshow": {
     "slide_type": "fragment"
    }
   },
   "source": [
    "PDA, chapter 8:\n",
    "- Hierarchical indexing\n",
    "- Combining and merging data\n",
    "- Reshaping your data"
   ]
  },
  {
   "cell_type": "markdown",
   "metadata": {
    "slideshow": {
     "slide_type": "fragment"
    }
   },
   "source": [
    "PDA, chapter 10:\n",
    "- Introducing `groupby` for data aggregation\n",
    "- Different ways of undertaking data aggregation\n",
    "- Introducing the *split-apply-combine*-method"
   ]
  },
  {
   "cell_type": "markdown",
   "metadata": {
    "slideshow": {
     "slide_type": "slide"
    }
   },
   "source": [
    "## Videos and Exercises\n",
    "\n",
    "Now proceed to the notebook with videos and exercises, where you will learn more about `pandas` and how to structure your data. In particular, you will be covering:\n",
    "\n",
    "1. Missings and Duplicated Data:\n",
    "    - Handling Missings: Delete or Interpolate?\n",
    "    - Spotting and Interpreting Duplicates\n",
    "2. Combining Data Sets:\n",
    "    - Intro to `merge`, `concat` and `join`\n",
    "    - Horizontal and Vertical Merging\n",
    "3. Split-Apply-Combine\n",
    "    - Finding Means and Other Characteristics from Data Subsets\n",
    "4. Rehaping Data\n",
    "    - Wide and Long Data\n",
    "    - Intro to `stack`"
   ]
  },
  {
   "cell_type": "markdown",
   "metadata": {
    "slideshow": {
     "slide_type": "fragment"
    }
   },
   "source": [
    "*But I'm nowhere near finished with module 2 :( ...*"
   ]
  },
  {
   "cell_type": "markdown",
   "metadata": {
    "slideshow": {
     "slide_type": "fragment"
    }
   },
   "source": [
    "Don't worry. You have time to continue today and catch up later this week!\n",
    "\n",
    "Solutions are also available on the site"
   ]
  },
  {
   "cell_type": "markdown",
   "metadata": {
    "slideshow": {
     "slide_type": "slide"
    }
   },
   "source": [
    "# VIDEO 3.1: Missing Data"
   ]
  },
  {
   "cell_type": "markdown",
   "metadata": {
    "slideshow": {
     "slide_type": "slide"
    }
   },
   "source": [
    "## Loading Stuff"
   ]
  },
  {
   "cell_type": "code",
   "execution_count": 9,
   "metadata": {
    "slideshow": {
     "slide_type": "-"
    },
    "ExecuteTime": {
     "end_time": "2023-08-08T20:33:11.892094Z",
     "start_time": "2023-08-08T20:33:10.927334Z"
    }
   },
   "outputs": [],
   "source": [
    "import numpy as np\n",
    "import pandas as pd\n",
    "import seaborn as sns\n",
    "\n",
    "tips = sns.load_dataset('tips')\n",
    "titanic = sns.load_dataset('titanic')"
   ]
  },
  {
   "cell_type": "markdown",
   "metadata": {
    "slideshow": {
     "slide_type": "slide"
    }
   },
   "source": [
    "## Representation of Missing Data\n",
    "*How can we think about missing data?*\n",
    "\n",
    "Missing data, i.e. empty observations:\n",
    "- In Python: `None`\n",
    "- In pandas: numpy's 'not a number' abbreviated with `NaN` or simply `nan`"
   ]
  },
  {
   "cell_type": "markdown",
   "metadata": {
    "slideshow": {
     "slide_type": "slide"
    }
   },
   "source": [
    "## Missing Data in Pandas\n",
    "*What does a DataFrame with missing data look like*"
   ]
  },
  {
   "cell_type": "code",
   "execution_count": 10,
   "metadata": {
    "slideshow": {
     "slide_type": "-"
    },
    "ExecuteTime": {
     "end_time": "2023-08-08T20:33:11.892533Z",
     "start_time": "2023-08-08T20:33:10.940427Z"
    }
   },
   "outputs": [
    {
     "data": {
      "text/plain": "   A    B    C\n0  0  NaN  1.0\n1  2  3.0  NaN\n2  4  5.0  6.0",
      "text/html": "<div>\n<style scoped>\n    .dataframe tbody tr th:only-of-type {\n        vertical-align: middle;\n    }\n\n    .dataframe tbody tr th {\n        vertical-align: top;\n    }\n\n    .dataframe thead th {\n        text-align: right;\n    }\n</style>\n<table border=\"1\" class=\"dataframe\">\n  <thead>\n    <tr style=\"text-align: right;\">\n      <th></th>\n      <th>A</th>\n      <th>B</th>\n      <th>C</th>\n    </tr>\n  </thead>\n  <tbody>\n    <tr>\n      <th>0</th>\n      <td>0</td>\n      <td>NaN</td>\n      <td>1.0</td>\n    </tr>\n    <tr>\n      <th>1</th>\n      <td>2</td>\n      <td>3.0</td>\n      <td>NaN</td>\n    </tr>\n    <tr>\n      <th>2</th>\n      <td>4</td>\n      <td>5.0</td>\n      <td>6.0</td>\n    </tr>\n  </tbody>\n</table>\n</div>"
     },
     "execution_count": 10,
     "metadata": {},
     "output_type": "execute_result"
    }
   ],
   "source": [
    "nan_data = [[0,np.nan,1],\\\n",
    "            [2,3,None],\\\n",
    "            [4,5,6]]\n",
    "\n",
    "nan_df = pd.DataFrame(nan_data, columns = ['A', 'B', 'C'])\n",
    "nan_df"
   ]
  },
  {
   "cell_type": "code",
   "execution_count": 11,
   "metadata": {
    "slideshow": {
     "slide_type": "-"
    },
    "ExecuteTime": {
     "end_time": "2023-08-08T20:33:11.892754Z",
     "start_time": "2023-08-08T20:33:10.944522Z"
    }
   },
   "outputs": [
    {
     "data": {
      "text/plain": "       A      B      C\n0  False   True  False\n1  False  False   True\n2  False  False  False",
      "text/html": "<div>\n<style scoped>\n    .dataframe tbody tr th:only-of-type {\n        vertical-align: middle;\n    }\n\n    .dataframe tbody tr th {\n        vertical-align: top;\n    }\n\n    .dataframe thead th {\n        text-align: right;\n    }\n</style>\n<table border=\"1\" class=\"dataframe\">\n  <thead>\n    <tr style=\"text-align: right;\">\n      <th></th>\n      <th>A</th>\n      <th>B</th>\n      <th>C</th>\n    </tr>\n  </thead>\n  <tbody>\n    <tr>\n      <th>0</th>\n      <td>False</td>\n      <td>True</td>\n      <td>False</td>\n    </tr>\n    <tr>\n      <th>1</th>\n      <td>False</td>\n      <td>False</td>\n      <td>True</td>\n    </tr>\n    <tr>\n      <th>2</th>\n      <td>False</td>\n      <td>False</td>\n      <td>False</td>\n    </tr>\n  </tbody>\n</table>\n</div>"
     },
     "execution_count": 11,
     "metadata": {},
     "output_type": "execute_result"
    }
   ],
   "source": [
    "nan_df.isnull()"
   ]
  },
  {
   "cell_type": "markdown",
   "metadata": {
    "slideshow": {
     "slide_type": "slide"
    }
   },
   "source": [
    "## Creating Missings (I/II)\n",
    "\n",
    "*Would we ever want to create missings?*"
   ]
  },
  {
   "cell_type": "markdown",
   "metadata": {
    "slideshow": {
     "slide_type": "fragment"
    }
   },
   "source": [
    "In the ideal world, no. In practice, yes:\n",
    "- Sometimes, missings are coded to a numerical value.\n",
    "- These can be very influential in your data analysis if not uncoverred.\n",
    "\n",
    "Example:"
   ]
  },
  {
   "cell_type": "code",
   "execution_count": 12,
   "metadata": {
    "slideshow": {
     "slide_type": "-"
    },
    "ExecuteTime": {
     "end_time": "2023-08-08T20:33:11.905296Z",
     "start_time": "2023-08-08T20:33:10.951588Z"
    }
   },
   "outputs": [
    {
     "data": {
      "text/plain": "   A       B       C\n0  0  999999       1\n1  2       3  999999\n2  4       5       6",
      "text/html": "<div>\n<style scoped>\n    .dataframe tbody tr th:only-of-type {\n        vertical-align: middle;\n    }\n\n    .dataframe tbody tr th {\n        vertical-align: top;\n    }\n\n    .dataframe thead th {\n        text-align: right;\n    }\n</style>\n<table border=\"1\" class=\"dataframe\">\n  <thead>\n    <tr style=\"text-align: right;\">\n      <th></th>\n      <th>A</th>\n      <th>B</th>\n      <th>C</th>\n    </tr>\n  </thead>\n  <tbody>\n    <tr>\n      <th>0</th>\n      <td>0</td>\n      <td>999999</td>\n      <td>1</td>\n    </tr>\n    <tr>\n      <th>1</th>\n      <td>2</td>\n      <td>3</td>\n      <td>999999</td>\n    </tr>\n    <tr>\n      <th>2</th>\n      <td>4</td>\n      <td>5</td>\n      <td>6</td>\n    </tr>\n  </tbody>\n</table>\n</div>"
     },
     "execution_count": 12,
     "metadata": {},
     "output_type": "execute_result"
    }
   ],
   "source": [
    "nan_data2 = [[0,999999,1],\\\n",
    "            [2,3,999999],\\\n",
    "            [4,5,6]]\n",
    "\n",
    "pd.DataFrame(nan_data2, columns = ['A', 'B', 'C'])"
   ]
  },
  {
   "cell_type": "markdown",
   "metadata": {
    "slideshow": {
     "slide_type": "slide"
    }
   },
   "source": [
    "## Creating Missings (II/II)\n",
    "\n",
    "The solutions is simple:"
   ]
  },
  {
   "cell_type": "code",
   "execution_count": 13,
   "metadata": {
    "scrolled": true,
    "slideshow": {
     "slide_type": "-"
    },
    "ExecuteTime": {
     "end_time": "2023-08-08T20:33:11.924318Z",
     "start_time": "2023-08-08T20:33:10.961593Z"
    }
   },
   "outputs": [
    {
     "data": {
      "text/plain": "   A    B    C\n0  0  NaN  1.0\n1  2  3.0  NaN\n2  4  5.0  6.0",
      "text/html": "<div>\n<style scoped>\n    .dataframe tbody tr th:only-of-type {\n        vertical-align: middle;\n    }\n\n    .dataframe tbody tr th {\n        vertical-align: top;\n    }\n\n    .dataframe thead th {\n        text-align: right;\n    }\n</style>\n<table border=\"1\" class=\"dataframe\">\n  <thead>\n    <tr style=\"text-align: right;\">\n      <th></th>\n      <th>A</th>\n      <th>B</th>\n      <th>C</th>\n    </tr>\n  </thead>\n  <tbody>\n    <tr>\n      <th>0</th>\n      <td>0</td>\n      <td>NaN</td>\n      <td>1.0</td>\n    </tr>\n    <tr>\n      <th>1</th>\n      <td>2</td>\n      <td>3.0</td>\n      <td>NaN</td>\n    </tr>\n    <tr>\n      <th>2</th>\n      <td>4</td>\n      <td>5.0</td>\n      <td>6.0</td>\n    </tr>\n  </tbody>\n</table>\n</div>"
     },
     "execution_count": 13,
     "metadata": {},
     "output_type": "execute_result"
    }
   ],
   "source": [
    "pd.DataFrame(nan_data2, columns = ['A', 'B', 'C']).replace(999999,np.NaN)"
   ]
  },
  {
   "cell_type": "markdown",
   "metadata": {
    "slideshow": {
     "slide_type": "slide"
    }
   },
   "source": [
    "## Imputing Missings\n",
    "*Are there ways to replace missings with values with pandas?*"
   ]
  },
  {
   "cell_type": "markdown",
   "metadata": {
    "slideshow": {
     "slide_type": "fragment"
    }
   },
   "source": [
    "Pandas can handle missings directly. Examples:"
   ]
  },
  {
   "cell_type": "code",
   "execution_count": 14,
   "metadata": {
    "slideshow": {
     "slide_type": "-"
    },
    "ExecuteTime": {
     "end_time": "2023-08-08T20:33:11.943899Z",
     "start_time": "2023-08-08T20:33:10.975262Z"
    }
   },
   "outputs": [
    {
     "data": {
      "text/plain": "   A    B    C\n0  0  3.0  1.0\n1  2  3.0  6.0\n2  4  5.0  6.0",
      "text/html": "<div>\n<style scoped>\n    .dataframe tbody tr th:only-of-type {\n        vertical-align: middle;\n    }\n\n    .dataframe tbody tr th {\n        vertical-align: top;\n    }\n\n    .dataframe thead th {\n        text-align: right;\n    }\n</style>\n<table border=\"1\" class=\"dataframe\">\n  <thead>\n    <tr style=\"text-align: right;\">\n      <th></th>\n      <th>A</th>\n      <th>B</th>\n      <th>C</th>\n    </tr>\n  </thead>\n  <tbody>\n    <tr>\n      <th>0</th>\n      <td>0</td>\n      <td>3.0</td>\n      <td>1.0</td>\n    </tr>\n    <tr>\n      <th>1</th>\n      <td>2</td>\n      <td>3.0</td>\n      <td>6.0</td>\n    </tr>\n    <tr>\n      <th>2</th>\n      <td>4</td>\n      <td>5.0</td>\n      <td>6.0</td>\n    </tr>\n  </tbody>\n</table>\n</div>"
     },
     "execution_count": 14,
     "metadata": {},
     "output_type": "execute_result"
    }
   ],
   "source": [
    "nan_df.fillna(method='bfill') # can also use 'ffill'"
   ]
  },
  {
   "cell_type": "code",
   "execution_count": 15,
   "metadata": {
    "slideshow": {
     "slide_type": "-"
    },
    "ExecuteTime": {
     "end_time": "2023-08-08T20:33:11.944137Z",
     "start_time": "2023-08-08T20:33:10.977566Z"
    }
   },
   "outputs": [
    {
     "data": {
      "text/plain": "   A    B    C\n0  0  4.0  1.0\n1  2  3.0  3.5\n2  4  5.0  6.0",
      "text/html": "<div>\n<style scoped>\n    .dataframe tbody tr th:only-of-type {\n        vertical-align: middle;\n    }\n\n    .dataframe tbody tr th {\n        vertical-align: top;\n    }\n\n    .dataframe thead th {\n        text-align: right;\n    }\n</style>\n<table border=\"1\" class=\"dataframe\">\n  <thead>\n    <tr style=\"text-align: right;\">\n      <th></th>\n      <th>A</th>\n      <th>B</th>\n      <th>C</th>\n    </tr>\n  </thead>\n  <tbody>\n    <tr>\n      <th>0</th>\n      <td>0</td>\n      <td>4.0</td>\n      <td>1.0</td>\n    </tr>\n    <tr>\n      <th>1</th>\n      <td>2</td>\n      <td>3.0</td>\n      <td>3.5</td>\n    </tr>\n    <tr>\n      <th>2</th>\n      <td>4</td>\n      <td>5.0</td>\n      <td>6.0</td>\n    </tr>\n  </tbody>\n</table>\n</div>"
     },
     "execution_count": 15,
     "metadata": {},
     "output_type": "execute_result"
    }
   ],
   "source": [
    "nan_df.fillna(nan_df.mean())"
   ]
  },
  {
   "cell_type": "markdown",
   "metadata": {
    "slideshow": {
     "slide_type": "fragment"
    }
   },
   "source": [
    "*Note:* You want to be careful with this!"
   ]
  },
  {
   "cell_type": "markdown",
   "metadata": {
    "slideshow": {
     "slide_type": "slide"
    }
   },
   "source": [
    "## Dropping Missings\n",
    "*Are there also ways to simply drop missings with pandas?*"
   ]
  },
  {
   "cell_type": "markdown",
   "metadata": {
    "slideshow": {
     "slide_type": "fragment"
    }
   },
   "source": [
    "Yes, this is fortunately easy. Use the `.dropna()` feature in pandas:\n",
    "- Remember to drop along the right axis."
   ]
  },
  {
   "cell_type": "code",
   "execution_count": 16,
   "metadata": {
    "ExecuteTime": {
     "end_time": "2023-08-08T20:33:11.985876Z",
     "start_time": "2023-08-08T20:33:10.995707Z"
    }
   },
   "outputs": [
    {
     "data": {
      "text/plain": "   A    B    C\n0  0  NaN  1.0\n1  2  3.0  NaN\n2  4  5.0  6.0",
      "text/html": "<div>\n<style scoped>\n    .dataframe tbody tr th:only-of-type {\n        vertical-align: middle;\n    }\n\n    .dataframe tbody tr th {\n        vertical-align: top;\n    }\n\n    .dataframe thead th {\n        text-align: right;\n    }\n</style>\n<table border=\"1\" class=\"dataframe\">\n  <thead>\n    <tr style=\"text-align: right;\">\n      <th></th>\n      <th>A</th>\n      <th>B</th>\n      <th>C</th>\n    </tr>\n  </thead>\n  <tbody>\n    <tr>\n      <th>0</th>\n      <td>0</td>\n      <td>NaN</td>\n      <td>1.0</td>\n    </tr>\n    <tr>\n      <th>1</th>\n      <td>2</td>\n      <td>3.0</td>\n      <td>NaN</td>\n    </tr>\n    <tr>\n      <th>2</th>\n      <td>4</td>\n      <td>5.0</td>\n      <td>6.0</td>\n    </tr>\n  </tbody>\n</table>\n</div>"
     },
     "execution_count": 16,
     "metadata": {},
     "output_type": "execute_result"
    }
   ],
   "source": [
    "nan_df"
   ]
  },
  {
   "cell_type": "code",
   "execution_count": 17,
   "metadata": {
    "slideshow": {
     "slide_type": "-"
    },
    "ExecuteTime": {
     "end_time": "2023-08-08T20:33:11.986175Z",
     "start_time": "2023-08-08T20:33:10.999712Z"
    }
   },
   "outputs": [
    {
     "data": {
      "text/plain": "   A    B    C\n2  4  5.0  6.0",
      "text/html": "<div>\n<style scoped>\n    .dataframe tbody tr th:only-of-type {\n        vertical-align: middle;\n    }\n\n    .dataframe tbody tr th {\n        vertical-align: top;\n    }\n\n    .dataframe thead th {\n        text-align: right;\n    }\n</style>\n<table border=\"1\" class=\"dataframe\">\n  <thead>\n    <tr style=\"text-align: right;\">\n      <th></th>\n      <th>A</th>\n      <th>B</th>\n      <th>C</th>\n    </tr>\n  </thead>\n  <tbody>\n    <tr>\n      <th>2</th>\n      <td>4</td>\n      <td>5.0</td>\n      <td>6.0</td>\n    </tr>\n  </tbody>\n</table>\n</div>"
     },
     "execution_count": 17,
     "metadata": {},
     "output_type": "execute_result"
    }
   ],
   "source": [
    "nan_df.dropna(axis=\"rows\") # , thresh=2"
   ]
  },
  {
   "cell_type": "code",
   "execution_count": 18,
   "metadata": {
    "slideshow": {
     "slide_type": "-"
    },
    "ExecuteTime": {
     "end_time": "2023-08-08T20:33:11.986422Z",
     "start_time": "2023-08-08T20:33:11.002929Z"
    }
   },
   "outputs": [
    {
     "data": {
      "text/plain": "   A\n0  0\n1  2\n2  4",
      "text/html": "<div>\n<style scoped>\n    .dataframe tbody tr th:only-of-type {\n        vertical-align: middle;\n    }\n\n    .dataframe tbody tr th {\n        vertical-align: top;\n    }\n\n    .dataframe thead th {\n        text-align: right;\n    }\n</style>\n<table border=\"1\" class=\"dataframe\">\n  <thead>\n    <tr style=\"text-align: right;\">\n      <th></th>\n      <th>A</th>\n    </tr>\n  </thead>\n  <tbody>\n    <tr>\n      <th>0</th>\n      <td>0</td>\n    </tr>\n    <tr>\n      <th>1</th>\n      <td>2</td>\n    </tr>\n    <tr>\n      <th>2</th>\n      <td>4</td>\n    </tr>\n  </tbody>\n</table>\n</div>"
     },
     "execution_count": 18,
     "metadata": {},
     "output_type": "execute_result"
    }
   ],
   "source": [
    "nan_df.dropna(axis=\"columns\")"
   ]
  },
  {
   "cell_type": "markdown",
   "metadata": {
    "slideshow": {
     "slide_type": "fragment"
    }
   },
   "source": [
    "*Note:* For practical purposes, you risk dropping too many observations here! You can consider dropping columns that contains many missing values instead"
   ]
  },
  {
   "cell_type": "markdown",
   "metadata": {
    "slideshow": {
     "slide_type": "slide"
    }
   },
   "source": [
    "# VIDEO 3.2: Duplicated Data"
   ]
  },
  {
   "cell_type": "markdown",
   "metadata": {
    "slideshow": {
     "slide_type": "slide"
    }
   },
   "source": [
    "## Duplicates: A Definition\n",
    "*What does it mean that there are duplicates in the data?*\n",
    "\n",
    "Slightly tricky to define:\n",
    "- More than one entry where there should in fact be only one.\n",
    "- If for a certain set of variables, a combination is repeated."
   ]
  },
  {
   "cell_type": "markdown",
   "metadata": {
    "slideshow": {
     "slide_type": "fragment"
    }
   },
   "source": [
    "In practice, it requires some understanding of your data:\n",
    "- Two observations are identical: Is this a duplicate, or is it truly because 'occurance happened twice'?\n",
    "- In income registries from DK: One individual should not show up more than once per year in the data."
   ]
  },
  {
   "cell_type": "markdown",
   "metadata": {
    "slideshow": {
     "slide_type": "slide"
    }
   },
   "source": [
    "## Handling Duplicates (I/II)\n",
    "*In practice, what could a duplicate look like?*"
   ]
  },
  {
   "cell_type": "markdown",
   "metadata": {
    "slideshow": {
     "slide_type": "fragment"
    }
   },
   "source": [
    "Let's revisit our categorical education data:"
   ]
  },
  {
   "cell_type": "code",
   "execution_count": 19,
   "metadata": {
    "ExecuteTime": {
     "end_time": "2023-08-08T20:33:12.036666Z",
     "start_time": "2023-08-08T20:33:11.029582Z"
    }
   },
   "outputs": [
    {
     "data": {
      "text/plain": "0      Primary School\n1    Secondary School\n2         High School\n3         High School\n4      Primary School\ndtype: object"
     },
     "execution_count": 19,
     "metadata": {},
     "output_type": "execute_result"
    }
   ],
   "source": [
    "edu_list = ['Primary School', 'Secondary School'] + ['High School']*2\n",
    "str_ser = pd.Series(edu_list*10**5)\n",
    "\n",
    "str_ser.head(5)"
   ]
  },
  {
   "cell_type": "markdown",
   "metadata": {
    "slideshow": {
     "slide_type": "fragment"
    }
   },
   "source": [
    "Now, let's see what is duplicated:"
   ]
  },
  {
   "cell_type": "code",
   "execution_count": 20,
   "metadata": {
    "ExecuteTime": {
     "end_time": "2023-08-08T20:33:12.036936Z",
     "start_time": "2023-08-08T20:33:11.043029Z"
    }
   },
   "outputs": [
    {
     "data": {
      "text/plain": "0    False\n1    False\n2    False\n3     True\n4     True\ndtype: bool"
     },
     "execution_count": 20,
     "metadata": {},
     "output_type": "execute_result"
    }
   ],
   "source": [
    "str_ser.duplicated().head(5) # can also specify: \", keep='last'\""
   ]
  },
  {
   "cell_type": "markdown",
   "metadata": {
    "slideshow": {
     "slide_type": "slide"
    }
   },
   "source": [
    "## Handling Duplicates (II/II)\n",
    "*How do we drop duplicates?*"
   ]
  },
  {
   "cell_type": "markdown",
   "metadata": {
    "slideshow": {
     "slide_type": "fragment"
    }
   },
   "source": [
    "Simply use the `.drop_duplicates()` method."
   ]
  },
  {
   "cell_type": "code",
   "execution_count": 21,
   "metadata": {
    "ExecuteTime": {
     "end_time": "2023-08-08T20:33:12.047544Z",
     "start_time": "2023-08-08T20:33:11.049741Z"
    }
   },
   "outputs": [
    {
     "data": {
      "text/plain": "0      Primary School\n1    Secondary School\n2         High School\ndtype: object"
     },
     "execution_count": 21,
     "metadata": {},
     "output_type": "execute_result"
    }
   ],
   "source": [
    "str_ser.drop_duplicates()"
   ]
  },
  {
   "cell_type": "markdown",
   "metadata": {
    "slideshow": {
     "slide_type": "slide"
    }
   },
   "source": [
    "## Multiple Variables (I/II)\n",
    "*How do we drop duplicates when we have multiple variables (e.g. persons and years)?*"
   ]
  },
  {
   "cell_type": "markdown",
   "metadata": {
    "slideshow": {
     "slide_type": "fragment"
    }
   },
   "source": [
    "Simulate an additional binary variable for purposes of illustration:"
   ]
  },
  {
   "cell_type": "code",
   "execution_count": 22,
   "metadata": {
    "ExecuteTime": {
     "end_time": "2023-08-08T20:33:12.067489Z",
     "start_time": "2023-08-08T20:33:11.060591Z"
    }
   },
   "outputs": [
    {
     "data": {
      "text/plain": "                edu  num\n0    Primary School  1.0\n1  Secondary School  0.0\n2       High School  1.0\n3       High School  0.0\n4    Primary School  0.0\n5  Secondary School  1.0\n6       High School  1.0\n7       High School  1.0\n8    Primary School  0.0\n9  Secondary School  0.0",
      "text/html": "<div>\n<style scoped>\n    .dataframe tbody tr th:only-of-type {\n        vertical-align: middle;\n    }\n\n    .dataframe tbody tr th {\n        vertical-align: top;\n    }\n\n    .dataframe thead th {\n        text-align: right;\n    }\n</style>\n<table border=\"1\" class=\"dataframe\">\n  <thead>\n    <tr style=\"text-align: right;\">\n      <th></th>\n      <th>edu</th>\n      <th>num</th>\n    </tr>\n  </thead>\n  <tbody>\n    <tr>\n      <th>0</th>\n      <td>Primary School</td>\n      <td>1.0</td>\n    </tr>\n    <tr>\n      <th>1</th>\n      <td>Secondary School</td>\n      <td>0.0</td>\n    </tr>\n    <tr>\n      <th>2</th>\n      <td>High School</td>\n      <td>1.0</td>\n    </tr>\n    <tr>\n      <th>3</th>\n      <td>High School</td>\n      <td>0.0</td>\n    </tr>\n    <tr>\n      <th>4</th>\n      <td>Primary School</td>\n      <td>0.0</td>\n    </tr>\n    <tr>\n      <th>5</th>\n      <td>Secondary School</td>\n      <td>1.0</td>\n    </tr>\n    <tr>\n      <th>6</th>\n      <td>High School</td>\n      <td>1.0</td>\n    </tr>\n    <tr>\n      <th>7</th>\n      <td>High School</td>\n      <td>1.0</td>\n    </tr>\n    <tr>\n      <th>8</th>\n      <td>Primary School</td>\n      <td>0.0</td>\n    </tr>\n    <tr>\n      <th>9</th>\n      <td>Secondary School</td>\n      <td>0.0</td>\n    </tr>\n  </tbody>\n</table>\n</div>"
     },
     "execution_count": 22,
     "metadata": {},
     "output_type": "execute_result"
    }
   ],
   "source": [
    "edu_df = pd.DataFrame({'edu': edu_list*10**5, 'num': np.round(np.random.rand(4*10**5),0)})\n",
    "edu_df.head(10)"
   ]
  },
  {
   "cell_type": "markdown",
   "metadata": {
    "slideshow": {
     "slide_type": "slide"
    }
   },
   "source": [
    "## Multiple Variables (II/II)\n",
    "Now, specify the combination of columns for which we require unique values when dropping:"
   ]
  },
  {
   "cell_type": "code",
   "execution_count": 23,
   "metadata": {
    "ExecuteTime": {
     "end_time": "2023-08-08T20:33:12.074355Z",
     "start_time": "2023-08-08T20:33:11.079388Z"
    }
   },
   "outputs": [
    {
     "data": {
      "text/plain": "                edu  num\n0    Primary School  1.0\n1  Secondary School  0.0\n2       High School  1.0\n3       High School  0.0\n4    Primary School  0.0\n5  Secondary School  1.0",
      "text/html": "<div>\n<style scoped>\n    .dataframe tbody tr th:only-of-type {\n        vertical-align: middle;\n    }\n\n    .dataframe tbody tr th {\n        vertical-align: top;\n    }\n\n    .dataframe thead th {\n        text-align: right;\n    }\n</style>\n<table border=\"1\" class=\"dataframe\">\n  <thead>\n    <tr style=\"text-align: right;\">\n      <th></th>\n      <th>edu</th>\n      <th>num</th>\n    </tr>\n  </thead>\n  <tbody>\n    <tr>\n      <th>0</th>\n      <td>Primary School</td>\n      <td>1.0</td>\n    </tr>\n    <tr>\n      <th>1</th>\n      <td>Secondary School</td>\n      <td>0.0</td>\n    </tr>\n    <tr>\n      <th>2</th>\n      <td>High School</td>\n      <td>1.0</td>\n    </tr>\n    <tr>\n      <th>3</th>\n      <td>High School</td>\n      <td>0.0</td>\n    </tr>\n    <tr>\n      <th>4</th>\n      <td>Primary School</td>\n      <td>0.0</td>\n    </tr>\n    <tr>\n      <th>5</th>\n      <td>Secondary School</td>\n      <td>1.0</td>\n    </tr>\n  </tbody>\n</table>\n</div>"
     },
     "execution_count": 23,
     "metadata": {},
     "output_type": "execute_result"
    }
   ],
   "source": [
    "edu_df.drop_duplicates(['edu', 'num'], keep='first')"
   ]
  },
  {
   "cell_type": "markdown",
   "metadata": {
    "slideshow": {
     "slide_type": "slide"
    }
   },
   "source": [
    "# VIDEO 3.3: Joining DataFrames"
   ]
  },
  {
   "cell_type": "markdown",
   "metadata": {
    "slideshow": {
     "slide_type": "slide"
    }
   },
   "source": [
    "## Joining DataFrames\n",
    "\n",
    "Until now, we've worked with one DataFrame at a time:\n",
    "- with the exception of `concat` in Assignment 0\n",
    "\n",
    "We will now learn more about putting DataFrames together."
   ]
  },
  {
   "cell_type": "markdown",
   "metadata": {
    "slideshow": {
     "slide_type": "fragment"
    }
   },
   "source": [
    "For the following, we use the multi column display from Jake van der Plaas [here](https://jakevdp.github.io/PythonDataScienceHandbook/03.07-merge-and-join.html)."
   ]
  },
  {
   "cell_type": "code",
   "execution_count": 24,
   "metadata": {
    "slideshow": {
     "slide_type": "-"
    },
    "ExecuteTime": {
     "end_time": "2023-08-08T20:33:12.084261Z",
     "start_time": "2023-08-08T20:33:11.101814Z"
    }
   },
   "outputs": [],
   "source": [
    "class display(object):\n",
    "    \"\"\"Display HTML representation of multiple objects\"\"\"\n",
    "    template = \"\"\"<div style=\"float: left; padding: 10px;\">\n",
    "    <p style='font-family:\"Courier New\", Courier, monospace'>{0}</p>{1}\n",
    "    </div>\"\"\"\n",
    "    def __init__(self, *args):\n",
    "        self.args = args\n",
    "        \n",
    "    def _repr_html_(self):\n",
    "        return '\\n'.join(self.template.format(a, eval(a)._repr_html_())\n",
    "                         for a in self.args)\n",
    "    \n",
    "    def __repr__(self):\n",
    "        return '\\n\\n'.join(a + '\\n' + repr(eval(a))\n",
    "                           for a in self.args)\n"
   ]
  },
  {
   "cell_type": "markdown",
   "metadata": {
    "slideshow": {
     "slide_type": "slide"
    }
   },
   "source": [
    "## Some DataFrames\n",
    "Let's make some data to play with. Here, use `dict` approach:"
   ]
  },
  {
   "cell_type": "code",
   "execution_count": 25,
   "metadata": {
    "slideshow": {
     "slide_type": "-"
    },
    "ExecuteTime": {
     "end_time": "2023-08-08T20:33:12.084647Z",
     "start_time": "2023-08-08T20:33:11.105098Z"
    }
   },
   "outputs": [
    {
     "data": {
      "text/plain": "left\n  key  value_left\n0   A           0\n1   B           1\n2   C           2\n3   D           3\n\nright\n  key  value_right\n0   C            4\n1   D            5\n2   E            6\n3   F            7",
      "text/html": "<div style=\"float: left; padding: 10px;\">\n    <p style='font-family:\"Courier New\", Courier, monospace'>left</p><div>\n<style scoped>\n    .dataframe tbody tr th:only-of-type {\n        vertical-align: middle;\n    }\n\n    .dataframe tbody tr th {\n        vertical-align: top;\n    }\n\n    .dataframe thead th {\n        text-align: right;\n    }\n</style>\n<table border=\"1\" class=\"dataframe\">\n  <thead>\n    <tr style=\"text-align: right;\">\n      <th></th>\n      <th>key</th>\n      <th>value_left</th>\n    </tr>\n  </thead>\n  <tbody>\n    <tr>\n      <th>0</th>\n      <td>A</td>\n      <td>0</td>\n    </tr>\n    <tr>\n      <th>1</th>\n      <td>B</td>\n      <td>1</td>\n    </tr>\n    <tr>\n      <th>2</th>\n      <td>C</td>\n      <td>2</td>\n    </tr>\n    <tr>\n      <th>3</th>\n      <td>D</td>\n      <td>3</td>\n    </tr>\n  </tbody>\n</table>\n</div>\n    </div>\n<div style=\"float: left; padding: 10px;\">\n    <p style='font-family:\"Courier New\", Courier, monospace'>right</p><div>\n<style scoped>\n    .dataframe tbody tr th:only-of-type {\n        vertical-align: middle;\n    }\n\n    .dataframe tbody tr th {\n        vertical-align: top;\n    }\n\n    .dataframe thead th {\n        text-align: right;\n    }\n</style>\n<table border=\"1\" class=\"dataframe\">\n  <thead>\n    <tr style=\"text-align: right;\">\n      <th></th>\n      <th>key</th>\n      <th>value_right</th>\n    </tr>\n  </thead>\n  <tbody>\n    <tr>\n      <th>0</th>\n      <td>C</td>\n      <td>4</td>\n    </tr>\n    <tr>\n      <th>1</th>\n      <td>D</td>\n      <td>5</td>\n    </tr>\n    <tr>\n      <th>2</th>\n      <td>E</td>\n      <td>6</td>\n    </tr>\n    <tr>\n      <th>3</th>\n      <td>F</td>\n      <td>7</td>\n    </tr>\n  </tbody>\n</table>\n</div>\n    </div>"
     },
     "execution_count": 25,
     "metadata": {},
     "output_type": "execute_result"
    }
   ],
   "source": [
    "left = pd.DataFrame({'key': ['A', 'B', 'C', 'D'], 'value_left': range(4)})    \n",
    "right = pd.DataFrame({'key': ['C', 'D', 'E', 'F'], 'value_right': range(4,8)})\n",
    "display('left', 'right')\n"
   ]
  },
  {
   "cell_type": "markdown",
   "metadata": {
    "slideshow": {
     "slide_type": "slide"
    }
   },
   "source": [
    "## Merging Data\n",
    "The forthcoming figures all follow this convention:\n",
    "\n",
    "-  <font color=\"blue\">blue</font>: rows in merge output\n",
    "-  <font color=\"red\">red</font>: rows excluded from output (i.e., removed)\n",
    "-  <font color=\"green\">green</font>: missing values replaced with NaNs \n",
    "\n",
    "We use `merge` which is pandas function and a method for dataframes."
   ]
  },
  {
   "cell_type": "markdown",
   "metadata": {
    "slideshow": {
     "slide_type": "slide"
    }
   },
   "source": [
    "## Inner Merge (default)\n",
    "This merge only uses only *shared* keys"
   ]
  },
  {
   "cell_type": "code",
   "execution_count": 26,
   "metadata": {
    "scrolled": true,
    "ExecuteTime": {
     "end_time": "2023-08-08T20:33:12.101813Z",
     "start_time": "2023-08-08T20:33:11.121614Z"
    }
   },
   "outputs": [
    {
     "data": {
      "text/plain": "left\n  key  value_left\n0   A           0\n1   B           1\n2   C           2\n3   D           3\n\nright\n  key  value_right\n0   C            4\n1   D            5\n2   E            6\n3   F            7",
      "text/html": "<div style=\"float: left; padding: 10px;\">\n    <p style='font-family:\"Courier New\", Courier, monospace'>left</p><div>\n<style scoped>\n    .dataframe tbody tr th:only-of-type {\n        vertical-align: middle;\n    }\n\n    .dataframe tbody tr th {\n        vertical-align: top;\n    }\n\n    .dataframe thead th {\n        text-align: right;\n    }\n</style>\n<table border=\"1\" class=\"dataframe\">\n  <thead>\n    <tr style=\"text-align: right;\">\n      <th></th>\n      <th>key</th>\n      <th>value_left</th>\n    </tr>\n  </thead>\n  <tbody>\n    <tr>\n      <th>0</th>\n      <td>A</td>\n      <td>0</td>\n    </tr>\n    <tr>\n      <th>1</th>\n      <td>B</td>\n      <td>1</td>\n    </tr>\n    <tr>\n      <th>2</th>\n      <td>C</td>\n      <td>2</td>\n    </tr>\n    <tr>\n      <th>3</th>\n      <td>D</td>\n      <td>3</td>\n    </tr>\n  </tbody>\n</table>\n</div>\n    </div>\n<div style=\"float: left; padding: 10px;\">\n    <p style='font-family:\"Courier New\", Courier, monospace'>right</p><div>\n<style scoped>\n    .dataframe tbody tr th:only-of-type {\n        vertical-align: middle;\n    }\n\n    .dataframe tbody tr th {\n        vertical-align: top;\n    }\n\n    .dataframe thead th {\n        text-align: right;\n    }\n</style>\n<table border=\"1\" class=\"dataframe\">\n  <thead>\n    <tr style=\"text-align: right;\">\n      <th></th>\n      <th>key</th>\n      <th>value_right</th>\n    </tr>\n  </thead>\n  <tbody>\n    <tr>\n      <th>0</th>\n      <td>C</td>\n      <td>4</td>\n    </tr>\n    <tr>\n      <th>1</th>\n      <td>D</td>\n      <td>5</td>\n    </tr>\n    <tr>\n      <th>2</th>\n      <td>E</td>\n      <td>6</td>\n    </tr>\n    <tr>\n      <th>3</th>\n      <td>F</td>\n      <td>7</td>\n    </tr>\n  </tbody>\n</table>\n</div>\n    </div>"
     },
     "execution_count": 26,
     "metadata": {},
     "output_type": "execute_result"
    }
   ],
   "source": [
    "display('left', 'right')"
   ]
  },
  {
   "cell_type": "code",
   "execution_count": 27,
   "metadata": {
    "slideshow": {
     "slide_type": "-"
    },
    "ExecuteTime": {
     "end_time": "2023-08-08T20:33:12.102037Z",
     "start_time": "2023-08-08T20:33:11.127728Z"
    }
   },
   "outputs": [
    {
     "data": {
      "text/plain": "  key  value_left  value_right\n0   C           2            4\n1   D           3            5",
      "text/html": "<div>\n<style scoped>\n    .dataframe tbody tr th:only-of-type {\n        vertical-align: middle;\n    }\n\n    .dataframe tbody tr th {\n        vertical-align: top;\n    }\n\n    .dataframe thead th {\n        text-align: right;\n    }\n</style>\n<table border=\"1\" class=\"dataframe\">\n  <thead>\n    <tr style=\"text-align: right;\">\n      <th></th>\n      <th>key</th>\n      <th>value_left</th>\n      <th>value_right</th>\n    </tr>\n  </thead>\n  <tbody>\n    <tr>\n      <th>0</th>\n      <td>C</td>\n      <td>2</td>\n      <td>4</td>\n    </tr>\n    <tr>\n      <th>1</th>\n      <td>D</td>\n      <td>3</td>\n      <td>5</td>\n    </tr>\n  </tbody>\n</table>\n</div>"
     },
     "execution_count": 27,
     "metadata": {},
     "output_type": "execute_result"
    }
   ],
   "source": [
    "inner_merge = pd.merge(left, right, on='key', how='inner')\n",
    "inner_merge"
   ]
  },
  {
   "cell_type": "markdown",
   "metadata": {
    "slideshow": {
     "slide_type": "-"
    }
   },
   "source": [
    "<center><img src='https://i.stack.imgur.com/YvuOa.png' alt=\"Drawing\" style=\"width: 400;\"/></center>"
   ]
  },
  {
   "cell_type": "markdown",
   "metadata": {
    "slideshow": {
     "slide_type": "slide"
    }
   },
   "source": [
    "## Left Merge\n",
    "This merge uses only *left* keys"
   ]
  },
  {
   "cell_type": "code",
   "execution_count": 28,
   "metadata": {
    "ExecuteTime": {
     "end_time": "2023-08-08T20:33:12.121622Z",
     "start_time": "2023-08-08T20:33:11.132823Z"
    }
   },
   "outputs": [
    {
     "data": {
      "text/plain": "left\n  key  value_left\n0   A           0\n1   B           1\n2   C           2\n3   D           3\n\nright\n  key  value_right\n0   C            4\n1   D            5\n2   E            6\n3   F            7",
      "text/html": "<div style=\"float: left; padding: 10px;\">\n    <p style='font-family:\"Courier New\", Courier, monospace'>left</p><div>\n<style scoped>\n    .dataframe tbody tr th:only-of-type {\n        vertical-align: middle;\n    }\n\n    .dataframe tbody tr th {\n        vertical-align: top;\n    }\n\n    .dataframe thead th {\n        text-align: right;\n    }\n</style>\n<table border=\"1\" class=\"dataframe\">\n  <thead>\n    <tr style=\"text-align: right;\">\n      <th></th>\n      <th>key</th>\n      <th>value_left</th>\n    </tr>\n  </thead>\n  <tbody>\n    <tr>\n      <th>0</th>\n      <td>A</td>\n      <td>0</td>\n    </tr>\n    <tr>\n      <th>1</th>\n      <td>B</td>\n      <td>1</td>\n    </tr>\n    <tr>\n      <th>2</th>\n      <td>C</td>\n      <td>2</td>\n    </tr>\n    <tr>\n      <th>3</th>\n      <td>D</td>\n      <td>3</td>\n    </tr>\n  </tbody>\n</table>\n</div>\n    </div>\n<div style=\"float: left; padding: 10px;\">\n    <p style='font-family:\"Courier New\", Courier, monospace'>right</p><div>\n<style scoped>\n    .dataframe tbody tr th:only-of-type {\n        vertical-align: middle;\n    }\n\n    .dataframe tbody tr th {\n        vertical-align: top;\n    }\n\n    .dataframe thead th {\n        text-align: right;\n    }\n</style>\n<table border=\"1\" class=\"dataframe\">\n  <thead>\n    <tr style=\"text-align: right;\">\n      <th></th>\n      <th>key</th>\n      <th>value_right</th>\n    </tr>\n  </thead>\n  <tbody>\n    <tr>\n      <th>0</th>\n      <td>C</td>\n      <td>4</td>\n    </tr>\n    <tr>\n      <th>1</th>\n      <td>D</td>\n      <td>5</td>\n    </tr>\n    <tr>\n      <th>2</th>\n      <td>E</td>\n      <td>6</td>\n    </tr>\n    <tr>\n      <th>3</th>\n      <td>F</td>\n      <td>7</td>\n    </tr>\n  </tbody>\n</table>\n</div>\n    </div>"
     },
     "execution_count": 28,
     "metadata": {},
     "output_type": "execute_result"
    }
   ],
   "source": [
    "display('left', 'right')"
   ]
  },
  {
   "cell_type": "code",
   "execution_count": 29,
   "metadata": {
    "slideshow": {
     "slide_type": "-"
    },
    "ExecuteTime": {
     "end_time": "2023-08-08T20:33:12.121876Z",
     "start_time": "2023-08-08T20:33:11.135303Z"
    }
   },
   "outputs": [
    {
     "data": {
      "text/plain": "  key  value_left  value_right\n0   A           0          NaN\n1   B           1          NaN\n2   C           2          4.0\n3   D           3          5.0",
      "text/html": "<div>\n<style scoped>\n    .dataframe tbody tr th:only-of-type {\n        vertical-align: middle;\n    }\n\n    .dataframe tbody tr th {\n        vertical-align: top;\n    }\n\n    .dataframe thead th {\n        text-align: right;\n    }\n</style>\n<table border=\"1\" class=\"dataframe\">\n  <thead>\n    <tr style=\"text-align: right;\">\n      <th></th>\n      <th>key</th>\n      <th>value_left</th>\n      <th>value_right</th>\n    </tr>\n  </thead>\n  <tbody>\n    <tr>\n      <th>0</th>\n      <td>A</td>\n      <td>0</td>\n      <td>NaN</td>\n    </tr>\n    <tr>\n      <th>1</th>\n      <td>B</td>\n      <td>1</td>\n      <td>NaN</td>\n    </tr>\n    <tr>\n      <th>2</th>\n      <td>C</td>\n      <td>2</td>\n      <td>4.0</td>\n    </tr>\n    <tr>\n      <th>3</th>\n      <td>D</td>\n      <td>3</td>\n      <td>5.0</td>\n    </tr>\n  </tbody>\n</table>\n</div>"
     },
     "execution_count": 29,
     "metadata": {},
     "output_type": "execute_result"
    }
   ],
   "source": [
    "left_merge = pd.merge(left, right, on='key', how='left')\n",
    "left_merge\n"
   ]
  },
  {
   "cell_type": "markdown",
   "metadata": {
    "slideshow": {
     "slide_type": "-"
    }
   },
   "source": [
    "<center><img src='https://i.stack.imgur.com/BECid.png' alt=\"Drawing\" style=\"width: 400px;\"/></center>"
   ]
  },
  {
   "cell_type": "markdown",
   "metadata": {
    "slideshow": {
     "slide_type": "slide"
    }
   },
   "source": [
    "## Right Merge\n",
    "This merge uses only *right* keys (pretty redundant...)"
   ]
  },
  {
   "cell_type": "code",
   "execution_count": 30,
   "metadata": {
    "ExecuteTime": {
     "end_time": "2023-08-08T20:33:12.138648Z",
     "start_time": "2023-08-08T20:33:11.144254Z"
    }
   },
   "outputs": [
    {
     "data": {
      "text/plain": "left\n  key  value_left\n0   A           0\n1   B           1\n2   C           2\n3   D           3\n\nright\n  key  value_right\n0   C            4\n1   D            5\n2   E            6\n3   F            7",
      "text/html": "<div style=\"float: left; padding: 10px;\">\n    <p style='font-family:\"Courier New\", Courier, monospace'>left</p><div>\n<style scoped>\n    .dataframe tbody tr th:only-of-type {\n        vertical-align: middle;\n    }\n\n    .dataframe tbody tr th {\n        vertical-align: top;\n    }\n\n    .dataframe thead th {\n        text-align: right;\n    }\n</style>\n<table border=\"1\" class=\"dataframe\">\n  <thead>\n    <tr style=\"text-align: right;\">\n      <th></th>\n      <th>key</th>\n      <th>value_left</th>\n    </tr>\n  </thead>\n  <tbody>\n    <tr>\n      <th>0</th>\n      <td>A</td>\n      <td>0</td>\n    </tr>\n    <tr>\n      <th>1</th>\n      <td>B</td>\n      <td>1</td>\n    </tr>\n    <tr>\n      <th>2</th>\n      <td>C</td>\n      <td>2</td>\n    </tr>\n    <tr>\n      <th>3</th>\n      <td>D</td>\n      <td>3</td>\n    </tr>\n  </tbody>\n</table>\n</div>\n    </div>\n<div style=\"float: left; padding: 10px;\">\n    <p style='font-family:\"Courier New\", Courier, monospace'>right</p><div>\n<style scoped>\n    .dataframe tbody tr th:only-of-type {\n        vertical-align: middle;\n    }\n\n    .dataframe tbody tr th {\n        vertical-align: top;\n    }\n\n    .dataframe thead th {\n        text-align: right;\n    }\n</style>\n<table border=\"1\" class=\"dataframe\">\n  <thead>\n    <tr style=\"text-align: right;\">\n      <th></th>\n      <th>key</th>\n      <th>value_right</th>\n    </tr>\n  </thead>\n  <tbody>\n    <tr>\n      <th>0</th>\n      <td>C</td>\n      <td>4</td>\n    </tr>\n    <tr>\n      <th>1</th>\n      <td>D</td>\n      <td>5</td>\n    </tr>\n    <tr>\n      <th>2</th>\n      <td>E</td>\n      <td>6</td>\n    </tr>\n    <tr>\n      <th>3</th>\n      <td>F</td>\n      <td>7</td>\n    </tr>\n  </tbody>\n</table>\n</div>\n    </div>"
     },
     "execution_count": 30,
     "metadata": {},
     "output_type": "execute_result"
    }
   ],
   "source": [
    "display('left', 'right')"
   ]
  },
  {
   "cell_type": "code",
   "execution_count": 31,
   "metadata": {
    "slideshow": {
     "slide_type": "-"
    },
    "ExecuteTime": {
     "end_time": "2023-08-08T20:33:12.138861Z",
     "start_time": "2023-08-08T20:33:11.147090Z"
    }
   },
   "outputs": [
    {
     "data": {
      "text/plain": "  key  value_left  value_right\n0   C         2.0            4\n1   D         3.0            5\n2   E         NaN            6\n3   F         NaN            7",
      "text/html": "<div>\n<style scoped>\n    .dataframe tbody tr th:only-of-type {\n        vertical-align: middle;\n    }\n\n    .dataframe tbody tr th {\n        vertical-align: top;\n    }\n\n    .dataframe thead th {\n        text-align: right;\n    }\n</style>\n<table border=\"1\" class=\"dataframe\">\n  <thead>\n    <tr style=\"text-align: right;\">\n      <th></th>\n      <th>key</th>\n      <th>value_left</th>\n      <th>value_right</th>\n    </tr>\n  </thead>\n  <tbody>\n    <tr>\n      <th>0</th>\n      <td>C</td>\n      <td>2.0</td>\n      <td>4</td>\n    </tr>\n    <tr>\n      <th>1</th>\n      <td>D</td>\n      <td>3.0</td>\n      <td>5</td>\n    </tr>\n    <tr>\n      <th>2</th>\n      <td>E</td>\n      <td>NaN</td>\n      <td>6</td>\n    </tr>\n    <tr>\n      <th>3</th>\n      <td>F</td>\n      <td>NaN</td>\n      <td>7</td>\n    </tr>\n  </tbody>\n</table>\n</div>"
     },
     "execution_count": 31,
     "metadata": {},
     "output_type": "execute_result"
    }
   ],
   "source": [
    "right_merge = pd.merge(left, right, on='key', how='right')\n",
    "right_merge"
   ]
  },
  {
   "cell_type": "markdown",
   "metadata": {
    "slideshow": {
     "slide_type": "-"
    }
   },
   "source": [
    "<center><img src='https://i.stack.imgur.com/8w1US.png' alt=\"Drawing\" style=\"width: 400px;\"/></center>"
   ]
  },
  {
   "cell_type": "markdown",
   "metadata": {
    "slideshow": {
     "slide_type": "slide"
    }
   },
   "source": [
    "## Outer Merge\n",
    "This merge uses *all* keys"
   ]
  },
  {
   "cell_type": "code",
   "execution_count": 32,
   "metadata": {
    "ExecuteTime": {
     "end_time": "2023-08-08T20:33:12.156838Z",
     "start_time": "2023-08-08T20:33:11.155986Z"
    }
   },
   "outputs": [
    {
     "data": {
      "text/plain": "left\n  key  value_left\n0   A           0\n1   B           1\n2   C           2\n3   D           3\n\nright\n  key  value_right\n0   C            4\n1   D            5\n2   E            6\n3   F            7",
      "text/html": "<div style=\"float: left; padding: 10px;\">\n    <p style='font-family:\"Courier New\", Courier, monospace'>left</p><div>\n<style scoped>\n    .dataframe tbody tr th:only-of-type {\n        vertical-align: middle;\n    }\n\n    .dataframe tbody tr th {\n        vertical-align: top;\n    }\n\n    .dataframe thead th {\n        text-align: right;\n    }\n</style>\n<table border=\"1\" class=\"dataframe\">\n  <thead>\n    <tr style=\"text-align: right;\">\n      <th></th>\n      <th>key</th>\n      <th>value_left</th>\n    </tr>\n  </thead>\n  <tbody>\n    <tr>\n      <th>0</th>\n      <td>A</td>\n      <td>0</td>\n    </tr>\n    <tr>\n      <th>1</th>\n      <td>B</td>\n      <td>1</td>\n    </tr>\n    <tr>\n      <th>2</th>\n      <td>C</td>\n      <td>2</td>\n    </tr>\n    <tr>\n      <th>3</th>\n      <td>D</td>\n      <td>3</td>\n    </tr>\n  </tbody>\n</table>\n</div>\n    </div>\n<div style=\"float: left; padding: 10px;\">\n    <p style='font-family:\"Courier New\", Courier, monospace'>right</p><div>\n<style scoped>\n    .dataframe tbody tr th:only-of-type {\n        vertical-align: middle;\n    }\n\n    .dataframe tbody tr th {\n        vertical-align: top;\n    }\n\n    .dataframe thead th {\n        text-align: right;\n    }\n</style>\n<table border=\"1\" class=\"dataframe\">\n  <thead>\n    <tr style=\"text-align: right;\">\n      <th></th>\n      <th>key</th>\n      <th>value_right</th>\n    </tr>\n  </thead>\n  <tbody>\n    <tr>\n      <th>0</th>\n      <td>C</td>\n      <td>4</td>\n    </tr>\n    <tr>\n      <th>1</th>\n      <td>D</td>\n      <td>5</td>\n    </tr>\n    <tr>\n      <th>2</th>\n      <td>E</td>\n      <td>6</td>\n    </tr>\n    <tr>\n      <th>3</th>\n      <td>F</td>\n      <td>7</td>\n    </tr>\n  </tbody>\n</table>\n</div>\n    </div>"
     },
     "execution_count": 32,
     "metadata": {},
     "output_type": "execute_result"
    }
   ],
   "source": [
    "display('left', 'right')"
   ]
  },
  {
   "cell_type": "code",
   "execution_count": 33,
   "metadata": {
    "slideshow": {
     "slide_type": "-"
    },
    "ExecuteTime": {
     "end_time": "2023-08-08T20:33:12.157088Z",
     "start_time": "2023-08-08T20:33:11.160784Z"
    }
   },
   "outputs": [
    {
     "data": {
      "text/plain": "  key  value_left  value_right\n0   A         0.0          NaN\n1   B         1.0          NaN\n2   C         2.0          4.0\n3   D         3.0          5.0\n4   E         NaN          6.0\n5   F         NaN          7.0",
      "text/html": "<div>\n<style scoped>\n    .dataframe tbody tr th:only-of-type {\n        vertical-align: middle;\n    }\n\n    .dataframe tbody tr th {\n        vertical-align: top;\n    }\n\n    .dataframe thead th {\n        text-align: right;\n    }\n</style>\n<table border=\"1\" class=\"dataframe\">\n  <thead>\n    <tr style=\"text-align: right;\">\n      <th></th>\n      <th>key</th>\n      <th>value_left</th>\n      <th>value_right</th>\n    </tr>\n  </thead>\n  <tbody>\n    <tr>\n      <th>0</th>\n      <td>A</td>\n      <td>0.0</td>\n      <td>NaN</td>\n    </tr>\n    <tr>\n      <th>1</th>\n      <td>B</td>\n      <td>1.0</td>\n      <td>NaN</td>\n    </tr>\n    <tr>\n      <th>2</th>\n      <td>C</td>\n      <td>2.0</td>\n      <td>4.0</td>\n    </tr>\n    <tr>\n      <th>3</th>\n      <td>D</td>\n      <td>3.0</td>\n      <td>5.0</td>\n    </tr>\n    <tr>\n      <th>4</th>\n      <td>E</td>\n      <td>NaN</td>\n      <td>6.0</td>\n    </tr>\n    <tr>\n      <th>5</th>\n      <td>F</td>\n      <td>NaN</td>\n      <td>7.0</td>\n    </tr>\n  </tbody>\n</table>\n</div>"
     },
     "execution_count": 33,
     "metadata": {},
     "output_type": "execute_result"
    }
   ],
   "source": [
    "outer_merge = pd.merge(left, right, on='key', how='outer')\n",
    "outer_merge"
   ]
  },
  {
   "cell_type": "markdown",
   "metadata": {
    "slideshow": {
     "slide_type": "-"
    }
   },
   "source": [
    "<center><img src='https://i.stack.imgur.com/euLoe.png' alt=\"Drawing\" style=\"width: 400px;\"/></center>"
   ]
  },
  {
   "cell_type": "markdown",
   "metadata": {
    "slideshow": {
     "slide_type": "slide"
    }
   },
   "source": [
    "## Overview of Merge Types"
   ]
  },
  {
   "cell_type": "markdown",
   "metadata": {
    "slideshow": {
     "slide_type": "-"
    }
   },
   "source": [
    "<center><img src='https://www.dofactory.com/Images/sql/sql-joins.png' alt=\"Drawing\" style=\"width: 450px;\"/></center>\n",
    "\n",
    "More merge type exists, see [this post](https://stackoverflow.com/questions/53645882/pandas-merging-101) for details."
   ]
  },
  {
   "cell_type": "markdown",
   "metadata": {
    "slideshow": {
     "slide_type": "slide"
    }
   },
   "source": [
    "## Joining DataFrames\n",
    "\n",
    "We can also join by keys in the index. This is possible with `join` or `concat`.\n",
    "\n",
    "Additional properties of `concat`:\n",
    "- works vertically and horizontally.\n",
    "- works with multiple DataFrames at once;\n",
    "\n",
    "Requirement: overlapping index keys or column names."
   ]
  },
  {
   "cell_type": "code",
   "execution_count": 34,
   "metadata": {
    "ExecuteTime": {
     "end_time": "2023-08-08T20:33:12.167246Z",
     "start_time": "2023-08-08T20:33:11.177122Z"
    }
   },
   "outputs": [],
   "source": [
    "df0 = left.set_index('key')\n",
    "df1 = right.set_index('key')"
   ]
  },
  {
   "cell_type": "markdown",
   "metadata": {
    "slideshow": {
     "slide_type": "slide"
    }
   },
   "source": [
    "\n",
    "## Horizontal Join \n",
    "\n",
    "Works like `merge` where _key_ is now the index! "
   ]
  },
  {
   "cell_type": "code",
   "execution_count": 35,
   "metadata": {
    "ExecuteTime": {
     "end_time": "2023-08-08T20:33:12.185049Z",
     "start_time": "2023-08-08T20:33:11.183716Z"
    }
   },
   "outputs": [
    {
     "data": {
      "text/plain": "df0\n     value_left\nkey            \nA             0\nB             1\nC             2\nD             3\n\ndf1\n     value_right\nkey             \nC              4\nD              5\nE              6\nF              7",
      "text/html": "<div style=\"float: left; padding: 10px;\">\n    <p style='font-family:\"Courier New\", Courier, monospace'>df0</p><div>\n<style scoped>\n    .dataframe tbody tr th:only-of-type {\n        vertical-align: middle;\n    }\n\n    .dataframe tbody tr th {\n        vertical-align: top;\n    }\n\n    .dataframe thead th {\n        text-align: right;\n    }\n</style>\n<table border=\"1\" class=\"dataframe\">\n  <thead>\n    <tr style=\"text-align: right;\">\n      <th></th>\n      <th>value_left</th>\n    </tr>\n    <tr>\n      <th>key</th>\n      <th></th>\n    </tr>\n  </thead>\n  <tbody>\n    <tr>\n      <th>A</th>\n      <td>0</td>\n    </tr>\n    <tr>\n      <th>B</th>\n      <td>1</td>\n    </tr>\n    <tr>\n      <th>C</th>\n      <td>2</td>\n    </tr>\n    <tr>\n      <th>D</th>\n      <td>3</td>\n    </tr>\n  </tbody>\n</table>\n</div>\n    </div>\n<div style=\"float: left; padding: 10px;\">\n    <p style='font-family:\"Courier New\", Courier, monospace'>df1</p><div>\n<style scoped>\n    .dataframe tbody tr th:only-of-type {\n        vertical-align: middle;\n    }\n\n    .dataframe tbody tr th {\n        vertical-align: top;\n    }\n\n    .dataframe thead th {\n        text-align: right;\n    }\n</style>\n<table border=\"1\" class=\"dataframe\">\n  <thead>\n    <tr style=\"text-align: right;\">\n      <th></th>\n      <th>value_right</th>\n    </tr>\n    <tr>\n      <th>key</th>\n      <th></th>\n    </tr>\n  </thead>\n  <tbody>\n    <tr>\n      <th>C</th>\n      <td>4</td>\n    </tr>\n    <tr>\n      <th>D</th>\n      <td>5</td>\n    </tr>\n    <tr>\n      <th>E</th>\n      <td>6</td>\n    </tr>\n    <tr>\n      <th>F</th>\n      <td>7</td>\n    </tr>\n  </tbody>\n</table>\n</div>\n    </div>"
     },
     "execution_count": 35,
     "metadata": {},
     "output_type": "execute_result"
    }
   ],
   "source": [
    "display('df0', 'df1')"
   ]
  },
  {
   "cell_type": "code",
   "execution_count": 36,
   "metadata": {
    "slideshow": {
     "slide_type": "-"
    },
    "ExecuteTime": {
     "end_time": "2023-08-08T20:33:12.192453Z",
     "start_time": "2023-08-08T20:33:11.187170Z"
    }
   },
   "outputs": [
    {
     "data": {
      "text/plain": "     value_left  value_right\nkey                         \nC             2            4\nD             3            5",
      "text/html": "<div>\n<style scoped>\n    .dataframe tbody tr th:only-of-type {\n        vertical-align: middle;\n    }\n\n    .dataframe tbody tr th {\n        vertical-align: top;\n    }\n\n    .dataframe thead th {\n        text-align: right;\n    }\n</style>\n<table border=\"1\" class=\"dataframe\">\n  <thead>\n    <tr style=\"text-align: right;\">\n      <th></th>\n      <th>value_left</th>\n      <th>value_right</th>\n    </tr>\n    <tr>\n      <th>key</th>\n      <th></th>\n      <th></th>\n    </tr>\n  </thead>\n  <tbody>\n    <tr>\n      <th>C</th>\n      <td>2</td>\n      <td>4</td>\n    </tr>\n    <tr>\n      <th>D</th>\n      <td>3</td>\n      <td>5</td>\n    </tr>\n  </tbody>\n</table>\n</div>"
     },
     "execution_count": 36,
     "metadata": {},
     "output_type": "execute_result"
    }
   ],
   "source": [
    "inner_data = df0.join(df1, how='inner')\n",
    "inner_data"
   ]
  },
  {
   "cell_type": "markdown",
   "metadata": {
    "slideshow": {
     "slide_type": "slide"
    }
   },
   "source": [
    "## Horizontal Join, Axis = 1\n",
    "\n",
    "`concat` on axis=1 (columns) acts similar to a outer join."
   ]
  },
  {
   "cell_type": "code",
   "execution_count": 37,
   "metadata": {
    "slideshow": {
     "slide_type": "-"
    },
    "ExecuteTime": {
     "end_time": "2023-08-08T20:33:12.192699Z",
     "start_time": "2023-08-08T20:33:11.189046Z"
    }
   },
   "outputs": [
    {
     "data": {
      "text/plain": "     value_left  value_right\nkey                         \nA           0.0          NaN\nB           1.0          NaN\nC           2.0          4.0\nD           3.0          5.0\nE           NaN          6.0\nF           NaN          7.0",
      "text/html": "<div>\n<style scoped>\n    .dataframe tbody tr th:only-of-type {\n        vertical-align: middle;\n    }\n\n    .dataframe tbody tr th {\n        vertical-align: top;\n    }\n\n    .dataframe thead th {\n        text-align: right;\n    }\n</style>\n<table border=\"1\" class=\"dataframe\">\n  <thead>\n    <tr style=\"text-align: right;\">\n      <th></th>\n      <th>value_left</th>\n      <th>value_right</th>\n    </tr>\n    <tr>\n      <th>key</th>\n      <th></th>\n      <th></th>\n    </tr>\n  </thead>\n  <tbody>\n    <tr>\n      <th>A</th>\n      <td>0.0</td>\n      <td>NaN</td>\n    </tr>\n    <tr>\n      <th>B</th>\n      <td>1.0</td>\n      <td>NaN</td>\n    </tr>\n    <tr>\n      <th>C</th>\n      <td>2.0</td>\n      <td>4.0</td>\n    </tr>\n    <tr>\n      <th>D</th>\n      <td>3.0</td>\n      <td>5.0</td>\n    </tr>\n    <tr>\n      <th>E</th>\n      <td>NaN</td>\n      <td>6.0</td>\n    </tr>\n    <tr>\n      <th>F</th>\n      <td>NaN</td>\n      <td>7.0</td>\n    </tr>\n  </tbody>\n</table>\n</div>"
     },
     "execution_count": 37,
     "metadata": {},
     "output_type": "execute_result"
    }
   ],
   "source": [
    "dfs = [df0, df1]\n",
    "pd.concat(dfs, axis=1, join = 'outer')"
   ]
  },
  {
   "cell_type": "markdown",
   "metadata": {
    "slideshow": {
     "slide_type": "slide"
    }
   },
   "source": [
    "## Vertical Join, Axis = 0\n",
    "\n",
    "On the other hand, `concat` on axis=0 (rows) stacks the dataframes on top of each other!"
   ]
  },
  {
   "cell_type": "code",
   "execution_count": 38,
   "metadata": {
    "slideshow": {
     "slide_type": "-"
    },
    "ExecuteTime": {
     "end_time": "2023-08-08T20:33:12.206264Z",
     "start_time": "2023-08-08T20:33:11.198880Z"
    }
   },
   "outputs": [
    {
     "data": {
      "text/plain": "     value_left  value_right\nkey                         \nA           0.0          NaN\nB           1.0          NaN\nC           2.0          NaN\nD           3.0          NaN\nC           NaN          4.0\nD           NaN          5.0\nE           NaN          6.0\nF           NaN          7.0",
      "text/html": "<div>\n<style scoped>\n    .dataframe tbody tr th:only-of-type {\n        vertical-align: middle;\n    }\n\n    .dataframe tbody tr th {\n        vertical-align: top;\n    }\n\n    .dataframe thead th {\n        text-align: right;\n    }\n</style>\n<table border=\"1\" class=\"dataframe\">\n  <thead>\n    <tr style=\"text-align: right;\">\n      <th></th>\n      <th>value_left</th>\n      <th>value_right</th>\n    </tr>\n    <tr>\n      <th>key</th>\n      <th></th>\n      <th></th>\n    </tr>\n  </thead>\n  <tbody>\n    <tr>\n      <th>A</th>\n      <td>0.0</td>\n      <td>NaN</td>\n    </tr>\n    <tr>\n      <th>B</th>\n      <td>1.0</td>\n      <td>NaN</td>\n    </tr>\n    <tr>\n      <th>C</th>\n      <td>2.0</td>\n      <td>NaN</td>\n    </tr>\n    <tr>\n      <th>D</th>\n      <td>3.0</td>\n      <td>NaN</td>\n    </tr>\n    <tr>\n      <th>C</th>\n      <td>NaN</td>\n      <td>4.0</td>\n    </tr>\n    <tr>\n      <th>D</th>\n      <td>NaN</td>\n      <td>5.0</td>\n    </tr>\n    <tr>\n      <th>E</th>\n      <td>NaN</td>\n      <td>6.0</td>\n    </tr>\n    <tr>\n      <th>F</th>\n      <td>NaN</td>\n      <td>7.0</td>\n    </tr>\n  </tbody>\n</table>\n</div>"
     },
     "execution_count": 38,
     "metadata": {},
     "output_type": "execute_result"
    }
   ],
   "source": [
    "pd.concat([df0, df1], join='outer', axis=0)"
   ]
  },
  {
   "cell_type": "markdown",
   "metadata": {
    "slideshow": {
     "slide_type": "slide"
    }
   },
   "source": [
    "## Vertical and Horizontal\n",
    "\n",
    "An overview of `concat` operations (left: horizontal, right: vertical)"
   ]
  },
  {
   "cell_type": "markdown",
   "metadata": {
    "slideshow": {
     "slide_type": "-"
    }
   },
   "source": [
    "<center><img src='https://i.stack.imgur.com/1rb1R.jpg' alt=\"Drawing\" style=\"width: 450px;\"/></center>"
   ]
  },
  {
   "cell_type": "markdown",
   "metadata": {
    "slideshow": {
     "slide_type": "slide"
    }
   },
   "source": [
    "## Example of Using Concat (I/III)\n",
    "\n",
    "Let's load some stock data..."
   ]
  },
  {
   "cell_type": "code",
   "execution_count": 62,
   "metadata": {
    "scrolled": true,
    "slideshow": {
     "slide_type": "-"
    },
    "ExecuteTime": {
     "end_time": "2023-08-08T20:44:13.357825Z",
     "start_time": "2023-08-08T20:44:10.346272Z"
    }
   },
   "outputs": [
    {
     "name": "stdout",
     "output_type": "stream",
     "text": [
      "[*********************100%***********************]  1 of 1 completed\n",
      "[*********************100%***********************]  1 of 1 completed\n",
      "[*********************100%***********************]  1 of 1 completed\n",
      "[*********************100%***********************]  1 of 1 completed\n",
      "[*********************100%***********************]  1 of 1 completed\n",
      "\n",
      "1 Failed download:\n",
      "- FB: No data found for this date range, symbol may be delisted\n",
      "[*********************100%***********************]  1 of 1 completed\n"
     ]
    }
   ],
   "source": [
    "import yfinance as yf\n",
    "import matplotlib.pyplot as plt # For plotting\n",
    "\n",
    "stocks = ['aapl', 'goog', 'msft', 'amzn', 'fb', 'tsla']\n",
    "\n",
    "def load_stock(s):\n",
    "    return yf.download(s, start='2000-01-01')['Adj Close']\n",
    "\n",
    "stock_dfs = {s:load_stock(s) for s in stocks} # dictionary of all stock price\n",
    "stock_df = pd.concat(stock_dfs, axis=1) # horizontally"
   ]
  },
  {
   "cell_type": "markdown",
   "metadata": {
    "slideshow": {
     "slide_type": "slide"
    }
   },
   "source": [
    "## Example of Using Concat (II/III)\n",
    "\n",
    "What do the data look like?"
   ]
  },
  {
   "cell_type": "code",
   "execution_count": 63,
   "metadata": {
    "slideshow": {
     "slide_type": "-"
    },
    "ExecuteTime": {
     "end_time": "2023-08-08T20:44:13.362834Z",
     "start_time": "2023-08-08T20:44:13.358599Z"
    }
   },
   "outputs": [
    {
     "data": {
      "text/plain": "                           aapl        goog        msft        amzn  fb  \\\nDate                                                                      \n2023-07-26 00:00:00  194.500000  129.660004  337.769989  128.149994 NaN   \n2023-07-27 00:00:00  193.220001  129.869995  330.720001  128.250000 NaN   \n2023-07-28 00:00:00  195.830002  133.009995  338.369995  132.210007 NaN   \n2023-07-31 00:00:00  196.449997  133.110001  335.920013  133.679993 NaN   \n2023-08-01 00:00:00  195.610001  131.889999  336.339996  131.690002 NaN   \n2023-08-02 00:00:00  192.580002  128.639999  327.500000  128.210007 NaN   \n2023-08-03 00:00:00  191.169998  128.770004  326.660004  128.910004 NaN   \n2023-08-04 00:00:00  181.990005  128.539993  327.779999  139.570007 NaN   \n2023-08-07 00:00:00  178.850006  131.940002  330.109985  142.220001 NaN   \n2023-08-08 00:00:00  179.800003  131.839996  326.049988  139.940002 NaN   \n\n                           tsla  \nDate                             \n2023-07-26 00:00:00  264.350006  \n2023-07-27 00:00:00  255.710007  \n2023-07-28 00:00:00  266.440002  \n2023-07-31 00:00:00  267.429993  \n2023-08-01 00:00:00  261.070007  \n2023-08-02 00:00:00  254.110001  \n2023-08-03 00:00:00  259.320007  \n2023-08-04 00:00:00  253.860001  \n2023-08-07 00:00:00  251.449997  \n2023-08-08 00:00:00  249.699997  ",
      "text/html": "<div>\n<style scoped>\n    .dataframe tbody tr th:only-of-type {\n        vertical-align: middle;\n    }\n\n    .dataframe tbody tr th {\n        vertical-align: top;\n    }\n\n    .dataframe thead th {\n        text-align: right;\n    }\n</style>\n<table border=\"1\" class=\"dataframe\">\n  <thead>\n    <tr style=\"text-align: right;\">\n      <th></th>\n      <th>aapl</th>\n      <th>goog</th>\n      <th>msft</th>\n      <th>amzn</th>\n      <th>fb</th>\n      <th>tsla</th>\n    </tr>\n    <tr>\n      <th>Date</th>\n      <th></th>\n      <th></th>\n      <th></th>\n      <th></th>\n      <th></th>\n      <th></th>\n    </tr>\n  </thead>\n  <tbody>\n    <tr>\n      <th>2023-07-26 00:00:00</th>\n      <td>194.500000</td>\n      <td>129.660004</td>\n      <td>337.769989</td>\n      <td>128.149994</td>\n      <td>NaN</td>\n      <td>264.350006</td>\n    </tr>\n    <tr>\n      <th>2023-07-27 00:00:00</th>\n      <td>193.220001</td>\n      <td>129.869995</td>\n      <td>330.720001</td>\n      <td>128.250000</td>\n      <td>NaN</td>\n      <td>255.710007</td>\n    </tr>\n    <tr>\n      <th>2023-07-28 00:00:00</th>\n      <td>195.830002</td>\n      <td>133.009995</td>\n      <td>338.369995</td>\n      <td>132.210007</td>\n      <td>NaN</td>\n      <td>266.440002</td>\n    </tr>\n    <tr>\n      <th>2023-07-31 00:00:00</th>\n      <td>196.449997</td>\n      <td>133.110001</td>\n      <td>335.920013</td>\n      <td>133.679993</td>\n      <td>NaN</td>\n      <td>267.429993</td>\n    </tr>\n    <tr>\n      <th>2023-08-01 00:00:00</th>\n      <td>195.610001</td>\n      <td>131.889999</td>\n      <td>336.339996</td>\n      <td>131.690002</td>\n      <td>NaN</td>\n      <td>261.070007</td>\n    </tr>\n    <tr>\n      <th>2023-08-02 00:00:00</th>\n      <td>192.580002</td>\n      <td>128.639999</td>\n      <td>327.500000</td>\n      <td>128.210007</td>\n      <td>NaN</td>\n      <td>254.110001</td>\n    </tr>\n    <tr>\n      <th>2023-08-03 00:00:00</th>\n      <td>191.169998</td>\n      <td>128.770004</td>\n      <td>326.660004</td>\n      <td>128.910004</td>\n      <td>NaN</td>\n      <td>259.320007</td>\n    </tr>\n    <tr>\n      <th>2023-08-04 00:00:00</th>\n      <td>181.990005</td>\n      <td>128.539993</td>\n      <td>327.779999</td>\n      <td>139.570007</td>\n      <td>NaN</td>\n      <td>253.860001</td>\n    </tr>\n    <tr>\n      <th>2023-08-07 00:00:00</th>\n      <td>178.850006</td>\n      <td>131.940002</td>\n      <td>330.109985</td>\n      <td>142.220001</td>\n      <td>NaN</td>\n      <td>251.449997</td>\n    </tr>\n    <tr>\n      <th>2023-08-08 00:00:00</th>\n      <td>179.800003</td>\n      <td>131.839996</td>\n      <td>326.049988</td>\n      <td>139.940002</td>\n      <td>NaN</td>\n      <td>249.699997</td>\n    </tr>\n  </tbody>\n</table>\n</div>"
     },
     "execution_count": 63,
     "metadata": {},
     "output_type": "execute_result"
    }
   ],
   "source": [
    "stock_df.tail(10)"
   ]
  },
  {
   "cell_type": "markdown",
   "metadata": {
    "slideshow": {
     "slide_type": "slide"
    }
   },
   "source": [
    "## Example of Using Concat (III/III)\n",
    "\n",
    "Now, let's try and visualize it (more about this in next session)!"
   ]
  },
  {
   "cell_type": "code",
   "execution_count": 41,
   "metadata": {
    "slideshow": {
     "slide_type": "-"
    },
    "ExecuteTime": {
     "end_time": "2023-08-08T20:33:13.916926Z",
     "start_time": "2023-08-08T20:33:13.418444Z"
    }
   },
   "outputs": [
    {
     "data": {
      "text/plain": "<matplotlib.legend.Legend at 0x1105ce310>"
     },
     "execution_count": 41,
     "metadata": {},
     "output_type": "execute_result"
    },
    {
     "data": {
      "text/plain": "<Figure size 1000x300 with 1 Axes>",
      "image/png": "[encoded data removed]"
     },
     "metadata": {},
     "output_type": "display_data"
    }
   ],
   "source": [
    "ax = stock_df.plot(logy=True, figsize=(10,3))\n",
    "ax.legend([\"Apple\", \"Google\",\"Microsoft\", \"Amazon\",\"Facebook\"\n",
    "              , \"Tesla\"], loc='best', ncol=2)"
   ]
  },
  {
   "cell_type": "markdown",
   "metadata": {
    "slideshow": {
     "slide_type": "slide"
    }
   },
   "source": [
    "# VIDEO 3.4: Split-Apply-Combine"
   ]
  },
  {
   "cell_type": "markdown",
   "metadata": {
    "slideshow": {
     "slide_type": "slide"
    }
   },
   "source": [
    "## A Definition\n",
    "*What is the split-apply-combine framework?*"
   ]
  },
  {
   "cell_type": "markdown",
   "metadata": {},
   "source": [
    "A procedure to...\n",
    "1. **split** a DataFrame into subsets of data,\n",
    "2. **apply** certain functions (sorting, mean, other custom stuff), and\n",
    "3. **combine** it back into a DataFrame\n",
    "\n",
    "Application example: compute mean personal income across time."
   ]
  },
  {
   "cell_type": "markdown",
   "metadata": {
    "slideshow": {
     "slide_type": "slide"
    }
   },
   "source": [
    "## The Process $-$ an Overview"
   ]
  },
  {
   "cell_type": "markdown",
   "metadata": {},
   "source": [
    "How do we *split* observations by x and *apply* the calculation mean of y?*"
   ]
  },
  {
   "cell_type": "markdown",
   "metadata": {
    "slideshow": {
     "slide_type": "-"
    }
   },
   "source": [
    "<center><img src='https://raw.githubusercontent.com/abjer/sds2017/master/slides/figures/split-apply-combine.png'></center>"
   ]
  },
  {
   "cell_type": "markdown",
   "metadata": {
    "slideshow": {
     "slide_type": "slide"
    }
   },
   "source": [
    "## Split-apply-combine in Pandas\n",
    "\n",
    "A powerful tool in DataFrames is the `groupby` method. Example:"
   ]
  },
  {
   "cell_type": "code",
   "execution_count": 70,
   "metadata": {
    "slideshow": {
     "slide_type": "-"
    },
    "ExecuteTime": {
     "end_time": "2023-08-09T07:19:32.427716Z",
     "start_time": "2023-08-09T07:19:32.417584Z"
    }
   },
   "outputs": [
    {
     "data": {
      "text/plain": "sex\nMale      20.744076\nFemale    18.056897\nName: total_bill, dtype: float64"
     },
     "execution_count": 70,
     "metadata": {},
     "output_type": "execute_result"
    }
   ],
   "source": [
    "split_var = 'sex' \n",
    "apply_var = 'total_bill' \n",
    "\n",
    "tips.groupby(split_var)[apply_var].mean()\n"
   ]
  },
  {
   "cell_type": "markdown",
   "metadata": {
    "slideshow": {
     "slide_type": "slide"
    }
   },
   "source": [
    "## What is groupby?\n",
    "`groupby` creates a collection of sub-dataframes we can process.\n",
    "\n",
    "We can iterate over a groupby object. Example:"
   ]
  },
  {
   "cell_type": "code",
   "execution_count": 65,
   "metadata": {
    "slideshow": {
     "slide_type": "-"
    },
    "ExecuteTime": {
     "end_time": "2023-08-08T20:47:29.679776Z",
     "start_time": "2023-08-08T20:47:29.620465Z"
    }
   },
   "outputs": [
    {
     "data": {
      "text/plain": "Male      1      10.34\n2      21.01\n3      23.68\n5      ...\nFemale    0      16.99\n4      24.59\n11     35.26\n14     ...\ndtype: object"
     },
     "execution_count": 65,
     "metadata": {},
     "output_type": "execute_result"
    }
   ],
   "source": [
    "results = {}\n",
    "\n",
    "for group, group_df in tips.groupby('sex'):\n",
    "      results[group] = group_df.total_bill\n",
    "    \n",
    "pd.Series(results)\n"
   ]
  },
  {
   "cell_type": "markdown",
   "metadata": {
    "slideshow": {
     "slide_type": "slide"
    }
   },
   "source": [
    "## Other Methods and Functions in groupby\n",
    "\n",
    "Can other methods be applied?"
   ]
  },
  {
   "cell_type": "markdown",
   "metadata": {
    "slideshow": {
     "slide_type": "fragment"
    }
   },
   "source": [
    "- Yes: `mean`, `std`, `min`, `max` all work. \n",
    "- Using `.apply()` method and inserting your ***homemade*** function works too."
   ]
  },
  {
   "cell_type": "markdown",
   "metadata": {
    "slideshow": {
     "slide_type": "slide"
    }
   },
   "source": [
    "## Additional variables groupby\n",
    "Does `groupby` work for multiple variables, functions?"
   ]
  },
  {
   "cell_type": "code",
   "execution_count": 66,
   "metadata": {
    "ExecuteTime": {
     "end_time": "2023-08-08T20:47:34.921567Z",
     "start_time": "2023-08-08T20:47:34.814255Z"
    }
   },
   "outputs": [
    {
     "name": "stdout",
     "output_type": "stream",
     "text": [
      "      sex    time total_bill                         tip                    \n",
      "                      median       mean       std median      mean       std\n",
      "0    Male   Lunch      16.58  18.048485  7.953435   2.31  2.882121  1.329017\n",
      "1    Male  Dinner      19.63  21.461452  9.460974   3.00  3.144839  1.529116\n",
      "2  Female   Lunch      13.42  16.339143  7.500803   2.01  2.582857  1.075108\n",
      "3  Female  Dinner      17.19  19.213077  8.202085   3.00  3.002115  1.193483\n"
     ]
    }
   ],
   "source": [
    "split_vars = ['sex', 'time'] \n",
    "apply_vars = ['total_bill', 'tip']\n",
    "apply_fcts = ['median', 'mean', 'std']\n",
    "combined = tips.groupby(split_vars)[apply_vars].agg(apply_fcts)\n",
    "\n",
    "print(combined.reset_index() )   \n"
   ]
  },
  {
   "cell_type": "markdown",
   "metadata": {
    "slideshow": {
     "slide_type": "-"
    }
   },
   "source": [
    "Note grouping with multiple variables uses a [MultiIndex](https://pandas.pydata.org/pandas-docs/stable/generated/pandas.MultiIndex.html) which we do not cover."
   ]
  },
  {
   "cell_type": "markdown",
   "metadata": {
    "slideshow": {
     "slide_type": "slide"
    }
   },
   "source": [
    "## Maintaining the Structure\n",
    "*How do we get our `groupby` output into the original dataframe?*\n",
    "\n",
    "- Option 1: you merge it\n",
    "\n",
    "- Option 2: you use `transform`."
   ]
  },
  {
   "cell_type": "code",
   "execution_count": 45,
   "metadata": {
    "ExecuteTime": {
     "end_time": "2023-08-08T20:33:13.920019Z",
     "start_time": "2023-08-08T20:33:13.858967Z"
    }
   },
   "outputs": [
    {
     "data": {
      "text/plain": "   total_bill   tip     sex smoker  day    time  size     mu_sex\n0       16.99  1.01  Female     No  Sun  Dinner     2  19.213077\n1       10.34  1.66    Male     No  Sun  Dinner     3  21.461452\n2       21.01  3.50    Male     No  Sun  Dinner     3  21.461452\n3       23.68  3.31    Male     No  Sun  Dinner     2  21.461452\n4       24.59  3.61  Female     No  Sun  Dinner     4  19.213077",
      "text/html": "<div>\n<style scoped>\n    .dataframe tbody tr th:only-of-type {\n        vertical-align: middle;\n    }\n\n    .dataframe tbody tr th {\n        vertical-align: top;\n    }\n\n    .dataframe thead th {\n        text-align: right;\n    }\n</style>\n<table border=\"1\" class=\"dataframe\">\n  <thead>\n    <tr style=\"text-align: right;\">\n      <th></th>\n      <th>total_bill</th>\n      <th>tip</th>\n      <th>sex</th>\n      <th>smoker</th>\n      <th>day</th>\n      <th>time</th>\n      <th>size</th>\n      <th>mu_sex</th>\n    </tr>\n  </thead>\n  <tbody>\n    <tr>\n      <th>0</th>\n      <td>16.99</td>\n      <td>1.01</td>\n      <td>Female</td>\n      <td>No</td>\n      <td>Sun</td>\n      <td>Dinner</td>\n      <td>2</td>\n      <td>19.213077</td>\n    </tr>\n    <tr>\n      <th>1</th>\n      <td>10.34</td>\n      <td>1.66</td>\n      <td>Male</td>\n      <td>No</td>\n      <td>Sun</td>\n      <td>Dinner</td>\n      <td>3</td>\n      <td>21.461452</td>\n    </tr>\n    <tr>\n      <th>2</th>\n      <td>21.01</td>\n      <td>3.50</td>\n      <td>Male</td>\n      <td>No</td>\n      <td>Sun</td>\n      <td>Dinner</td>\n      <td>3</td>\n      <td>21.461452</td>\n    </tr>\n    <tr>\n      <th>3</th>\n      <td>23.68</td>\n      <td>3.31</td>\n      <td>Male</td>\n      <td>No</td>\n      <td>Sun</td>\n      <td>Dinner</td>\n      <td>2</td>\n      <td>21.461452</td>\n    </tr>\n    <tr>\n      <th>4</th>\n      <td>24.59</td>\n      <td>3.61</td>\n      <td>Female</td>\n      <td>No</td>\n      <td>Sun</td>\n      <td>Dinner</td>\n      <td>4</td>\n      <td>19.213077</td>\n    </tr>\n  </tbody>\n</table>\n</div>"
     },
     "execution_count": 45,
     "metadata": {},
     "output_type": "execute_result"
    }
   ],
   "source": [
    "tips['mu_sex'] = tips.groupby(split_vars)[apply_var].transform('mean')\n",
    "tips.head(5)\n"
   ]
  },
  {
   "cell_type": "code",
   "execution_count": 46,
   "metadata": {
    "ExecuteTime": {
     "end_time": "2023-08-08T20:33:14.105881Z",
     "start_time": "2023-08-08T20:33:13.865179Z"
    }
   },
   "outputs": [
    {
     "data": {
      "text/plain": "   total_bill   tip     sex smoker  day    time  size     mu_sex    dev_sex\n0       16.99  1.01  Female     No  Sun  Dinner     2  19.213077  -2.223077\n1       10.34  1.66    Male     No  Sun  Dinner     3  21.461452 -11.121452\n2       21.01  3.50    Male     No  Sun  Dinner     3  21.461452  -0.451452\n3       23.68  3.31    Male     No  Sun  Dinner     2  21.461452   2.218548\n4       24.59  3.61  Female     No  Sun  Dinner     4  19.213077   5.376923",
      "text/html": "<div>\n<style scoped>\n    .dataframe tbody tr th:only-of-type {\n        vertical-align: middle;\n    }\n\n    .dataframe tbody tr th {\n        vertical-align: top;\n    }\n\n    .dataframe thead th {\n        text-align: right;\n    }\n</style>\n<table border=\"1\" class=\"dataframe\">\n  <thead>\n    <tr style=\"text-align: right;\">\n      <th></th>\n      <th>total_bill</th>\n      <th>tip</th>\n      <th>sex</th>\n      <th>smoker</th>\n      <th>day</th>\n      <th>time</th>\n      <th>size</th>\n      <th>mu_sex</th>\n      <th>dev_sex</th>\n    </tr>\n  </thead>\n  <tbody>\n    <tr>\n      <th>0</th>\n      <td>16.99</td>\n      <td>1.01</td>\n      <td>Female</td>\n      <td>No</td>\n      <td>Sun</td>\n      <td>Dinner</td>\n      <td>2</td>\n      <td>19.213077</td>\n      <td>-2.223077</td>\n    </tr>\n    <tr>\n      <th>1</th>\n      <td>10.34</td>\n      <td>1.66</td>\n      <td>Male</td>\n      <td>No</td>\n      <td>Sun</td>\n      <td>Dinner</td>\n      <td>3</td>\n      <td>21.461452</td>\n      <td>-11.121452</td>\n    </tr>\n    <tr>\n      <th>2</th>\n      <td>21.01</td>\n      <td>3.50</td>\n      <td>Male</td>\n      <td>No</td>\n      <td>Sun</td>\n      <td>Dinner</td>\n      <td>3</td>\n      <td>21.461452</td>\n      <td>-0.451452</td>\n    </tr>\n    <tr>\n      <th>3</th>\n      <td>23.68</td>\n      <td>3.31</td>\n      <td>Male</td>\n      <td>No</td>\n      <td>Sun</td>\n      <td>Dinner</td>\n      <td>2</td>\n      <td>21.461452</td>\n      <td>2.218548</td>\n    </tr>\n    <tr>\n      <th>4</th>\n      <td>24.59</td>\n      <td>3.61</td>\n      <td>Female</td>\n      <td>No</td>\n      <td>Sun</td>\n      <td>Dinner</td>\n      <td>4</td>\n      <td>19.213077</td>\n      <td>5.376923</td>\n    </tr>\n  </tbody>\n</table>\n</div>"
     },
     "execution_count": 46,
     "metadata": {},
     "output_type": "execute_result"
    }
   ],
   "source": [
    "tips['dev_sex'] = (tips.total_bill - tips.mu_sex)\n",
    "tips.head(5)\n"
   ]
  },
  {
   "cell_type": "markdown",
   "metadata": {
    "slideshow": {
     "slide_type": "slide"
    }
   },
   "source": [
    "# Video 3.5: Reshaping Data"
   ]
  },
  {
   "cell_type": "markdown",
   "metadata": {
    "slideshow": {
     "slide_type": "slide"
    }
   },
   "source": [
    "## Stacking Data (I/II)"
   ]
  },
  {
   "cell_type": "markdown",
   "metadata": {
    "slideshow": {
     "slide_type": "-"
    }
   },
   "source": [
    "A DataFrame can be collapsed into a Series with the **stack** command.\n",
    "\n",
    "Let's generate a simple example:"
   ]
  },
  {
   "cell_type": "code",
   "execution_count": 47,
   "metadata": {
    "slideshow": {
     "slide_type": "fragment"
    },
    "ExecuteTime": {
     "end_time": "2023-08-08T20:33:14.126278Z",
     "start_time": "2023-08-08T20:33:13.880016Z"
    }
   },
   "outputs": [
    {
     "data": {
      "text/plain": "      EU  US\n2000   1   2\n2010   3   4",
      "text/html": "<div>\n<style scoped>\n    .dataframe tbody tr th:only-of-type {\n        vertical-align: middle;\n    }\n\n    .dataframe tbody tr th {\n        vertical-align: top;\n    }\n\n    .dataframe thead th {\n        text-align: right;\n    }\n</style>\n<table border=\"1\" class=\"dataframe\">\n  <thead>\n    <tr style=\"text-align: right;\">\n      <th></th>\n      <th>EU</th>\n      <th>US</th>\n    </tr>\n  </thead>\n  <tbody>\n    <tr>\n      <th>2000</th>\n      <td>1</td>\n      <td>2</td>\n    </tr>\n    <tr>\n      <th>2010</th>\n      <td>3</td>\n      <td>4</td>\n    </tr>\n  </tbody>\n</table>\n</div>"
     },
     "execution_count": 47,
     "metadata": {},
     "output_type": "execute_result"
    }
   ],
   "source": [
    "df = pd.DataFrame([[1,2],[3,4]],columns=['EU','US'],index=[2000,2010])\n",
    "df\n"
   ]
  },
  {
   "cell_type": "markdown",
   "metadata": {
    "slideshow": {
     "slide_type": "fragment"
    }
   },
   "source": [
    "Now, stack the data:"
   ]
  },
  {
   "cell_type": "code",
   "execution_count": 67,
   "metadata": {
    "slideshow": {
     "slide_type": "fragment"
    },
    "ExecuteTime": {
     "end_time": "2023-08-08T21:13:03.388896Z",
     "start_time": "2023-08-08T21:13:03.340129Z"
    }
   },
   "outputs": [
    {
     "data": {
      "text/plain": "2000  EU    1\n      US    2\n2010  EU    3\n      US    4\ndtype: int64"
     },
     "execution_count": 67,
     "metadata": {},
     "output_type": "execute_result"
    }
   ],
   "source": [
    "stacked = df.stack() # going from wide to long format \n",
    "stacked"
   ]
  },
  {
   "cell_type": "markdown",
   "metadata": {
    "slideshow": {
     "slide_type": "slide"
    }
   },
   "source": [
    "## Stacking Data (II/II)"
   ]
  },
  {
   "cell_type": "markdown",
   "metadata": {
    "slideshow": {
     "slide_type": "-"
    }
   },
   "source": [
    "Clearly, the data now comes with **hierarchical indexing**; first year, then region.\n",
    "\n",
    "If we want, we can just reset the indexing:"
   ]
  },
  {
   "cell_type": "code",
   "execution_count": 68,
   "metadata": {
    "slideshow": {
     "slide_type": "fragment"
    },
    "ExecuteTime": {
     "end_time": "2023-08-08T21:13:06.858110Z",
     "start_time": "2023-08-08T21:13:06.801804Z"
    }
   },
   "outputs": [
    {
     "data": {
      "text/plain": "   level_0 level_1  0\n0     2000      EU  1\n1     2000      US  2\n2     2010      EU  3\n3     2010      US  4",
      "text/html": "<div>\n<style scoped>\n    .dataframe tbody tr th:only-of-type {\n        vertical-align: middle;\n    }\n\n    .dataframe tbody tr th {\n        vertical-align: top;\n    }\n\n    .dataframe thead th {\n        text-align: right;\n    }\n</style>\n<table border=\"1\" class=\"dataframe\">\n  <thead>\n    <tr style=\"text-align: right;\">\n      <th></th>\n      <th>level_0</th>\n      <th>level_1</th>\n      <th>0</th>\n    </tr>\n  </thead>\n  <tbody>\n    <tr>\n      <th>0</th>\n      <td>2000</td>\n      <td>EU</td>\n      <td>1</td>\n    </tr>\n    <tr>\n      <th>1</th>\n      <td>2000</td>\n      <td>US</td>\n      <td>2</td>\n    </tr>\n    <tr>\n      <th>2</th>\n      <td>2010</td>\n      <td>EU</td>\n      <td>3</td>\n    </tr>\n    <tr>\n      <th>3</th>\n      <td>2010</td>\n      <td>US</td>\n      <td>4</td>\n    </tr>\n  </tbody>\n</table>\n</div>"
     },
     "execution_count": 68,
     "metadata": {},
     "output_type": "execute_result"
    }
   ],
   "source": [
    "stacked = stacked.reset_index()\n",
    "stacked\n"
   ]
  },
  {
   "cell_type": "markdown",
   "metadata": {
    "slideshow": {
     "slide_type": "-"
    }
   },
   "source": [
    "And then do the renaming..."
   ]
  },
  {
   "cell_type": "code",
   "execution_count": 69,
   "metadata": {
    "ExecuteTime": {
     "end_time": "2023-08-08T21:13:09.553624Z",
     "start_time": "2023-08-08T21:13:09.494525Z"
    }
   },
   "outputs": [
    {
     "data": {
      "text/plain": "   year place  some_val\n0  2000    EU         1\n1  2000    US         2\n2  2010    EU         3\n3  2010    US         4",
      "text/html": "<div>\n<style scoped>\n    .dataframe tbody tr th:only-of-type {\n        vertical-align: middle;\n    }\n\n    .dataframe tbody tr th {\n        vertical-align: top;\n    }\n\n    .dataframe thead th {\n        text-align: right;\n    }\n</style>\n<table border=\"1\" class=\"dataframe\">\n  <thead>\n    <tr style=\"text-align: right;\">\n      <th></th>\n      <th>year</th>\n      <th>place</th>\n      <th>some_val</th>\n    </tr>\n  </thead>\n  <tbody>\n    <tr>\n      <th>0</th>\n      <td>2000</td>\n      <td>EU</td>\n      <td>1</td>\n    </tr>\n    <tr>\n      <th>1</th>\n      <td>2000</td>\n      <td>US</td>\n      <td>2</td>\n    </tr>\n    <tr>\n      <th>2</th>\n      <td>2010</td>\n      <td>EU</td>\n      <td>3</td>\n    </tr>\n    <tr>\n      <th>3</th>\n      <td>2010</td>\n      <td>US</td>\n      <td>4</td>\n    </tr>\n  </tbody>\n</table>\n</div>"
     },
     "execution_count": 69,
     "metadata": {},
     "output_type": "execute_result"
    }
   ],
   "source": [
    "stacked.columns = ['year', 'place', 'some_val']\n",
    "stacked\n"
   ]
  },
  {
   "cell_type": "markdown",
   "metadata": {
    "slideshow": {
     "slide_type": "slide"
    }
   },
   "source": [
    "## To Wide Format"
   ]
  },
  {
   "cell_type": "markdown",
   "metadata": {
    "slideshow": {
     "slide_type": "-"
    }
   },
   "source": [
    "We can easily transform a *long* DataFrame to *wide* with `unstack()`. Consider the example:"
   ]
  },
  {
   "cell_type": "code",
   "execution_count": 51,
   "metadata": {
    "ExecuteTime": {
     "end_time": "2023-08-08T20:33:14.172386Z",
     "start_time": "2023-08-08T20:33:13.912345Z"
    }
   },
   "outputs": [
    {
     "data": {
      "text/plain": "2000  EU    1\n      US    2\n2010  EU    3\n      US    4\ndtype: int64"
     },
     "execution_count": 51,
     "metadata": {},
     "output_type": "execute_result"
    }
   ],
   "source": [
    "stacked_new = df.stack() # going from wide to long format \n",
    "stacked_new\n"
   ]
  },
  {
   "cell_type": "markdown",
   "metadata": {
    "slideshow": {
     "slide_type": "fragment"
    }
   },
   "source": [
    "And transform to wide using either the first or the second index:"
   ]
  },
  {
   "cell_type": "code",
   "execution_count": 52,
   "metadata": {
    "slideshow": {
     "slide_type": "-"
    },
    "ExecuteTime": {
     "end_time": "2023-08-08T20:33:14.190667Z",
     "start_time": "2023-08-08T20:33:13.918576Z"
    }
   },
   "outputs": [
    {
     "data": {
      "text/plain": "    2000  2010\nEU     1     3\nUS     2     4",
      "text/html": "<div>\n<style scoped>\n    .dataframe tbody tr th:only-of-type {\n        vertical-align: middle;\n    }\n\n    .dataframe tbody tr th {\n        vertical-align: top;\n    }\n\n    .dataframe thead th {\n        text-align: right;\n    }\n</style>\n<table border=\"1\" class=\"dataframe\">\n  <thead>\n    <tr style=\"text-align: right;\">\n      <th></th>\n      <th>2000</th>\n      <th>2010</th>\n    </tr>\n  </thead>\n  <tbody>\n    <tr>\n      <th>EU</th>\n      <td>1</td>\n      <td>3</td>\n    </tr>\n    <tr>\n      <th>US</th>\n      <td>2</td>\n      <td>4</td>\n    </tr>\n  </tbody>\n</table>\n</div>"
     },
     "execution_count": 52,
     "metadata": {},
     "output_type": "execute_result"
    }
   ],
   "source": [
    "stacked_new.unstack(level=0)\n"
   ]
  },
  {
   "cell_type": "code",
   "execution_count": 53,
   "metadata": {
    "slideshow": {
     "slide_type": "-"
    },
    "ExecuteTime": {
     "end_time": "2023-08-08T20:33:14.191210Z",
     "start_time": "2023-08-08T20:33:13.926411Z"
    }
   },
   "outputs": [
    {
     "data": {
      "text/plain": "      EU  US\n2000   1   2\n2010   3   4",
      "text/html": "<div>\n<style scoped>\n    .dataframe tbody tr th:only-of-type {\n        vertical-align: middle;\n    }\n\n    .dataframe tbody tr th {\n        vertical-align: top;\n    }\n\n    .dataframe thead th {\n        text-align: right;\n    }\n</style>\n<table border=\"1\" class=\"dataframe\">\n  <thead>\n    <tr style=\"text-align: right;\">\n      <th></th>\n      <th>EU</th>\n      <th>US</th>\n    </tr>\n  </thead>\n  <tbody>\n    <tr>\n      <th>2000</th>\n      <td>1</td>\n      <td>2</td>\n    </tr>\n    <tr>\n      <th>2010</th>\n      <td>3</td>\n      <td>4</td>\n    </tr>\n  </tbody>\n</table>\n</div>"
     },
     "execution_count": 53,
     "metadata": {},
     "output_type": "execute_result"
    }
   ],
   "source": [
    "stacked_new.unstack(level=1)\n"
   ]
  },
  {
   "cell_type": "markdown",
   "metadata": {
    "slideshow": {
     "slide_type": "slide"
    }
   },
   "source": [
    "## More Stuff"
   ]
  },
  {
   "cell_type": "markdown",
   "metadata": {},
   "source": [
    "Other cool functions include\n",
    "- `melt` which only stacks certain columns\n",
    "- `pivot` which allows you to reshape the dataframe like in Excel\n",
    "\n",
    "Applicability depends on case. Example of `.melt()`:"
   ]
  },
  {
   "cell_type": "code",
   "execution_count": 54,
   "metadata": {
    "ExecuteTime": {
     "end_time": "2023-08-08T20:33:14.191501Z",
     "start_time": "2023-08-08T20:33:13.935177Z"
    }
   },
   "outputs": [
    {
     "data": {
      "text/plain": "   year place  some_val\n0  2000    EU         1\n1  2000    US         2\n2  2010    EU         3\n3  2010    US         4",
      "text/html": "<div>\n<style scoped>\n    .dataframe tbody tr th:only-of-type {\n        vertical-align: middle;\n    }\n\n    .dataframe tbody tr th {\n        vertical-align: top;\n    }\n\n    .dataframe thead th {\n        text-align: right;\n    }\n</style>\n<table border=\"1\" class=\"dataframe\">\n  <thead>\n    <tr style=\"text-align: right;\">\n      <th></th>\n      <th>year</th>\n      <th>place</th>\n      <th>some_val</th>\n    </tr>\n  </thead>\n  <tbody>\n    <tr>\n      <th>0</th>\n      <td>2000</td>\n      <td>EU</td>\n      <td>1</td>\n    </tr>\n    <tr>\n      <th>1</th>\n      <td>2000</td>\n      <td>US</td>\n      <td>2</td>\n    </tr>\n    <tr>\n      <th>2</th>\n      <td>2010</td>\n      <td>EU</td>\n      <td>3</td>\n    </tr>\n    <tr>\n      <th>3</th>\n      <td>2010</td>\n      <td>US</td>\n      <td>4</td>\n    </tr>\n  </tbody>\n</table>\n</div>"
     },
     "execution_count": 54,
     "metadata": {},
     "output_type": "execute_result"
    }
   ],
   "source": [
    "stacked"
   ]
  },
  {
   "cell_type": "code",
   "execution_count": 55,
   "metadata": {
    "tags": [],
    "ExecuteTime": {
     "end_time": "2023-08-08T20:33:14.241703Z",
     "start_time": "2023-08-08T20:33:13.944499Z"
    }
   },
   "outputs": [
    {
     "data": {
      "text/plain": "   year  variable value\n0  2000     place    EU\n1  2000     place    US\n2  2010     place    EU\n3  2010     place    US\n4  2000  some_val     1\n5  2000  some_val     2\n6  2010  some_val     3\n7  2010  some_val     4",
      "text/html": "<div>\n<style scoped>\n    .dataframe tbody tr th:only-of-type {\n        vertical-align: middle;\n    }\n\n    .dataframe tbody tr th {\n        vertical-align: top;\n    }\n\n    .dataframe thead th {\n        text-align: right;\n    }\n</style>\n<table border=\"1\" class=\"dataframe\">\n  <thead>\n    <tr style=\"text-align: right;\">\n      <th></th>\n      <th>year</th>\n      <th>variable</th>\n      <th>value</th>\n    </tr>\n  </thead>\n  <tbody>\n    <tr>\n      <th>0</th>\n      <td>2000</td>\n      <td>place</td>\n      <td>EU</td>\n    </tr>\n    <tr>\n      <th>1</th>\n      <td>2000</td>\n      <td>place</td>\n      <td>US</td>\n    </tr>\n    <tr>\n      <th>2</th>\n      <td>2010</td>\n      <td>place</td>\n      <td>EU</td>\n    </tr>\n    <tr>\n      <th>3</th>\n      <td>2010</td>\n      <td>place</td>\n      <td>US</td>\n    </tr>\n    <tr>\n      <th>4</th>\n      <td>2000</td>\n      <td>some_val</td>\n      <td>1</td>\n    </tr>\n    <tr>\n      <th>5</th>\n      <td>2000</td>\n      <td>some_val</td>\n      <td>2</td>\n    </tr>\n    <tr>\n      <th>6</th>\n      <td>2010</td>\n      <td>some_val</td>\n      <td>3</td>\n    </tr>\n    <tr>\n      <th>7</th>\n      <td>2010</td>\n      <td>some_val</td>\n      <td>4</td>\n    </tr>\n  </tbody>\n</table>\n</div>"
     },
     "execution_count": 55,
     "metadata": {},
     "output_type": "execute_result"
    }
   ],
   "source": [
    "pd.melt(stacked, id_vars=['year'], value_vars=['place', 'some_val'])\n"
   ]
  }
 ],
 "metadata": {
  "celltoolbar": "Slideshow",
  "kernelspec": {
   "display_name": "Python 3 (ipykernel)",
   "language": "python",
   "name": "python3"
  },
  "language_info": {
   "codemirror_mode": {
    "name": "ipython",
    "version": 3
   },
   "file_extension": ".py",
   "mimetype": "text/x-python",
   "name": "python",
   "nbconvert_exporter": "python",
   "pygments_lexer": "ipython3",
   "version": "3.9.16"
  }
 },
 "nbformat": 4,
 "nbformat_minor": 4
}
