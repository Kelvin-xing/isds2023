{
 "cells": [
  {
   "cell_type": "markdown",
   "metadata": {
    "slideshow": {
     "slide_type": "slide"
    }
   },
   "source": [
    "\n",
    "# Session 2: Data Structuring in Pandas I"
   ]
  },
  {
   "cell_type": "markdown",
   "metadata": {
    "slideshow": {
     "slide_type": "slide"
    }
   },
   "source": [
    "## A brief note on the structure\n",
    "\n",
    "Most days have morning and afternoon lectures:\n",
    "   \n",
    " - A live part:\n",
    "    - Serves as a link between the previous session and next session.\n",
    "    - Recap and brief introduction to new session.\n",
    "   \n",
    " - The exercises:\n",
    "    - Coding tasks combined with videos that cover each topic.\n",
    "    - This is where you will do most of your learning!\n",
    "   \n",
    "Note: Live part is *scheduled* to take 45 minutes, but I expect we will end early most of the time (more time for exercises, yay!)"
   ]
  },
  {
   "cell_type": "markdown",
   "metadata": {
    "slideshow": {
     "slide_type": "slide"
    }
   },
   "source": [
    "##  What's next"
   ]
  },
  {
   "cell_type": "markdown",
   "metadata": {
    "slideshow": {
     "slide_type": "fragment"
    }
   },
   "source": [
    "Data structuring:\n",
    "- Data cleaning (session 2 and 3)\n",
    "- Data transformation (session 2 and 3)\n",
    "- Data visualization  (session 4)"
   ]
  },
  {
   "cell_type": "markdown",
   "metadata": {
    "slideshow": {
     "slide_type": "slide"
    }
   },
   "source": [
    "## The Wheel of Data Science\n",
    "\n",
    "*How does data science work?*\n",
    "\n",
    "<br>\n",
    "<br>\n",
    "<center><img src='https://raw.githubusercontent.com/hadley/r4ds/5ad1eca391e6061ef43256ac6f9cd8e250bb91f5/diagrams/data-science.png' alt=\"Drawing\" style=\"width: 700px;\"/></center>"
   ]
  },
  {
   "cell_type": "markdown",
   "metadata": {
    "slideshow": {
     "slide_type": "slide"
    }
   },
   "source": [
    "## Help and Advice"
   ]
  },
  {
   "cell_type": "markdown",
   "metadata": {
    "slideshow": {
     "slide_type": "fragment"
    }
   },
   "source": [
    "Whenever you have a question you do as follows:"
   ]
  },
  {
   "cell_type": "markdown",
   "metadata": {
    "slideshow": {
     "slide_type": "fragment"
    }
   },
   "source": [
    "1: You ask other people in your group."
   ]
  },
  {
   "cell_type": "markdown",
   "metadata": {
    "slideshow": {
     "slide_type": "fragment"
    }
   },
   "source": [
    "\n",
    "2: **You search on Google, StackOverflow, ask chatGPT**"
   ]
  },
  {
   "cell_type": "markdown",
   "metadata": {
    "slideshow": {
     "slide_type": "fragment"
    }
   },
   "source": [
    "3: You ask the neighbouring groups."
   ]
  },
  {
   "cell_type": "markdown",
   "metadata": {
    "slideshow": {
     "slide_type": "fragment"
    }
   },
   "source": [
    "4: You raise an [issue in our Github repo](https://github.com/isdsucph/isds2023) or ask the TAs"
   ]
  },
  {
   "cell_type": "markdown",
   "metadata": {
    "slideshow": {
     "slide_type": "slide"
    }
   },
   "source": [
    "## Github - A Very Quick Guide!"
   ]
  },
  {
   "cell_type": "markdown",
   "metadata": {
    "slideshow": {
     "slide_type": "fragment"
    }
   },
   "source": [
    "Approach 1: \n",
    "1. Go to https://github.com/isdsucph/isds2023\n",
    "2. Click _code -> download zip_\n",
    "3. Either save everything or choose the particular files you need\n",
    "\n",
    "Approach 2:\n",
    "1. Download and install Github Desktop\n",
    "2. Click _code -> Open with Github Desktop_ -> Choose the path where you want to store the files -> Click Clone\n",
    "3. The repository has now been cloned (copied) to the selected folder\n",
    "4. When we update the repository you easily update changes by clicking \"Fetch/pull origin\" \n",
    "\n",
    "Note: To avoid conflicts between local changes and remote changes you may want to change the name of the files before editing."
   ]
  },
  {
   "cell_type": "markdown",
   "metadata": {
    "slideshow": {
     "slide_type": "slide"
    }
   },
   "source": [
    "## Agenda for Session 2\n",
    "\n",
    "In this session, we will work with `pandas` and learn how to structure data."
   ]
  },
  {
   "cell_type": "markdown",
   "metadata": {
    "slideshow": {
     "slide_type": "fragment"
    }
   },
   "source": [
    "Live part:\n",
    "- Where You Are At\n",
    "- Why We Structure Data\n",
    "- Overview of Numpy and Pandas"
   ]
  },
  {
   "cell_type": "markdown",
   "metadata": {
    "slideshow": {
     "slide_type": "fragment"
    }
   },
   "source": [
    "Video part integrated with exercises:\n",
    "1. Welcome (Back to) Pandas\n",
    "    - DataFrames and Series\n",
    "    - Operations with Elementary Data Types\n",
    "        - Boolean Operations\n",
    "        - Numeric Operations and Methods\n",
    "        - String Operations\n",
    "2. Readible Code and Method Chaining\n",
    "3. More Advanced Data Types\n",
    "    - Categorical Data\n",
    "    - Time Series Data"
   ]
  },
  {
   "cell_type": "markdown",
   "metadata": {
    "slideshow": {
     "slide_type": "slide"
    }
   },
   "source": [
    "## Associated Readings\n"
   ]
  },
  {
   "cell_type": "markdown",
   "metadata": {
    "slideshow": {
     "slide_type": "fragment"
    }
   },
   "source": [
    "PDA, Chapter 5: \n",
    "\n",
    "- Getting started with pandas"
   ]
  },
  {
   "cell_type": "markdown",
   "metadata": {
    "slideshow": {
     "slide_type": "fragment"
    }
   },
   "source": [
    "PDA, Chapter 7: p. 213-215, 228-229, 236-245: \n",
    "\n",
    "- A little data transformations\n",
    "- A little string manipulations\n",
    "- How to handle categorical data (encoding class labels and one-hot encoding)"
   ]
  },
  {
   "cell_type": "markdown",
   "metadata": {
    "slideshow": {
     "slide_type": "fragment"
    }
   },
   "source": [
    "PDA, sections 11.1-11.2:\n",
    "- Dates and time in Python\n",
    "- Working with time series in pandas (time as index)"
   ]
  },
  {
   "cell_type": "markdown",
   "metadata": {
    "slideshow": {
     "slide_type": "slide"
    }
   },
   "source": [
    "# Where You Are At"
   ]
  },
  {
   "cell_type": "markdown",
   "metadata": {
    "slideshow": {
     "slide_type": "slide"
    }
   },
   "source": [
    "## Assignment 0\n",
    "\n",
    "You already did a lot of work with assignment 0! Among other things, you dealt with:"
   ]
  },
  {
   "cell_type": "markdown",
   "metadata": {
    "slideshow": {
     "slide_type": "fragment"
    }
   },
   "source": [
    "- Fundamentals of Python:\n",
    "    - Data types: integer, float, string and boolean\n",
    "    - Operators: numerical and logical\n",
    "    - Sequential containers"
   ]
  },
  {
   "cell_type": "markdown",
   "metadata": {
    "slideshow": {
     "slide_type": "fragment"
    }
   },
   "source": [
    "- Building blocks of code:\n",
    "    - If-then syntax\n",
    "    - Loops: for and while\n",
    "    - Reuseable code: Functions, classes and modules"
   ]
  },
  {
   "cell_type": "markdown",
   "metadata": {
    "slideshow": {
     "slide_type": "fragment"
    }
   },
   "source": [
    "- Data Structuring in Pandas\n",
    "    - Constructing a pandas Series/DataFrame\n",
    "    - Reading `csv` files\n",
    "    - Naming columns and rows\n",
    "    - Selecting columns and rows\n",
    "    - Numerical operations\n",
    "    - Sorting data"
   ]
  },
  {
   "cell_type": "markdown",
   "metadata": {
    "slideshow": {
     "slide_type": "slide"
    }
   },
   "source": [
    "## Reading Those Assert Statements...\n",
    "\n",
    "... it may have been frustrating.\n",
    "\n",
    "\n",
    "\n",
    "<center><img src='https://media.giphy.com/media/ZQBH5pvoyiZSE/giphy.gif' alt=\"Drawing\" style=\"width: 500px;\"/></center>"
   ]
  },
  {
   "cell_type": "markdown",
   "metadata": {
    "slideshow": {
     "slide_type": "fragment"
    }
   },
   "source": [
    "But don't worry: If these ever determine a pass/fail, please just let us know, and we will sort it out!"
   ]
  },
  {
   "cell_type": "markdown",
   "metadata": {
    "slideshow": {
     "slide_type": "slide"
    }
   },
   "source": [
    "# Why We Structure Data"
   ]
  },
  {
   "cell_type": "markdown",
   "metadata": {
    "slideshow": {
     "slide_type": "slide"
    }
   },
   "source": [
    "## Motivation\n",
    "*Why do we want to learn data structuring?*"
   ]
  },
  {
   "cell_type": "markdown",
   "metadata": {
    "slideshow": {
     "slide_type": "fragment"
    }
   },
   "source": [
    "- Data rarely comes in the form that is ready to be modelled. We need to 'wrangle' our data.\n",
    "- Someone has to do this - and this person might very well be you (often takes longer than the actual data analysis!)\n",
    "- You need to know what is going on with the data structuring: This is the backbone of your analyses!"
   ]
  },
  {
   "cell_type": "markdown",
   "metadata": {
    "slideshow": {
     "slide_type": "fragment"
    }
   },
   "source": [
    "*Can our machine learning models not do this for us?* "
   ]
  },
  {
   "cell_type": "markdown",
   "metadata": {
    "slideshow": {
     "slide_type": "fragment"
    }
   },
   "source": [
    "Not yet :( ... The current version needs **tidy** data. What is tidy? "
   ]
  },
  {
   "cell_type": "markdown",
   "metadata": {
    "slideshow": {
     "slide_type": "fragment"
    }
   },
   "source": [
    "Good discussion [here](https://cran.r-project.org/web/packages/tidyr/vignettes/tidy-data.html). \n",
    "\n",
    "Structured (cleaned and prepared) datasets that facilitates analyses e.g.:\n",
    "- Every column is a variable.\n",
    "- Every row is an observation.\n",
    "- Every cell is a single value."
   ]
  },
  {
   "cell_type": "markdown",
   "metadata": {
    "slideshow": {
     "slide_type": "slide"
    }
   },
   "source": [
    "## Tidy Data\n",
    "\n",
    "<center><img src='https://raw.githubusercontent.com/abjer/sds2017/master/slides/figures/tidy.png'></center>"
   ]
  },
  {
   "cell_type": "markdown",
   "metadata": {
    "slideshow": {
     "slide_type": "slide"
    }
   },
   "source": [
    "# Numpy and Pandas"
   ]
  },
  {
   "cell_type": "markdown",
   "metadata": {
    "slideshow": {
     "slide_type": "skip"
    }
   },
   "source": [
    "## Loading Stuff"
   ]
  },
  {
   "cell_type": "code",
   "execution_count": 1,
   "metadata": {
    "slideshow": {
     "slide_type": "skip"
    },
    "ExecuteTime": {
     "end_time": "2023-08-03T11:54:36.569136Z",
     "start_time": "2023-08-03T11:54:36.557135Z"
    }
   },
   "outputs": [],
   "source": [
    "# Loading packages\n",
    "import numpy as np\n",
    "import pandas as pd"
   ]
  },
  {
   "cell_type": "markdown",
   "metadata": {
    "slideshow": {
     "slide_type": "slide"
    }
   },
   "source": [
    "## Numpy Overview\n",
    "*What is the [`numpy`](http://www.numpy.org/) module?*"
   ]
  },
  {
   "cell_type": "markdown",
   "metadata": {
    "slideshow": {
     "slide_type": "fragment"
    }
   },
   "source": [
    "`numpy` is a Python module similar to matlab \n",
    "- fast and versatile for manipulating arrays\n",
    "- linear algebra tools available\n",
    "- used in some machine learning and statistics packages\n",
    "\n",
    "Example of creating an array similar to a 2x2 matrix:"
   ]
  },
  {
   "cell_type": "code",
   "execution_count": 2,
   "metadata": {
    "slideshow": {
     "slide_type": "-"
    },
    "ExecuteTime": {
     "end_time": "2023-08-03T11:54:36.571395Z",
     "start_time": "2023-08-03T11:54:36.565953Z"
    }
   },
   "outputs": [
    {
     "data": {
      "text/plain": "array([[1, 2],\n       [3, 4]])"
     },
     "execution_count": 2,
     "metadata": {},
     "output_type": "execute_result"
    }
   ],
   "source": [
    "table = [[1,2],[3,4]]\n",
    "arr = np.array(table)\n",
    "arr "
   ]
  },
  {
   "cell_type": "markdown",
   "metadata": {
    "slideshow": {
     "slide_type": "slide"
    }
   },
   "source": [
    "## Pandas Motivation\n",
    "*Why use Pandas?*"
   ]
  },
  {
   "cell_type": "markdown",
   "metadata": {
    "slideshow": {
     "slide_type": "fragment"
    }
   },
   "source": [
    "It is built on numpy:\n",
    "- Powerful and fast tools for manipulating data from numpy\n",
    "- Simplicity: Pandas is built with Python's simplicity \n",
    "\n",
    "Improves on numpy:\n",
    "- Clarity (easier to get an overview of your data)\n",
    "- Increased flexibility by using labels (keys)\n",
    "- Introduces lots of new, useful tools for data analysis (more on this)\n",
    "\n",
    "Note: More similar to common software for data manipulation like, say, Stata"
   ]
  },
  {
   "cell_type": "markdown",
   "metadata": {
    "slideshow": {
     "slide_type": "slide"
    }
   },
   "source": [
    "## Pandas Popularity\n",
    "\n",
    "<center><img src='https://www.sqlshack.com/wp-content/uploads/2020/08/pandas-in-python-popularity-from-stack-overflow.png' alt=\"Drawing\" style=\"width: 500px;\"/></center>\n",
    "\n"
   ]
  },
  {
   "cell_type": "markdown",
   "metadata": {
    "slideshow": {
     "slide_type": "slide"
    }
   },
   "source": [
    "## Videos + Exercises\n",
    "\n",
    "In the exercises, you are going to (i) learn more about data structuring in Pandas and (ii) work with Pandas yourself.\n",
    "\n",
    "**Reminder**: Google is your best friend when it comes to coding. Learning how to find answers to your coding questions is a skill in itself. \n",
    "\n",
    "Maybe the most important skill that you will develop in this course..."
   ]
  },
  {
   "cell_type": "markdown",
   "metadata": {
    "slideshow": {
     "slide_type": "slide"
    },
    "tags": []
   },
   "source": [
    "# VIDEO 2.1: DataFrames and Series"
   ]
  },
  {
   "cell_type": "markdown",
   "metadata": {
    "slideshow": {
     "slide_type": "slide"
    }
   },
   "source": [
    "## Loading Stuff"
   ]
  },
  {
   "cell_type": "code",
   "execution_count": 3,
   "metadata": {
    "slideshow": {
     "slide_type": "-"
    },
    "ExecuteTime": {
     "end_time": "2023-08-03T11:54:36.571594Z",
     "start_time": "2023-08-03T11:54:36.566902Z"
    }
   },
   "outputs": [],
   "source": [
    "# Loading packages\n",
    "import numpy as np\n",
    "import pandas as pd\n"
   ]
  },
  {
   "cell_type": "markdown",
   "metadata": {
    "slideshow": {
     "slide_type": "slide"
    }
   },
   "source": [
    "## Pandas Data Types\n",
    "*How do we work with data in Pandas?*"
   ]
  },
  {
   "cell_type": "markdown",
   "metadata": {
    "slideshow": {
     "slide_type": "fragment"
    }
   },
   "source": [
    "- We use two fundamental data stuctures: \n",
    "  - ``Series``, and\n",
    "  - ``DataFrame``."
   ]
  },
  {
   "cell_type": "markdown",
   "metadata": {
    "slideshow": {
     "slide_type": "slide"
    }
   },
   "source": [
    "## Pandas Series (I/V)\n",
    "*What is a `Series`?*"
   ]
  },
  {
   "cell_type": "markdown",
   "metadata": {
    "slideshow": {
     "slide_type": "fragment"
    }
   },
   "source": [
    "- A vector/array with labels for each entry (e.g. an index). Example:"
   ]
  },
  {
   "cell_type": "code",
   "execution_count": 4,
   "metadata": {
    "slideshow": {
     "slide_type": "-"
    },
    "ExecuteTime": {
     "end_time": "2023-08-03T11:54:36.612278Z",
     "start_time": "2023-08-03T11:54:36.568119Z"
    }
   },
   "outputs": [
    {
     "data": {
      "text/plain": "0       1\n1       1\n2       2\n3    True\ndtype: object"
     },
     "execution_count": 4,
     "metadata": {},
     "output_type": "execute_result"
    }
   ],
   "source": [
    "L = [1, 1, 2, True]\n",
    "\n",
    "my_series = pd.Series(L)\n",
    "my_series\n"
   ]
  },
  {
   "cell_type": "markdown",
   "metadata": {
    "slideshow": {
     "slide_type": "slide"
    }
   },
   "source": [
    "## Pandas Series (II/V)\n",
    "*What are the components in a Series?*\n",
    "\n",
    "From before, we could see that a Series generally consists of three components:"
   ]
  },
  {
   "cell_type": "markdown",
   "metadata": {
    "slideshow": {
     "slide_type": "fragment"
    }
   },
   "source": [
    "- `index`: label for each observation \n",
    "-  By default the `index` starts at 0 and runs to N-1 with N being the length of the object"
   ]
  },
  {
   "cell_type": "code",
   "execution_count": 5,
   "metadata": {
    "ExecuteTime": {
     "end_time": "2023-08-03T11:54:36.613717Z",
     "start_time": "2023-08-03T11:54:36.573468Z"
    }
   },
   "outputs": [
    {
     "data": {
      "text/plain": "0       1\n1       1\n2       2\n3    True\ndtype: object"
     },
     "execution_count": 5,
     "metadata": {},
     "output_type": "execute_result"
    }
   ],
   "source": [
    "my_series\n"
   ]
  },
  {
   "cell_type": "markdown",
   "metadata": {
    "slideshow": {
     "slide_type": "slide"
    }
   },
   "source": [
    "- `values`: observation data"
   ]
  },
  {
   "cell_type": "code",
   "execution_count": 6,
   "metadata": {
    "ExecuteTime": {
     "end_time": "2023-08-03T11:54:36.613984Z",
     "start_time": "2023-08-03T11:54:36.576215Z"
    }
   },
   "outputs": [
    {
     "data": {
      "text/plain": "0       1\n1       1\n2       2\n3    True\ndtype: object"
     },
     "execution_count": 6,
     "metadata": {},
     "output_type": "execute_result"
    }
   ],
   "source": [
    "my_series\n"
   ]
  },
  {
   "cell_type": "markdown",
   "metadata": {
    "slideshow": {
     "slide_type": "slide"
    }
   },
   "source": [
    "- `dtype`: the format of the series (`object` means any data type is allowed)\n",
    "  - examples are fundamental datatypes (`float`, `int`, `bool`)  "
   ]
  },
  {
   "cell_type": "code",
   "execution_count": 7,
   "metadata": {
    "ExecuteTime": {
     "end_time": "2023-08-03T11:54:36.646343Z",
     "start_time": "2023-08-03T11:54:36.578031Z"
    }
   },
   "outputs": [
    {
     "data": {
      "text/plain": "0       1\n1       1\n2       2\n3    True\ndtype: object"
     },
     "execution_count": 7,
     "metadata": {},
     "output_type": "execute_result"
    }
   ],
   "source": [
    "my_series\n"
   ]
  },
  {
   "cell_type": "markdown",
   "metadata": {
    "slideshow": {
     "slide_type": "slide"
    }
   },
   "source": [
    "## Pandas Series (III/V)\n",
    "*How do we set custom index?* \n",
    "\n",
    "Indices need not have a sequential structure. To see this, consider the following example"
   ]
  },
  {
   "cell_type": "code",
   "execution_count": 8,
   "metadata": {
    "slideshow": {
     "slide_type": "-"
    },
    "ExecuteTime": {
     "end_time": "2023-08-03T11:54:36.646688Z",
     "start_time": "2023-08-03T11:54:36.582964Z"
    }
   },
   "outputs": [],
   "source": [
    "num_data = [0, 1, 2] # Generate data\n",
    "indices = ['B', 'C', 'A'] # Generate index names\n"
   ]
  },
  {
   "cell_type": "markdown",
   "metadata": {
    "slideshow": {
     "slide_type": "fragment"
    }
   },
   "source": [
    "Now, combine to a series:"
   ]
  },
  {
   "cell_type": "code",
   "execution_count": 9,
   "metadata": {
    "slideshow": {
     "slide_type": "subslide"
    },
    "ExecuteTime": {
     "end_time": "2023-08-03T11:54:36.647012Z",
     "start_time": "2023-08-03T11:54:36.585763Z"
    }
   },
   "outputs": [
    {
     "data": {
      "text/plain": "B    0\nC    1\nA    2\ndtype: int64"
     },
     "execution_count": 9,
     "metadata": {},
     "output_type": "execute_result"
    }
   ],
   "source": [
    "my_series2 = pd.Series(data=num_data, index=indices) # Create a pandas series from the two\n",
    "my_series2"
   ]
  },
  {
   "cell_type": "markdown",
   "metadata": {
    "slideshow": {
     "slide_type": "slide"
    }
   },
   "source": [
    "## Pandas Series (IV/V)\n",
    "*What data structure does the pandas series remind us of?*"
   ]
  },
  {
   "cell_type": "markdown",
   "metadata": {
    "slideshow": {
     "slide_type": "fragment"
    }
   },
   "source": [
    "A mix of Python list and dictionary. Consider the following simple transformation:"
   ]
  },
  {
   "cell_type": "code",
   "execution_count": 10,
   "metadata": {
    "scrolled": true,
    "slideshow": {
     "slide_type": "-"
    },
    "ExecuteTime": {
     "end_time": "2023-08-03T11:54:36.647250Z",
     "start_time": "2023-08-03T11:54:36.587815Z"
    }
   },
   "outputs": [
    {
     "data": {
      "text/plain": "{0: 1, 1: 1, 2: 2, 3: True}"
     },
     "execution_count": 10,
     "metadata": {},
     "output_type": "execute_result"
    }
   ],
   "source": [
    "my_series.to_dict()\n"
   ]
  },
  {
   "cell_type": "markdown",
   "metadata": {
    "slideshow": {
     "slide_type": "slide"
    }
   },
   "source": [
    "*Can we also convert a dictionary to a series?*"
   ]
  },
  {
   "cell_type": "markdown",
   "metadata": {
    "slideshow": {
     "slide_type": "fragment"
    }
   },
   "source": [
    "Yes, we just put into the Series (class) constructor. Example:"
   ]
  },
  {
   "cell_type": "code",
   "execution_count": 11,
   "metadata": {
    "slideshow": {
     "slide_type": "-"
    },
    "ExecuteTime": {
     "end_time": "2023-08-03T11:54:36.890717Z",
     "start_time": "2023-08-03T11:54:36.590350Z"
    }
   },
   "outputs": [
    {
     "data": {
      "text/plain": "yesterday    0\ntoday        1\ntomorrow     2\ndtype: int64"
     },
     "execution_count": 11,
     "metadata": {},
     "output_type": "execute_result"
    }
   ],
   "source": [
    "d = {'yesterday': 0, 'today': 1, 'tomorrow': 2} # Create some dictionary\n",
    "my_series3 = pd.Series(d) # Use the constructor\n",
    "my_series3"
   ]
  },
  {
   "cell_type": "markdown",
   "metadata": {
    "slideshow": {
     "slide_type": "slide"
    }
   },
   "source": [
    "## Pandas Series (V/V)\n",
    "*How is the series different from a dict?*"
   ]
  },
  {
   "cell_type": "markdown",
   "metadata": {
    "slideshow": {
     "slide_type": "fragment"
    }
   },
   "source": [
    "An important distinction: Series indices are NOT unique! Example:"
   ]
  },
  {
   "cell_type": "code",
   "execution_count": 72,
   "metadata": {
    "slideshow": {
     "slide_type": "-"
    },
    "ExecuteTime": {
     "end_time": "2023-08-03T11:57:04.988138Z",
     "start_time": "2023-08-03T11:57:04.961485Z"
    }
   },
   "outputs": [
    {
     "name": "stdout",
     "output_type": "stream",
     "text": [
      "[False  True  True]\n",
      "\n",
      "{'A': 2}\n"
     ]
    }
   ],
   "source": [
    "s = pd.Series([0,1,2], index=['A', 'A', 'A']) # Create series with same indices\n",
    "print(s.index.duplicated()) # Check duplicates\n",
    "print()\n",
    "print(s.to_dict()) # So translating to a dict gives...\n"
   ]
  },
  {
   "cell_type": "markdown",
   "metadata": {
    "slideshow": {
     "slide_type": "fragment"
    }
   },
   "source": [
    "We may lose information if we convert a series to a dictionary which requires unique keys"
   ]
  },
  {
   "cell_type": "markdown",
   "metadata": {
    "slideshow": {
     "slide_type": "slide"
    }
   },
   "source": [
    "## Pandas Data Frames (I/IV)\n",
    "\n",
    "*OK, so now we know what a series is. What is a `DataFrame` then?*"
   ]
  },
  {
   "cell_type": "markdown",
   "metadata": {
    "slideshow": {
     "slide_type": "fragment"
    }
   },
   "source": [
    "- A 2d-array (matrix) with labelled columns and rows (which are called indices). Example:"
   ]
  },
  {
   "cell_type": "code",
   "execution_count": 13,
   "metadata": {
    "scrolled": true,
    "ExecuteTime": {
     "end_time": "2023-08-03T11:54:36.891970Z",
     "start_time": "2023-08-03T11:54:36.595055Z"
    }
   },
   "outputs": [
    {
     "data": {
      "text/plain": "   A  B\n0  1  2\n1  3  4",
      "text/html": "<div>\n<style scoped>\n    .dataframe tbody tr th:only-of-type {\n        vertical-align: middle;\n    }\n\n    .dataframe tbody tr th {\n        vertical-align: top;\n    }\n\n    .dataframe thead th {\n        text-align: right;\n    }\n</style>\n<table border=\"1\" class=\"dataframe\">\n  <thead>\n    <tr style=\"text-align: right;\">\n      <th></th>\n      <th>A</th>\n      <th>B</th>\n    </tr>\n  </thead>\n  <tbody>\n    <tr>\n      <th>0</th>\n      <td>1</td>\n      <td>2</td>\n    </tr>\n    <tr>\n      <th>1</th>\n      <td>3</td>\n      <td>4</td>\n    </tr>\n  </tbody>\n</table>\n</div>"
     },
     "execution_count": 13,
     "metadata": {},
     "output_type": "execute_result"
    }
   ],
   "source": [
    "df = pd.DataFrame(data=[[1,2],[3,4]],\n",
    "                  columns=['A', 'B'])\n",
    "df"
   ]
  },
  {
   "cell_type": "markdown",
   "metadata": {
    "slideshow": {
     "slide_type": "slide"
    }
   },
   "source": [
    "## Pandas Data Frames (II/IV)\n",
    "\n",
    "*How can we really think about this?*"
   ]
  },
  {
   "cell_type": "markdown",
   "metadata": {
    "slideshow": {
     "slide_type": "fragment"
    }
   },
   "source": [
    "There are at least two simple ways of seeing the pandas DataFrame:\n",
    "1. A numpy array with some additional stuff.\n",
    "2. A set of series that have been merged horizontally\n",
    "    - Note that columns can have different datatypes!\n",
    "    - But they share the same index"
   ]
  },
  {
   "cell_type": "markdown",
   "metadata": {
    "slideshow": {
     "slide_type": "slide"
    }
   },
   "source": [
    "Most functions from `numpy` can be applied directly to Pandas. We can convert a DataFrame to a `numpy` array with `values` attribute."
   ]
  },
  {
   "cell_type": "code",
   "execution_count": 14,
   "metadata": {
    "slideshow": {
     "slide_type": "-"
    },
    "ExecuteTime": {
     "end_time": "2023-08-03T11:54:36.892243Z",
     "start_time": "2023-08-03T11:54:36.599558Z"
    }
   },
   "outputs": [
    {
     "data": {
      "text/plain": "array([[1, 2],\n       [3, 4]])"
     },
     "execution_count": 14,
     "metadata": {},
     "output_type": "execute_result"
    }
   ],
   "source": [
    "df.values"
   ]
  },
  {
   "cell_type": "markdown",
   "metadata": {
    "slideshow": {
     "slide_type": "fragment"
    }
   },
   "source": [
    "*To note*: In Python we can describe it as a *list of lists* or sometimes a *dict of dicts*."
   ]
  },
  {
   "cell_type": "code",
   "execution_count": 15,
   "metadata": {
    "slideshow": {
     "slide_type": "-"
    },
    "ExecuteTime": {
     "end_time": "2023-08-03T11:54:36.892495Z",
     "start_time": "2023-08-03T11:54:36.602174Z"
    }
   },
   "outputs": [
    {
     "data": {
      "text/plain": "[[1, 2], [3, 4]]"
     },
     "execution_count": 15,
     "metadata": {},
     "output_type": "execute_result"
    }
   ],
   "source": [
    "df.values.tolist()"
   ]
  },
  {
   "cell_type": "markdown",
   "metadata": {
    "slideshow": {
     "slide_type": "slide"
    }
   },
   "source": [
    "## Pandas Data Frames (III/IV)\n",
    "\n",
    "*How can larger pandas dataframes be built?*"
   ]
  },
  {
   "cell_type": "markdown",
   "metadata": {
    "slideshow": {
     "slide_type": "fragment"
    }
   },
   "source": [
    "Similar to Series, DataFrames can be built from dictionaries."
   ]
  },
  {
   "cell_type": "markdown",
   "metadata": {
    "slideshow": {
     "slide_type": "fragment"
    }
   },
   "source": [
    "One way is to make a dictionary of dictionaries and pass it to the constructor. Example:"
   ]
  },
  {
   "cell_type": "code",
   "execution_count": 16,
   "metadata": {
    "ExecuteTime": {
     "end_time": "2023-08-03T11:54:36.893020Z",
     "start_time": "2023-08-03T11:54:36.605794Z"
    }
   },
   "outputs": [
    {
     "data": {
      "text/plain": "     january  february  march\n1st        0        -3      3\n2nd        1        -1      5\n3rd        3        -2      4",
      "text/html": "<div>\n<style scoped>\n    .dataframe tbody tr th:only-of-type {\n        vertical-align: middle;\n    }\n\n    .dataframe tbody tr th {\n        vertical-align: top;\n    }\n\n    .dataframe thead th {\n        text-align: right;\n    }\n</style>\n<table border=\"1\" class=\"dataframe\">\n  <thead>\n    <tr style=\"text-align: right;\">\n      <th></th>\n      <th>january</th>\n      <th>february</th>\n      <th>march</th>\n    </tr>\n  </thead>\n  <tbody>\n    <tr>\n      <th>1st</th>\n      <td>0</td>\n      <td>-3</td>\n      <td>3</td>\n    </tr>\n    <tr>\n      <th>2nd</th>\n      <td>1</td>\n      <td>-1</td>\n      <td>5</td>\n    </tr>\n    <tr>\n      <th>3rd</th>\n      <td>3</td>\n      <td>-2</td>\n      <td>4</td>\n    </tr>\n  </tbody>\n</table>\n</div>"
     },
     "execution_count": 16,
     "metadata": {},
     "output_type": "execute_result"
    }
   ],
   "source": [
    "djan = {'1st': 0, '2nd': 1, '3rd':3} # Create some dictionary for january\n",
    "dfeb = {'1st': -3, '2nd': -1, '3rd':-2} # Create some dictionary for february\n",
    "dmar = {'1st': 3, '2nd': 5, '3rd':4} # Create some dictionary for march\n",
    "\n",
    "d = {'january': djan, 'february': dfeb, 'march': dmar} # Create dictionary of dictionaries\n",
    "my_df1 = pd.DataFrame(d) # Use the constructor\n",
    "my_df1"
   ]
  },
  {
   "cell_type": "markdown",
   "metadata": {
    "slideshow": {
     "slide_type": "fragment"
    }
   },
   "source": [
    "Outer keys are interpreted as column names, and inner keys as the row indices"
   ]
  },
  {
   "cell_type": "markdown",
   "metadata": {
    "slideshow": {
     "slide_type": "slide"
    }
   },
   "source": [
    "## Pandas Data Frames (IV/IV)\n",
    "\n",
    "*What happens if keys are not the same?*"
   ]
  },
  {
   "cell_type": "markdown",
   "metadata": {
    "slideshow": {
     "slide_type": "fragment"
    }
   },
   "source": [
    "No big deal..."
   ]
  },
  {
   "cell_type": "code",
   "execution_count": 17,
   "metadata": {
    "slideshow": {
     "slide_type": "-"
    },
    "ExecuteTime": {
     "end_time": "2023-08-03T11:54:36.893493Z",
     "start_time": "2023-08-03T11:54:36.609856Z"
    }
   },
   "outputs": [
    {
     "data": {
      "text/plain": "     january  february  march\n1st      0.0      -3.0    3.0\n2nd      1.0      -1.0    5.0\n3rd      3.0      -2.0    NaN\n4th      NaN       NaN    4.0",
      "text/html": "<div>\n<style scoped>\n    .dataframe tbody tr th:only-of-type {\n        vertical-align: middle;\n    }\n\n    .dataframe tbody tr th {\n        vertical-align: top;\n    }\n\n    .dataframe thead th {\n        text-align: right;\n    }\n</style>\n<table border=\"1\" class=\"dataframe\">\n  <thead>\n    <tr style=\"text-align: right;\">\n      <th></th>\n      <th>january</th>\n      <th>february</th>\n      <th>march</th>\n    </tr>\n  </thead>\n  <tbody>\n    <tr>\n      <th>1st</th>\n      <td>0.0</td>\n      <td>-3.0</td>\n      <td>3.0</td>\n    </tr>\n    <tr>\n      <th>2nd</th>\n      <td>1.0</td>\n      <td>-1.0</td>\n      <td>5.0</td>\n    </tr>\n    <tr>\n      <th>3rd</th>\n      <td>3.0</td>\n      <td>-2.0</td>\n      <td>NaN</td>\n    </tr>\n    <tr>\n      <th>4th</th>\n      <td>NaN</td>\n      <td>NaN</td>\n      <td>4.0</td>\n    </tr>\n  </tbody>\n</table>\n</div>"
     },
     "execution_count": 17,
     "metadata": {},
     "output_type": "execute_result"
    }
   ],
   "source": [
    "djan = {'1st': 0, '2nd': 1, '3rd':3} # Create some dictionary for january\n",
    "dfeb = {'1st': -3, '2nd': -1, '3rd':-2} # Create some dictionary for february\n",
    "dmar = {'1st': 3, '2nd': 5, '4th':4} # Create some dictionary for march\n",
    "\n",
    "d = {'january': djan, 'february': dfeb, 'march': dmar} # Create dictionary of dictionaries\n",
    "my_df2 = pd.DataFrame(d) # Use the constructor\n",
    "my_df2"
   ]
  },
  {
   "cell_type": "markdown",
   "metadata": {
    "slideshow": {
     "slide_type": "slide"
    }
   },
   "source": [
    "## Series vs DataFrames (I/II)\n",
    "*How are Series related to DataFrames?*"
   ]
  },
  {
   "cell_type": "markdown",
   "metadata": {
    "slideshow": {
     "slide_type": "fragment"
    }
   },
   "source": [
    "Putting it simple: Every column is a series. Example, access as key (recommended):"
   ]
  },
  {
   "cell_type": "code",
   "execution_count": 18,
   "metadata": {
    "slideshow": {
     "slide_type": "-"
    },
    "ExecuteTime": {
     "end_time": "2023-08-03T11:54:36.952764Z",
     "start_time": "2023-08-03T11:54:36.612409Z"
    }
   },
   "outputs": [
    {
     "name": "stdout",
     "output_type": "stream",
     "text": [
      "0    2\n",
      "1    4\n",
      "Name: B, dtype: int64\n"
     ]
    }
   ],
   "source": [
    "print(df['B'])\n"
   ]
  },
  {
   "cell_type": "markdown",
   "metadata": {
    "slideshow": {
     "slide_type": "fragment"
    }
   },
   "source": [
    "Another option is access as object method... smart, but dangerous! Sometimes it works..."
   ]
  },
  {
   "cell_type": "code",
   "execution_count": 19,
   "metadata": {
    "scrolled": true,
    "slideshow": {
     "slide_type": "-"
    },
    "ExecuteTime": {
     "end_time": "2023-08-03T11:54:37.010175Z",
     "start_time": "2023-08-03T11:54:36.614312Z"
    }
   },
   "outputs": [
    {
     "name": "stdout",
     "output_type": "stream",
     "text": [
      "0    2\n",
      "1    4\n",
      "Name: B, dtype: int64\n"
     ]
    }
   ],
   "source": [
    "print(df.B)\n"
   ]
  },
  {
   "cell_type": "markdown",
   "metadata": {
    "slideshow": {
     "slide_type": "slide"
    }
   },
   "source": [
    "## Series vs DataFrames (II/II)\n",
    "*But when wouldn't this work?*"
   ]
  },
  {
   "cell_type": "markdown",
   "metadata": {
    "slideshow": {
     "slide_type": "fragment"
    }
   },
   "source": [
    "To illustrate, add one more column:"
   ]
  },
  {
   "cell_type": "code",
   "execution_count": 20,
   "metadata": {
    "slideshow": {
     "slide_type": "-"
    },
    "ExecuteTime": {
     "end_time": "2023-08-03T11:54:37.012610Z",
     "start_time": "2023-08-03T11:54:36.616801Z"
    }
   },
   "outputs": [
    {
     "name": "stdout",
     "output_type": "stream",
     "text": [
      "   A  B  count\n",
      "0  1  2      5\n",
      "1  3  4      5\n"
     ]
    }
   ],
   "source": [
    "df['count'] =  5\n",
    "print(df)\n"
   ]
  },
  {
   "cell_type": "markdown",
   "metadata": {
    "slideshow": {
     "slide_type": "slide"
    }
   },
   "source": [
    "Now print this and see!"
   ]
  },
  {
   "cell_type": "code",
   "execution_count": 21,
   "metadata": {
    "scrolled": true,
    "slideshow": {
     "slide_type": "-"
    },
    "ExecuteTime": {
     "end_time": "2023-08-03T11:54:37.013654Z",
     "start_time": "2023-08-03T11:54:36.619563Z"
    }
   },
   "outputs": [
    {
     "name": "stdout",
     "output_type": "stream",
     "text": [
      "<bound method DataFrame.count of    A  B  count\n",
      "0  1  2      5\n",
      "1  3  4      5>\n"
     ]
    }
   ],
   "source": [
    "print(df.count)\n"
   ]
  },
  {
   "cell_type": "markdown",
   "metadata": {
    "slideshow": {
     "slide_type": "fragment"
    }
   },
   "source": [
    "Clearly, the key-based option is more robust as variables named same as methods, e.g. `count`, cannot be accesed.\n",
    "\n",
    "Variable names with whitespace or symbols other than underscore wont work either"
   ]
  },
  {
   "cell_type": "markdown",
   "metadata": {
    "slideshow": {
     "slide_type": "slide"
    }
   },
   "source": [
    "## Converting Data Types"
   ]
  },
  {
   "cell_type": "markdown",
   "metadata": {
    "slideshow": {
     "slide_type": "-"
    }
   },
   "source": [
    "The data type of a series can be converted with the **astype** method. An examples:"
   ]
  },
  {
   "cell_type": "code",
   "execution_count": 22,
   "metadata": {
    "ExecuteTime": {
     "end_time": "2023-08-03T11:54:37.014026Z",
     "start_time": "2023-08-03T11:54:36.621779Z"
    }
   },
   "outputs": [
    {
     "name": "stdout",
     "output_type": "stream",
     "text": [
      "yesterday    0\n",
      "today        1\n",
      "tomorrow     2\n",
      "dtype: int64\n",
      "\n",
      "yesterday    0.0\n",
      "today        1.0\n",
      "tomorrow     2.0\n",
      "dtype: float64\n"
     ]
    }
   ],
   "source": [
    "print(my_series3)\n",
    "print()\n",
    "print(my_series3.astype(float))\n",
    "print()\n"
   ]
  },
  {
   "cell_type": "markdown",
   "metadata": {
    "slideshow": {
     "slide_type": "slide"
    }
   },
   "source": [
    "## Indices and Column Names\n",
    "*Why don't we just use numpy arrays and matrices?*\n"
   ]
  },
  {
   "cell_type": "markdown",
   "metadata": {
    "slideshow": {
     "slide_type": "fragment"
    }
   },
   "source": [
    "- Inspection of data is quicker\n",
    "    - What was it that column represented?"
   ]
  },
  {
   "cell_type": "code",
   "execution_count": 23,
   "metadata": {
    "ExecuteTime": {
     "end_time": "2023-08-03T11:54:37.014340Z",
     "start_time": "2023-08-03T11:54:36.623016Z"
    }
   },
   "outputs": [
    {
     "name": "stdout",
     "output_type": "stream",
     "text": [
      "     january  february  march\n",
      "1st      0.0      -3.0    3.0\n",
      "2nd      1.0      -1.0    5.0\n",
      "3rd      3.0      -2.0    NaN\n",
      "4th      NaN       NaN    4.0\n",
      "\n",
      "vs\n",
      "\n",
      "[[ 0. -3.  3.]\n",
      " [ 1. -1.  5.]\n",
      " [ 3. -2. nan]\n",
      " [nan nan  4.]]\n"
     ]
    }
   ],
   "source": [
    "print(my_df2)\n",
    "print()\n",
    "print('vs')\n",
    "print()\n",
    "print(my_df2.values)"
   ]
  },
  {
   "cell_type": "markdown",
   "metadata": {
    "slideshow": {
     "slide_type": "slide"
    }
   },
   "source": [
    "- Keep track of rows after deletion\n",
    "    - Again.... What was it that column represented!?"
   ]
  },
  {
   "cell_type": "code",
   "execution_count": 24,
   "metadata": {
    "ExecuteTime": {
     "end_time": "2023-08-03T11:54:37.014616Z",
     "start_time": "2023-08-03T11:54:36.626729Z"
    }
   },
   "outputs": [
    {
     "name": "stdout",
     "output_type": "stream",
     "text": [
      "     january  february  march\n",
      "1st      0.0      -3.0    3.0\n",
      "2nd      1.0      -1.0    5.0\n",
      "3rd      3.0      -2.0    NaN\n",
      "4th      NaN       NaN    4.0\n",
      "\n",
      "vs\n",
      "\n",
      "[[ 0. -3.  3.]\n",
      " [ 1. -1.  5.]\n",
      " [ 3. -2. nan]\n",
      " [nan nan  4.]]\n"
     ]
    }
   ],
   "source": [
    "print(my_df2)\n",
    "print()\n",
    "print('vs')\n",
    "print()\n",
    "print(my_df2.values)"
   ]
  },
  {
   "cell_type": "markdown",
   "metadata": {
    "slideshow": {
     "slide_type": "slide"
    }
   },
   "source": [
    "- Indices may contain fundamentally different data structures \n",
    "    - e.g. time series (more about this later)"
   ]
  },
  {
   "cell_type": "markdown",
   "metadata": {
    "slideshow": {
     "slide_type": "fragment"
    }
   },
   "source": [
    "- Facilitates complex operation (next session):\n",
    "    - Merging datasets\n",
    "    - Split-apply-combine (operations on subsets of data)\n",
    "    - Method chaining (multiple operations in sequence)"
   ]
  },
  {
   "cell_type": "markdown",
   "metadata": {
    "slideshow": {
     "slide_type": "slide"
    }
   },
   "source": [
    "## Viewing Series and Dataframes\n",
    "*How can we view the contents in our dataset?*\n",
    "- We can use `print` on our dataset\n",
    "- We can visualize patterns by plotting"
   ]
  },
  {
   "cell_type": "markdown",
   "metadata": {
    "slideshow": {
     "slide_type": "slide"
    }
   },
   "source": [
    "## The Head and Tail\n",
    "*But what if we have a large data set with many rows?*"
   ]
  },
  {
   "cell_type": "markdown",
   "metadata": {
    "slideshow": {
     "slide_type": "fragment"
    }
   },
   "source": [
    "Let's load the 'titanic' data set that comes with the *seaborn* library:"
   ]
  },
  {
   "cell_type": "code",
   "execution_count": 25,
   "metadata": {
    "slideshow": {
     "slide_type": "-"
    },
    "tags": [],
    "ExecuteTime": {
     "end_time": "2023-08-03T11:54:37.018926Z",
     "start_time": "2023-08-03T11:54:36.628686Z"
    }
   },
   "outputs": [],
   "source": [
    "import seaborn as sns\n",
    "titanic = sns.load_dataset('titanic')\n"
   ]
  },
  {
   "cell_type": "markdown",
   "metadata": {
    "slideshow": {
     "slide_type": "fragment"
    }
   },
   "source": [
    "We now select the *first* 5 rows with the `head` method."
   ]
  },
  {
   "cell_type": "code",
   "execution_count": 26,
   "metadata": {
    "scrolled": true,
    "slideshow": {
     "slide_type": "-"
    },
    "tags": [],
    "ExecuteTime": {
     "end_time": "2023-08-03T11:54:37.044053Z",
     "start_time": "2023-08-03T11:54:36.640254Z"
    }
   },
   "outputs": [
    {
     "data": {
      "text/plain": "   survived  pclass     sex   age  sibsp  parch     fare embarked  class  \\\n0         0       3    male  22.0      1      0   7.2500        S  Third   \n1         1       1  female  38.0      1      0  71.2833        C  First   \n2         1       3  female  26.0      0      0   7.9250        S  Third   \n3         1       1  female  35.0      1      0  53.1000        S  First   \n4         0       3    male  35.0      0      0   8.0500        S  Third   \n\n     who  adult_male deck  embark_town alive  alone  \n0    man        True  NaN  Southampton    no  False  \n1  woman       False    C    Cherbourg   yes  False  \n2  woman       False  NaN  Southampton   yes   True  \n3  woman       False    C  Southampton   yes  False  \n4    man        True  NaN  Southampton    no   True  ",
      "text/html": "<div>\n<style scoped>\n    .dataframe tbody tr th:only-of-type {\n        vertical-align: middle;\n    }\n\n    .dataframe tbody tr th {\n        vertical-align: top;\n    }\n\n    .dataframe thead th {\n        text-align: right;\n    }\n</style>\n<table border=\"1\" class=\"dataframe\">\n  <thead>\n    <tr style=\"text-align: right;\">\n      <th></th>\n      <th>survived</th>\n      <th>pclass</th>\n      <th>sex</th>\n      <th>age</th>\n      <th>sibsp</th>\n      <th>parch</th>\n      <th>fare</th>\n      <th>embarked</th>\n      <th>class</th>\n      <th>who</th>\n      <th>adult_male</th>\n      <th>deck</th>\n      <th>embark_town</th>\n      <th>alive</th>\n      <th>alone</th>\n    </tr>\n  </thead>\n  <tbody>\n    <tr>\n      <th>0</th>\n      <td>0</td>\n      <td>3</td>\n      <td>male</td>\n      <td>22.0</td>\n      <td>1</td>\n      <td>0</td>\n      <td>7.2500</td>\n      <td>S</td>\n      <td>Third</td>\n      <td>man</td>\n      <td>True</td>\n      <td>NaN</td>\n      <td>Southampton</td>\n      <td>no</td>\n      <td>False</td>\n    </tr>\n    <tr>\n      <th>1</th>\n      <td>1</td>\n      <td>1</td>\n      <td>female</td>\n      <td>38.0</td>\n      <td>1</td>\n      <td>0</td>\n      <td>71.2833</td>\n      <td>C</td>\n      <td>First</td>\n      <td>woman</td>\n      <td>False</td>\n      <td>C</td>\n      <td>Cherbourg</td>\n      <td>yes</td>\n      <td>False</td>\n    </tr>\n    <tr>\n      <th>2</th>\n      <td>1</td>\n      <td>3</td>\n      <td>female</td>\n      <td>26.0</td>\n      <td>0</td>\n      <td>0</td>\n      <td>7.9250</td>\n      <td>S</td>\n      <td>Third</td>\n      <td>woman</td>\n      <td>False</td>\n      <td>NaN</td>\n      <td>Southampton</td>\n      <td>yes</td>\n      <td>True</td>\n    </tr>\n    <tr>\n      <th>3</th>\n      <td>1</td>\n      <td>1</td>\n      <td>female</td>\n      <td>35.0</td>\n      <td>1</td>\n      <td>0</td>\n      <td>53.1000</td>\n      <td>S</td>\n      <td>First</td>\n      <td>woman</td>\n      <td>False</td>\n      <td>C</td>\n      <td>Southampton</td>\n      <td>yes</td>\n      <td>False</td>\n    </tr>\n    <tr>\n      <th>4</th>\n      <td>0</td>\n      <td>3</td>\n      <td>male</td>\n      <td>35.0</td>\n      <td>0</td>\n      <td>0</td>\n      <td>8.0500</td>\n      <td>S</td>\n      <td>Third</td>\n      <td>man</td>\n      <td>True</td>\n      <td>NaN</td>\n      <td>Southampton</td>\n      <td>no</td>\n      <td>True</td>\n    </tr>\n  </tbody>\n</table>\n</div>"
     },
     "execution_count": 26,
     "metadata": {},
     "output_type": "execute_result"
    }
   ],
   "source": [
    "titanic.head(5)\n"
   ]
  },
  {
   "cell_type": "markdown",
   "metadata": {
    "slideshow": {
     "slide_type": "fragment"
    }
   },
   "source": [
    "The `tail` method selects the last observations in a DataFrame. "
   ]
  },
  {
   "cell_type": "markdown",
   "metadata": {
    "slideshow": {
     "slide_type": "slide"
    }
   },
   "source": [
    "## Row and Column Selection (I/III)\n",
    "*How can we select certain rows in a DataFrame using **keys**?* "
   ]
  },
  {
   "cell_type": "markdown",
   "metadata": {
    "slideshow": {
     "slide_type": "fragment"
    }
   },
   "source": [
    "With the `loc` attribute we can access values using the labels/keys of the columns and rows. Example:"
   ]
  },
  {
   "cell_type": "code",
   "execution_count": 27,
   "metadata": {
    "scrolled": true,
    "slideshow": {
     "slide_type": "-"
    },
    "ExecuteTime": {
     "end_time": "2023-08-03T11:54:37.044669Z",
     "start_time": "2023-08-03T11:54:36.642629Z"
    }
   },
   "outputs": [
    {
     "name": "stdout",
     "output_type": "stream",
     "text": [
      "   survived   age     sex\n",
      "0         0  22.0    male\n",
      "1         1  38.0  female\n",
      "2         1  26.0  female\n"
     ]
    }
   ],
   "source": [
    "print(titanic.loc[[0,1,2],['survived', 'age', 'sex']])\n"
   ]
  },
  {
   "cell_type": "markdown",
   "metadata": {
    "slideshow": {
     "slide_type": "slide"
    }
   },
   "source": [
    "## Row and Column Selection (II/III)\n",
    "*How can we select certain rows in a DataFrame using **index integers**?* "
   ]
  },
  {
   "cell_type": "markdown",
   "metadata": {
    "slideshow": {
     "slide_type": "fragment"
    }
   },
   "source": [
    "The `iloc` method selects rows and columns for provided index integers. "
   ]
  },
  {
   "cell_type": "code",
   "execution_count": 28,
   "metadata": {
    "scrolled": true,
    "slideshow": {
     "slide_type": "-"
    },
    "ExecuteTime": {
     "end_time": "2023-08-03T11:54:37.112582Z",
     "start_time": "2023-08-03T11:54:36.646640Z"
    }
   },
   "outputs": [
    {
     "name": "stdout",
     "output_type": "stream",
     "text": [
      "    survived  pclass     sex   age  sibsp\n",
      "10         1       3  female   4.0      1\n",
      "11         1       1  female  58.0      0\n",
      "12         0       3    male  20.0      0\n",
      "13         0       3    male  39.0      1\n",
      "14         0       3  female  14.0      0\n"
     ]
    }
   ],
   "source": [
    "print(titanic.iloc[10:15,:5])\n"
   ]
  },
  {
   "cell_type": "markdown",
   "metadata": {
    "slideshow": {
     "slide_type": "slide"
    }
   },
   "source": [
    "## Row and Column Selection (III/III)\n",
    "*Other things to be aware of?* "
   ]
  },
  {
   "cell_type": "markdown",
   "metadata": {},
   "source": [
    "We can select rows for all columns by not specfifying columns (or specifying `:`). I.e:"
   ]
  },
  {
   "cell_type": "code",
   "execution_count": 29,
   "metadata": {
    "scrolled": true,
    "slideshow": {
     "slide_type": "-"
    },
    "ExecuteTime": {
     "end_time": "2023-08-03T11:54:37.119335Z",
     "start_time": "2023-08-03T11:54:36.652696Z"
    }
   },
   "outputs": [
    {
     "data": {
      "text/plain": "   survived  pclass     sex   age  sibsp  parch     fare embarked  class  \\\n0         0       3    male  22.0      1      0   7.2500        S  Third   \n1         1       1  female  38.0      1      0  71.2833        C  First   \n2         1       3  female  26.0      0      0   7.9250        S  Third   \n\n     who  adult_male deck  embark_town alive  alone  \n0    man        True  NaN  Southampton    no  False  \n1  woman       False    C    Cherbourg   yes  False  \n2  woman       False  NaN  Southampton   yes   True  ",
      "text/html": "<div>\n<style scoped>\n    .dataframe tbody tr th:only-of-type {\n        vertical-align: middle;\n    }\n\n    .dataframe tbody tr th {\n        vertical-align: top;\n    }\n\n    .dataframe thead th {\n        text-align: right;\n    }\n</style>\n<table border=\"1\" class=\"dataframe\">\n  <thead>\n    <tr style=\"text-align: right;\">\n      <th></th>\n      <th>survived</th>\n      <th>pclass</th>\n      <th>sex</th>\n      <th>age</th>\n      <th>sibsp</th>\n      <th>parch</th>\n      <th>fare</th>\n      <th>embarked</th>\n      <th>class</th>\n      <th>who</th>\n      <th>adult_male</th>\n      <th>deck</th>\n      <th>embark_town</th>\n      <th>alive</th>\n      <th>alone</th>\n    </tr>\n  </thead>\n  <tbody>\n    <tr>\n      <th>0</th>\n      <td>0</td>\n      <td>3</td>\n      <td>male</td>\n      <td>22.0</td>\n      <td>1</td>\n      <td>0</td>\n      <td>7.2500</td>\n      <td>S</td>\n      <td>Third</td>\n      <td>man</td>\n      <td>True</td>\n      <td>NaN</td>\n      <td>Southampton</td>\n      <td>no</td>\n      <td>False</td>\n    </tr>\n    <tr>\n      <th>1</th>\n      <td>1</td>\n      <td>1</td>\n      <td>female</td>\n      <td>38.0</td>\n      <td>1</td>\n      <td>0</td>\n      <td>71.2833</td>\n      <td>C</td>\n      <td>First</td>\n      <td>woman</td>\n      <td>False</td>\n      <td>C</td>\n      <td>Cherbourg</td>\n      <td>yes</td>\n      <td>False</td>\n    </tr>\n    <tr>\n      <th>2</th>\n      <td>1</td>\n      <td>3</td>\n      <td>female</td>\n      <td>26.0</td>\n      <td>0</td>\n      <td>0</td>\n      <td>7.9250</td>\n      <td>S</td>\n      <td>Third</td>\n      <td>woman</td>\n      <td>False</td>\n      <td>NaN</td>\n      <td>Southampton</td>\n      <td>yes</td>\n      <td>True</td>\n    </tr>\n  </tbody>\n</table>\n</div>"
     },
     "execution_count": 29,
     "metadata": {},
     "output_type": "execute_result"
    }
   ],
   "source": [
    "titanic.loc[[0,1,2], : ]\n"
   ]
  },
  {
   "cell_type": "markdown",
   "metadata": {},
   "source": [
    "We can also select certain columns by specifying column names:"
   ]
  },
  {
   "cell_type": "code",
   "execution_count": 30,
   "metadata": {
    "slideshow": {
     "slide_type": "-"
    },
    "ExecuteTime": {
     "end_time": "2023-08-03T11:54:37.120245Z",
     "start_time": "2023-08-03T11:54:36.662057Z"
    }
   },
   "outputs": [
    {
     "data": {
      "text/plain": "   survived\n0         0\n1         1\n2         1",
      "text/html": "<div>\n<style scoped>\n    .dataframe tbody tr th:only-of-type {\n        vertical-align: middle;\n    }\n\n    .dataframe tbody tr th {\n        vertical-align: top;\n    }\n\n    .dataframe thead th {\n        text-align: right;\n    }\n</style>\n<table border=\"1\" class=\"dataframe\">\n  <thead>\n    <tr style=\"text-align: right;\">\n      <th></th>\n      <th>survived</th>\n    </tr>\n  </thead>\n  <tbody>\n    <tr>\n      <th>0</th>\n      <td>0</td>\n    </tr>\n    <tr>\n      <th>1</th>\n      <td>1</td>\n    </tr>\n    <tr>\n      <th>2</th>\n      <td>1</td>\n    </tr>\n  </tbody>\n</table>\n</div>"
     },
     "execution_count": 30,
     "metadata": {},
     "output_type": "execute_result"
    }
   ],
   "source": [
    "titanic[['survived']].head(3)\n"
   ]
  },
  {
   "cell_type": "markdown",
   "metadata": {
    "slideshow": {
     "slide_type": "slide"
    }
   },
   "source": [
    "## Modifying DataFrames\n",
    "*Why do we want to modify DataFrames?*\n",
    "\n",
    "- Because data rarely comes in the form we want it.\n"
   ]
  },
  {
   "cell_type": "markdown",
   "metadata": {
    "slideshow": {
     "slide_type": "slide"
    }
   },
   "source": [
    "## Changing the Index (I/III)\n",
    "*How can we change the index of a DataFrame?*"
   ]
  },
  {
   "cell_type": "code",
   "execution_count": 31,
   "metadata": {
    "ExecuteTime": {
     "end_time": "2023-08-03T11:54:37.121985Z",
     "start_time": "2023-08-03T11:54:36.682669Z"
    }
   },
   "outputs": [
    {
     "data": {
      "text/plain": "     a  b\ni    1  2\nii   3  4\niii  5  6",
      "text/html": "<div>\n<style scoped>\n    .dataframe tbody tr th:only-of-type {\n        vertical-align: middle;\n    }\n\n    .dataframe tbody tr th {\n        vertical-align: top;\n    }\n\n    .dataframe thead th {\n        text-align: right;\n    }\n</style>\n<table border=\"1\" class=\"dataframe\">\n  <thead>\n    <tr style=\"text-align: right;\">\n      <th></th>\n      <th>a</th>\n      <th>b</th>\n    </tr>\n  </thead>\n  <tbody>\n    <tr>\n      <th>i</th>\n      <td>1</td>\n      <td>2</td>\n    </tr>\n    <tr>\n      <th>ii</th>\n      <td>3</td>\n      <td>4</td>\n    </tr>\n    <tr>\n      <th>iii</th>\n      <td>5</td>\n      <td>6</td>\n    </tr>\n  </tbody>\n</table>\n</div>"
     },
     "execution_count": 31,
     "metadata": {},
     "output_type": "execute_result"
    }
   ],
   "source": [
    "my_df = pd.DataFrame([[1,2], [3,4], [5,6]], columns = ['a', 'b'], index = ['i', 'ii', 'iii'])\n",
    "my_df"
   ]
  },
  {
   "cell_type": "markdown",
   "metadata": {
    "slideshow": {
     "slide_type": "fragment"
    }
   },
   "source": [
    "We change or set a DataFrame's index using its method `set_index`. Example:"
   ]
  },
  {
   "cell_type": "code",
   "execution_count": 32,
   "metadata": {
    "scrolled": true,
    "slideshow": {
     "slide_type": "-"
    },
    "ExecuteTime": {
     "end_time": "2023-08-03T11:54:37.123272Z",
     "start_time": "2023-08-03T11:54:36.695043Z"
    }
   },
   "outputs": [
    {
     "name": "stdout",
     "output_type": "stream",
     "text": [
      "     a  b\n",
      "i    1  2\n",
      "ii   3  4\n",
      "iii  5  6\n",
      "\n",
      "   b\n",
      "a   \n",
      "1  2\n",
      "3  4\n",
      "5  6\n"
     ]
    }
   ],
   "source": [
    "print(my_df)\n",
    "print()\n",
    "print(my_df.set_index('a'))\n"
   ]
  },
  {
   "cell_type": "markdown",
   "metadata": {
    "slideshow": {
     "slide_type": "fragment"
    }
   },
   "source": [
    "Clearly, doing so, we also implicitly delete the previous index. Also, notice the level shift in *b* due to this.\n"
   ]
  },
  {
   "cell_type": "markdown",
   "metadata": {
    "slideshow": {
     "slide_type": "slide"
    }
   },
   "source": [
    "## Changing the Index (II/III)\n",
    "*Is our DataFrame changed? I.e. does it have a new index?*"
   ]
  },
  {
   "cell_type": "markdown",
   "metadata": {
    "slideshow": {
     "slide_type": "fragment"
    }
   },
   "source": [
    "No, we must overwrite it or make it into a new object:"
   ]
  },
  {
   "cell_type": "code",
   "execution_count": 33,
   "metadata": {
    "slideshow": {
     "slide_type": "-"
    },
    "ExecuteTime": {
     "end_time": "2023-08-03T11:54:37.139138Z",
     "start_time": "2023-08-03T11:54:36.712301Z"
    }
   },
   "outputs": [
    {
     "name": "stdout",
     "output_type": "stream",
     "text": [
      "     a  b\n",
      "i    1  2\n",
      "ii   3  4\n",
      "iii  5  6\n",
      "\n",
      "   b\n",
      "a   \n",
      "1  2\n",
      "3  4\n",
      "5  6\n"
     ]
    }
   ],
   "source": [
    "print(my_df)\n",
    "my_df_a = my_df.set_index('a')\n",
    "print()\n",
    "print(my_df_a)\n"
   ]
  },
  {
   "cell_type": "markdown",
   "metadata": {
    "slideshow": {
     "slide_type": "slide"
    }
   },
   "source": [
    "## Changing the index (III/III)\n",
    "\n",
    "Sometimes we wish to remove the index. This is done with the `reset_index` method:"
   ]
  },
  {
   "cell_type": "code",
   "execution_count": 34,
   "metadata": {
    "slideshow": {
     "slide_type": "-"
    },
    "ExecuteTime": {
     "end_time": "2023-08-03T11:54:37.139748Z",
     "start_time": "2023-08-03T11:54:36.717251Z"
    }
   },
   "outputs": [
    {
     "name": "stdout",
     "output_type": "stream",
     "text": [
      "   b\n",
      "a   \n",
      "1  2\n",
      "3  4\n",
      "5  6\n",
      "\n",
      "   a  b\n",
      "0  1  2\n",
      "1  3  4\n",
      "2  5  6\n",
      "\n",
      "   b\n",
      "0  2\n",
      "1  4\n",
      "2  6\n"
     ]
    }
   ],
   "source": [
    "print(my_df_a)\n",
    "print()\n",
    "print(my_df_a.reset_index())\n",
    "print()\n",
    "print(my_df_a.reset_index(drop=True)) # drop=True\n"
   ]
  },
  {
   "cell_type": "markdown",
   "metadata": {
    "slideshow": {
     "slide_type": "-"
    }
   },
   "source": [
    "By specifying the keyword `drop=True` we delete the old index."
   ]
  },
  {
   "cell_type": "markdown",
   "metadata": {
    "slideshow": {
     "slide_type": "-"
    }
   },
   "source": [
    "*To note:* Indices can have multiple levels, in this case `level` can be specified to delete a specific level."
   ]
  },
  {
   "cell_type": "markdown",
   "metadata": {
    "slideshow": {
     "slide_type": "slide"
    }
   },
   "source": [
    "## Changing the Column Names\n",
    "\n",
    "Column names can simply be changed with `columns`:"
   ]
  },
  {
   "cell_type": "code",
   "execution_count": 35,
   "metadata": {
    "scrolled": true,
    "slideshow": {
     "slide_type": "-"
    },
    "ExecuteTime": {
     "end_time": "2023-08-03T11:54:37.140105Z",
     "start_time": "2023-08-03T11:54:36.723826Z"
    }
   },
   "outputs": [
    {
     "name": "stdout",
     "output_type": "stream",
     "text": [
      "     a  b\n",
      "i    1  2\n",
      "ii   3  4\n",
      "iii  5  6\n",
      "\n",
      "     A  B\n",
      "i    1  2\n",
      "ii   3  4\n",
      "iii  5  6\n"
     ]
    }
   ],
   "source": [
    "print(my_df)\n",
    "my_df.columns = ['A', 'B']\n",
    "print()\n",
    "print(my_df)\n"
   ]
  },
  {
   "cell_type": "markdown",
   "metadata": {
    "slideshow": {
     "slide_type": "slide"
    }
   },
   "source": [
    "DataFrame's also have the function called `rename`."
   ]
  },
  {
   "cell_type": "code",
   "execution_count": 36,
   "metadata": {
    "slideshow": {
     "slide_type": "-"
    },
    "ExecuteTime": {
     "end_time": "2023-08-03T11:54:37.140452Z",
     "start_time": "2023-08-03T11:54:36.729271Z"
    }
   },
   "outputs": [
    {
     "name": "stdout",
     "output_type": "stream",
     "text": [
      "     Aa  B\n",
      "i     1  2\n",
      "ii    3  4\n",
      "iii   5  6\n"
     ]
    }
   ],
   "source": [
    "my_df.rename(columns={'A': 'Aa'}, inplace=True)\n",
    "print(my_df)\n"
   ]
  },
  {
   "cell_type": "markdown",
   "metadata": {
    "slideshow": {
     "slide_type": "slide"
    }
   },
   "source": [
    "## Changing all Column Values\n",
    "\n",
    "So far we have changed the indices and column names.\n",
    "\n",
    "*How can we can update/add values in a DataFrame?*"
   ]
  },
  {
   "cell_type": "code",
   "execution_count": 37,
   "metadata": {
    "ExecuteTime": {
     "end_time": "2023-08-03T11:54:37.140734Z",
     "start_time": "2023-08-03T11:54:36.740652Z"
    }
   },
   "outputs": [
    {
     "name": "stdout",
     "output_type": "stream",
     "text": [
      "     Aa  B\n",
      "i     1  2\n",
      "ii    3  4\n",
      "iii   5  6\n",
      "\n",
      "     Aa  B\n",
      "i     1  3\n",
      "ii    3  3\n",
      "iii   5  3\n",
      "\n",
      "     Aa   B\n",
      "i     1   2\n",
      "ii    3  17\n",
      "iii   5   0\n"
     ]
    }
   ],
   "source": [
    "print(my_df)\n",
    "\n",
    "# # set uniform value\n",
    "my_df['B'] = 3\n",
    "print()\n",
    "print(my_df)\n",
    "\n",
    "# set different values\n",
    "my_df['B'] = [2,17,0] \n",
    "print()\n",
    "print(my_df)"
   ]
  },
  {
   "cell_type": "markdown",
   "metadata": {
    "slideshow": {
     "slide_type": "slide"
    }
   },
   "source": [
    "## Changing Specific Column Values\n",
    "*How can we can update values in a DataFrame?*"
   ]
  },
  {
   "cell_type": "code",
   "execution_count": 38,
   "metadata": {
    "ExecuteTime": {
     "end_time": "2023-08-03T11:54:37.141106Z",
     "start_time": "2023-08-03T11:54:36.745302Z"
    }
   },
   "outputs": [
    {
     "name": "stdout",
     "output_type": "stream",
     "text": [
      "     Aa   B\n",
      "i     1   2\n",
      "ii    3  17\n",
      "iii   5   0\n",
      "\n",
      "     Aa   B\n",
      "i    10   2\n",
      "ii    3  17\n",
      "iii  10   0\n"
     ]
    }
   ],
   "source": [
    "print(my_df)\n",
    "\n",
    "# loc, iloc\n",
    "my_df.loc[['i', 'iii'], 'Aa'] = 10\n",
    "\n",
    "print()\n",
    "print(my_df)\n"
   ]
  },
  {
   "cell_type": "markdown",
   "metadata": {
    "slideshow": {
     "slide_type": "slide"
    }
   },
   "source": [
    "## Sorting Data"
   ]
  },
  {
   "cell_type": "markdown",
   "metadata": {
    "slideshow": {
     "slide_type": "-"
    }
   },
   "source": [
    "A DataFrame can be sorted with `sort_values`; this method takes one or more columns to sort by. "
   ]
  },
  {
   "cell_type": "code",
   "execution_count": 39,
   "metadata": {
    "slideshow": {
     "slide_type": "-"
    },
    "ExecuteTime": {
     "end_time": "2023-08-03T11:54:37.146014Z",
     "start_time": "2023-08-03T11:54:36.749897Z"
    }
   },
   "outputs": [
    {
     "name": "stdout",
     "output_type": "stream",
     "text": [
      "     Aa   B\n",
      "ii    3  17\n",
      "i    10   2\n",
      "iii  10   0\n"
     ]
    }
   ],
   "source": [
    "print(my_df.sort_values(by='Aa', ascending=True))\n"
   ]
  },
  {
   "cell_type": "markdown",
   "metadata": {
    "slideshow": {
     "slide_type": "fragment"
    }
   },
   "source": [
    "In addition, sorting by index is also possible with `sort_index`."
   ]
  },
  {
   "cell_type": "code",
   "execution_count": 40,
   "metadata": {
    "slideshow": {
     "slide_type": "-"
    },
    "ExecuteTime": {
     "end_time": "2023-08-03T11:54:37.149453Z",
     "start_time": "2023-08-03T11:54:36.754321Z"
    }
   },
   "outputs": [
    {
     "name": "stdout",
     "output_type": "stream",
     "text": [
      "     Aa   B\n",
      "i    10   2\n",
      "ii    3  17\n",
      "iii  10   0\n"
     ]
    }
   ],
   "source": [
    "print(my_df.sort_index())\n"
   ]
  },
  {
   "cell_type": "markdown",
   "metadata": {
    "slideshow": {
     "slide_type": "slide"
    }
   },
   "source": [
    "# VIDEO 2.2: Boolean Data"
   ]
  },
  {
   "cell_type": "markdown",
   "metadata": {
    "slideshow": {
     "slide_type": "slide"
    }
   },
   "source": [
    "## Logical Expression for Series (I/II)\n",
    "*Can we test a condition for all elements:*"
   ]
  },
  {
   "cell_type": "markdown",
   "metadata": {
    "slideshow": {
     "slide_type": "fragment"
    }
   },
   "source": [
    "The most basic conditions:\n",
    "\n",
    "**==** (equal to)\n",
    "\n",
    "**!=** (not equal to)\n",
    "\n",
    "Example:"
   ]
  },
  {
   "cell_type": "code",
   "execution_count": 41,
   "metadata": {
    "slideshow": {
     "slide_type": "-"
    },
    "ExecuteTime": {
     "end_time": "2023-08-03T11:54:37.150200Z",
     "start_time": "2023-08-03T11:54:36.760739Z"
    }
   },
   "outputs": [
    {
     "name": "stdout",
     "output_type": "stream",
     "text": [
      "yesterday    0\n",
      "today        1\n",
      "tomorrow     2\n",
      "dtype: int64\n",
      "\n",
      "yesterday     True\n",
      "today        False\n",
      "tomorrow     False\n",
      "dtype: bool\n"
     ]
    }
   ],
   "source": [
    "print(my_series3)\n",
    "print()\n",
    "print(my_series3 == 0)\n"
   ]
  },
  {
   "cell_type": "markdown",
   "metadata": {
    "slideshow": {
     "slide_type": "fragment"
    }
   },
   "source": [
    "What datatype is returned? \n"
   ]
  },
  {
   "cell_type": "markdown",
   "metadata": {
    "slideshow": {
     "slide_type": "slide"
    }
   },
   "source": [
    "## Logical Expression in Series  (II/II)\n",
    "*Can we check if elements in a series equal some element in a container?*"
   ]
  },
  {
   "cell_type": "markdown",
   "metadata": {},
   "source": [
    "Yes, the `isin` method. Example:"
   ]
  },
  {
   "cell_type": "code",
   "execution_count": 42,
   "metadata": {
    "scrolled": true,
    "ExecuteTime": {
     "end_time": "2023-08-03T11:54:37.167936Z",
     "start_time": "2023-08-03T11:54:36.773406Z"
    }
   },
   "outputs": [
    {
     "name": "stdout",
     "output_type": "stream",
     "text": [
      "[0, 1]\n",
      "yesterday    0\n",
      "today        1\n",
      "tomorrow     2\n",
      "dtype: int64\n",
      "yesterday     True\n",
      "today         True\n",
      "tomorrow     False\n",
      "dtype: bool\n"
     ]
    }
   ],
   "source": [
    "my_rng = list(range(2))\n",
    "\n",
    "print(my_rng)\n",
    "print(my_series3)\n",
    "print(my_series3.isin(my_rng))\n"
   ]
  },
  {
   "cell_type": "markdown",
   "metadata": {
    "slideshow": {
     "slide_type": "slide"
    }
   },
   "source": [
    "## Power of Boolean Series (I/II)\n",
    "*Can we combine boolean Series?*"
   ]
  },
  {
   "cell_type": "markdown",
   "metadata": {
    "slideshow": {
     "slide_type": "fragment"
    }
   },
   "source": [
    "Yes, we can use:\n",
    "- the `&` operator (*and*)\n",
    "- the `|` operator (*or*)"
   ]
  },
  {
   "cell_type": "code",
   "execution_count": 43,
   "metadata": {
    "ExecuteTime": {
     "end_time": "2023-08-03T11:54:37.169315Z",
     "start_time": "2023-08-03T11:54:36.779552Z"
    }
   },
   "outputs": [
    {
     "name": "stdout",
     "output_type": "stream",
     "text": [
      "0    False\n",
      "1     True\n",
      "2     True\n",
      "dtype: bool\n"
     ]
    },
    {
     "data": {
      "text/plain": "   survived  pclass     sex   age  sibsp  parch     fare embarked  class  \\\n0         0       3    male  22.0      1      0   7.2500        S  Third   \n1         1       1  female  38.0      1      0  71.2833        C  First   \n2         1       3  female  26.0      0      0   7.9250        S  Third   \n\n     who  adult_male deck  embark_town alive  alone  \n0    man        True  NaN  Southampton    no  False  \n1  woman       False    C    Cherbourg   yes  False  \n2  woman       False  NaN  Southampton   yes   True  ",
      "text/html": "<div>\n<style scoped>\n    .dataframe tbody tr th:only-of-type {\n        vertical-align: middle;\n    }\n\n    .dataframe tbody tr th {\n        vertical-align: top;\n    }\n\n    .dataframe thead th {\n        text-align: right;\n    }\n</style>\n<table border=\"1\" class=\"dataframe\">\n  <thead>\n    <tr style=\"text-align: right;\">\n      <th></th>\n      <th>survived</th>\n      <th>pclass</th>\n      <th>sex</th>\n      <th>age</th>\n      <th>sibsp</th>\n      <th>parch</th>\n      <th>fare</th>\n      <th>embarked</th>\n      <th>class</th>\n      <th>who</th>\n      <th>adult_male</th>\n      <th>deck</th>\n      <th>embark_town</th>\n      <th>alive</th>\n      <th>alone</th>\n    </tr>\n  </thead>\n  <tbody>\n    <tr>\n      <th>0</th>\n      <td>0</td>\n      <td>3</td>\n      <td>male</td>\n      <td>22.0</td>\n      <td>1</td>\n      <td>0</td>\n      <td>7.2500</td>\n      <td>S</td>\n      <td>Third</td>\n      <td>man</td>\n      <td>True</td>\n      <td>NaN</td>\n      <td>Southampton</td>\n      <td>no</td>\n      <td>False</td>\n    </tr>\n    <tr>\n      <th>1</th>\n      <td>1</td>\n      <td>1</td>\n      <td>female</td>\n      <td>38.0</td>\n      <td>1</td>\n      <td>0</td>\n      <td>71.2833</td>\n      <td>C</td>\n      <td>First</td>\n      <td>woman</td>\n      <td>False</td>\n      <td>C</td>\n      <td>Cherbourg</td>\n      <td>yes</td>\n      <td>False</td>\n    </tr>\n    <tr>\n      <th>2</th>\n      <td>1</td>\n      <td>3</td>\n      <td>female</td>\n      <td>26.0</td>\n      <td>0</td>\n      <td>0</td>\n      <td>7.9250</td>\n      <td>S</td>\n      <td>Third</td>\n      <td>woman</td>\n      <td>False</td>\n      <td>NaN</td>\n      <td>Southampton</td>\n      <td>yes</td>\n      <td>True</td>\n    </tr>\n  </tbody>\n</table>\n</div>"
     },
     "execution_count": 43,
     "metadata": {},
     "output_type": "execute_result"
    }
   ],
   "source": [
    "print(((titanic.sex == 'female') | (titanic.age >= 30)).head(3)) # selection by multiple columns\n",
    "titanic.head(3)\n"
   ]
  },
  {
   "cell_type": "markdown",
   "metadata": {
    "slideshow": {
     "slide_type": "fragment"
    }
   },
   "source": [
    "What datatype was returned? \n"
   ]
  },
  {
   "cell_type": "markdown",
   "metadata": {
    "slideshow": {
     "slide_type": "slide"
    }
   },
   "source": [
    "## Power of Boolean Series (II/II)\n",
    "*Why do we care for boolean series (and arrays)?*"
   ]
  },
  {
   "cell_type": "markdown",
   "metadata": {
    "slideshow": {
     "slide_type": "fragment"
    }
   },
   "source": [
    "Mainly because we can use them to select rows based on their content (e.g. boolean indexing)"
   ]
  },
  {
   "cell_type": "code",
   "execution_count": 44,
   "metadata": {
    "ExecuteTime": {
     "end_time": "2023-08-03T11:54:37.170780Z",
     "start_time": "2023-08-03T11:54:36.789127Z"
    }
   },
   "outputs": [
    {
     "data": {
      "text/plain": "     survived  pclass   sex   age  sibsp  parch     fare embarked   class  \\\n17          1       2  male   NaN      0      0  13.0000        S  Second   \n21          1       2  male  34.0      0      0  13.0000        S  Second   \n23          1       1  male  28.0      0      0  35.5000        S   First   \n36          1       3  male   NaN      0      0   7.2292        C   Third   \n55          1       1  male   NaN      0      0  35.5000        S   First   \n..        ...     ...   ...   ...    ...    ...      ...      ...     ...   \n838         1       3  male  32.0      0      0  56.4958        S   Third   \n839         1       1  male   NaN      0      0  29.7000        C   First   \n857         1       1  male  51.0      0      0  26.5500        S   First   \n869         1       3  male   4.0      1      1  11.1333        S   Third   \n889         1       1  male  26.0      0      0  30.0000        C   First   \n\n       who  adult_male deck  embark_town alive  alone  \n17     man        True  NaN  Southampton   yes   True  \n21     man        True    D  Southampton   yes   True  \n23     man        True    A  Southampton   yes   True  \n36     man        True  NaN    Cherbourg   yes   True  \n55     man        True    C  Southampton   yes   True  \n..     ...         ...  ...          ...   ...    ...  \n838    man        True  NaN  Southampton   yes   True  \n839    man        True    C    Cherbourg   yes   True  \n857    man        True    E  Southampton   yes   True  \n869  child       False  NaN  Southampton   yes  False  \n889    man        True    C    Cherbourg   yes   True  \n\n[109 rows x 15 columns]",
      "text/html": "<div>\n<style scoped>\n    .dataframe tbody tr th:only-of-type {\n        vertical-align: middle;\n    }\n\n    .dataframe tbody tr th {\n        vertical-align: top;\n    }\n\n    .dataframe thead th {\n        text-align: right;\n    }\n</style>\n<table border=\"1\" class=\"dataframe\">\n  <thead>\n    <tr style=\"text-align: right;\">\n      <th></th>\n      <th>survived</th>\n      <th>pclass</th>\n      <th>sex</th>\n      <th>age</th>\n      <th>sibsp</th>\n      <th>parch</th>\n      <th>fare</th>\n      <th>embarked</th>\n      <th>class</th>\n      <th>who</th>\n      <th>adult_male</th>\n      <th>deck</th>\n      <th>embark_town</th>\n      <th>alive</th>\n      <th>alone</th>\n    </tr>\n  </thead>\n  <tbody>\n    <tr>\n      <th>17</th>\n      <td>1</td>\n      <td>2</td>\n      <td>male</td>\n      <td>NaN</td>\n      <td>0</td>\n      <td>0</td>\n      <td>13.0000</td>\n      <td>S</td>\n      <td>Second</td>\n      <td>man</td>\n      <td>True</td>\n      <td>NaN</td>\n      <td>Southampton</td>\n      <td>yes</td>\n      <td>True</td>\n    </tr>\n    <tr>\n      <th>21</th>\n      <td>1</td>\n      <td>2</td>\n      <td>male</td>\n      <td>34.0</td>\n      <td>0</td>\n      <td>0</td>\n      <td>13.0000</td>\n      <td>S</td>\n      <td>Second</td>\n      <td>man</td>\n      <td>True</td>\n      <td>D</td>\n      <td>Southampton</td>\n      <td>yes</td>\n      <td>True</td>\n    </tr>\n    <tr>\n      <th>23</th>\n      <td>1</td>\n      <td>1</td>\n      <td>male</td>\n      <td>28.0</td>\n      <td>0</td>\n      <td>0</td>\n      <td>35.5000</td>\n      <td>S</td>\n      <td>First</td>\n      <td>man</td>\n      <td>True</td>\n      <td>A</td>\n      <td>Southampton</td>\n      <td>yes</td>\n      <td>True</td>\n    </tr>\n    <tr>\n      <th>36</th>\n      <td>1</td>\n      <td>3</td>\n      <td>male</td>\n      <td>NaN</td>\n      <td>0</td>\n      <td>0</td>\n      <td>7.2292</td>\n      <td>C</td>\n      <td>Third</td>\n      <td>man</td>\n      <td>True</td>\n      <td>NaN</td>\n      <td>Cherbourg</td>\n      <td>yes</td>\n      <td>True</td>\n    </tr>\n    <tr>\n      <th>55</th>\n      <td>1</td>\n      <td>1</td>\n      <td>male</td>\n      <td>NaN</td>\n      <td>0</td>\n      <td>0</td>\n      <td>35.5000</td>\n      <td>S</td>\n      <td>First</td>\n      <td>man</td>\n      <td>True</td>\n      <td>C</td>\n      <td>Southampton</td>\n      <td>yes</td>\n      <td>True</td>\n    </tr>\n    <tr>\n      <th>...</th>\n      <td>...</td>\n      <td>...</td>\n      <td>...</td>\n      <td>...</td>\n      <td>...</td>\n      <td>...</td>\n      <td>...</td>\n      <td>...</td>\n      <td>...</td>\n      <td>...</td>\n      <td>...</td>\n      <td>...</td>\n      <td>...</td>\n      <td>...</td>\n      <td>...</td>\n    </tr>\n    <tr>\n      <th>838</th>\n      <td>1</td>\n      <td>3</td>\n      <td>male</td>\n      <td>32.0</td>\n      <td>0</td>\n      <td>0</td>\n      <td>56.4958</td>\n      <td>S</td>\n      <td>Third</td>\n      <td>man</td>\n      <td>True</td>\n      <td>NaN</td>\n      <td>Southampton</td>\n      <td>yes</td>\n      <td>True</td>\n    </tr>\n    <tr>\n      <th>839</th>\n      <td>1</td>\n      <td>1</td>\n      <td>male</td>\n      <td>NaN</td>\n      <td>0</td>\n      <td>0</td>\n      <td>29.7000</td>\n      <td>C</td>\n      <td>First</td>\n      <td>man</td>\n      <td>True</td>\n      <td>C</td>\n      <td>Cherbourg</td>\n      <td>yes</td>\n      <td>True</td>\n    </tr>\n    <tr>\n      <th>857</th>\n      <td>1</td>\n      <td>1</td>\n      <td>male</td>\n      <td>51.0</td>\n      <td>0</td>\n      <td>0</td>\n      <td>26.5500</td>\n      <td>S</td>\n      <td>First</td>\n      <td>man</td>\n      <td>True</td>\n      <td>E</td>\n      <td>Southampton</td>\n      <td>yes</td>\n      <td>True</td>\n    </tr>\n    <tr>\n      <th>869</th>\n      <td>1</td>\n      <td>3</td>\n      <td>male</td>\n      <td>4.0</td>\n      <td>1</td>\n      <td>1</td>\n      <td>11.1333</td>\n      <td>S</td>\n      <td>Third</td>\n      <td>child</td>\n      <td>False</td>\n      <td>NaN</td>\n      <td>Southampton</td>\n      <td>yes</td>\n      <td>False</td>\n    </tr>\n    <tr>\n      <th>889</th>\n      <td>1</td>\n      <td>1</td>\n      <td>male</td>\n      <td>26.0</td>\n      <td>0</td>\n      <td>0</td>\n      <td>30.0000</td>\n      <td>C</td>\n      <td>First</td>\n      <td>man</td>\n      <td>True</td>\n      <td>C</td>\n      <td>Cherbourg</td>\n      <td>yes</td>\n      <td>True</td>\n    </tr>\n  </tbody>\n</table>\n<p>109 rows × 15 columns</p>\n</div>"
     },
     "execution_count": 44,
     "metadata": {},
     "output_type": "execute_result"
    }
   ],
   "source": [
    "titanic[(titanic.survived == 1) & (titanic.sex == \"male\")]"
   ]
  },
  {
   "cell_type": "markdown",
   "metadata": {
    "slideshow": {
     "slide_type": "fragment"
    }
   },
   "source": [
    "NOTE: Boolean selection is extremely useful for dataframes!!"
   ]
  },
  {
   "cell_type": "markdown",
   "metadata": {
    "slideshow": {
     "slide_type": "slide"
    }
   },
   "source": [
    "# VIDEO 2.3: Numeric Operations and Methods"
   ]
  },
  {
   "cell_type": "markdown",
   "metadata": {
    "slideshow": {
     "slide_type": "slide"
    }
   },
   "source": [
    "## Numeric Operations (I/III)\n",
    "*How do we apply operations to arrays, series and dataframes?*"
   ]
  },
  {
   "cell_type": "markdown",
   "metadata": {
    "slideshow": {
     "slide_type": "fragment"
    }
   },
   "source": [
    "Works just like with Python data, e.g. lists. An example with squaring:"
   ]
  },
  {
   "cell_type": "code",
   "execution_count": 45,
   "metadata": {
    "scrolled": true,
    "slideshow": {
     "slide_type": "-"
    },
    "ExecuteTime": {
     "end_time": "2023-08-03T11:54:37.171148Z",
     "start_time": "2023-08-03T11:54:36.800709Z"
    }
   },
   "outputs": [
    {
     "name": "stdout",
     "output_type": "stream",
     "text": [
      "0    2\n",
      "1    3\n",
      "2    2\n",
      "3    1\n",
      "4    1\n",
      "dtype: int64\n",
      "0    4\n",
      "1    9\n",
      "2    4\n",
      "3    1\n",
      "4    1\n",
      "dtype: int64\n"
     ]
    }
   ],
   "source": [
    "num_ser1 = pd.Series([2,3,2,1,1])\n",
    "num_ser2 = num_ser1 ** 2\n",
    "\n",
    "print(num_ser1)\n",
    "print(num_ser2)\n"
   ]
  },
  {
   "cell_type": "markdown",
   "metadata": {
    "slideshow": {
     "slide_type": "slide"
    }
   },
   "source": [
    "## Numeric Operations (II/III)\n",
    "*Are other numeric python operators the same??*"
   ]
  },
  {
   "cell_type": "markdown",
   "metadata": {
    "slideshow": {
     "slide_type": "fragment"
    }
   },
   "source": [
    "Numeric operators work `/`, `//`, `-`, `*`, `**`  as expected.\n",
    "\n",
    "So does comparative (`==`, `!=`, `>`, `<`)"
   ]
  },
  {
   "cell_type": "markdown",
   "metadata": {
    "slideshow": {
     "slide_type": "fragment"
    }
   },
   "source": [
    "*Why is this useful?*"
   ]
  },
  {
   "cell_type": "markdown",
   "metadata": {
    "slideshow": {
     "slide_type": "fragment"
    }
   },
   "source": [
    "- vectorized operations are VERY fast;\n",
    "- requires very little code."
   ]
  },
  {
   "cell_type": "markdown",
   "metadata": {
    "slideshow": {
     "slide_type": "slide"
    }
   },
   "source": [
    "## Numeric  Operations (III/III)\n",
    "*Can we also do this with vectors of data?*"
   ]
  },
  {
   "cell_type": "markdown",
   "metadata": {
    "slideshow": {
     "slide_type": "fragment"
    }
   },
   "source": [
    "Yes, we can also do elementwise addition, multiplication, subtractions etc. of series. Example: "
   ]
  },
  {
   "cell_type": "code",
   "execution_count": 46,
   "metadata": {
    "slideshow": {
     "slide_type": "fragment"
    },
    "ExecuteTime": {
     "end_time": "2023-08-03T11:54:37.171497Z",
     "start_time": "2023-08-03T11:54:36.804094Z"
    }
   },
   "outputs": [
    {
     "data": {
      "text/plain": "0     6\n1    12\n2     6\n3     2\n4     2\ndtype: int64"
     },
     "execution_count": 46,
     "metadata": {},
     "output_type": "execute_result"
    }
   ],
   "source": [
    "num_ser1 + num_ser2\n"
   ]
  },
  {
   "cell_type": "markdown",
   "metadata": {
    "slideshow": {
     "slide_type": "slide"
    }
   },
   "source": [
    "## Numeric methods (I/IV)\n",
    "\n",
    "*OK, these were some quite simple operations with pandas series. Are there other numeric methods?*"
   ]
  },
  {
   "cell_type": "markdown",
   "metadata": {
    "slideshow": {
     "slide_type": "fragment"
    }
   },
   "source": [
    "Yes, pandas series and dataframes have other powerful numeric methods built-in. \n",
    "\n",
    "Consider an example series of 10 million randomly generated observations:"
   ]
  },
  {
   "cell_type": "code",
   "execution_count": 47,
   "metadata": {
    "slideshow": {
     "slide_type": "fragment"
    },
    "ExecuteTime": {
     "end_time": "2023-08-03T11:54:37.984671Z",
     "start_time": "2023-08-03T11:54:36.807811Z"
    }
   },
   "outputs": [
    {
     "data": {
      "text/plain": "0         -0.589245\n1          0.743815\n2         -0.258601\n3         -0.539203\n4         -0.330054\n             ...   \n9999995    2.313271\n9999996   -0.077613\n9999997   -0.869077\n9999998    0.922300\n9999999   -0.259545\nLength: 10000000, dtype: float64"
     },
     "execution_count": 47,
     "metadata": {},
     "output_type": "execute_result"
    }
   ],
   "source": [
    "arr_rand = np.random.randn(10**7) # Draw 10^7 observations from standard normal, arr_rand = np.random.normal(size = 10**7)\n",
    "s2 = pd.Series(arr_rand) # Convert to pandas series\n",
    "s2"
   ]
  },
  {
   "cell_type": "markdown",
   "metadata": {
    "slideshow": {
     "slide_type": "slide"
    }
   },
   "source": [
    "## Numeric methods (II/IV)\n",
    "Now, display the median of this distribution:"
   ]
  },
  {
   "cell_type": "code",
   "execution_count": 48,
   "metadata": {
    "ExecuteTime": {
     "end_time": "2023-08-03T11:54:38.082466Z",
     "start_time": "2023-08-03T11:54:37.009903Z"
    }
   },
   "outputs": [
    {
     "data": {
      "text/plain": "-0.0004812496340264214"
     },
     "execution_count": 48,
     "metadata": {},
     "output_type": "execute_result"
    }
   ],
   "source": [
    "s2.mean() # Display median\n"
   ]
  },
  {
   "cell_type": "markdown",
   "metadata": {
    "slideshow": {
     "slide_type": "fragment"
    }
   },
   "source": [
    "Other useful methods include: `mean`, `quantile`, `min`, `max`, `std`, `describe` and many more."
   ]
  },
  {
   "cell_type": "code",
   "execution_count": 49,
   "metadata": {
    "slideshow": {
     "slide_type": "-"
    },
    "ExecuteTime": {
     "end_time": "2023-08-03T11:54:38.447113Z",
     "start_time": "2023-08-03T11:54:37.045778Z"
    }
   },
   "outputs": [
    {
     "data": {
      "text/plain": "count    10000000.00\nmean           -0.00\nstd             1.00\nmin            -6.02\n25%            -0.67\n50%            -0.00\n75%             0.67\nmax             5.52\ndtype: float64"
     },
     "execution_count": 49,
     "metadata": {},
     "output_type": "execute_result"
    }
   ],
   "source": [
    "np.round(s2.describe(),2) # Display other characteristics of distribution (rounded)\n"
   ]
  },
  {
   "cell_type": "markdown",
   "metadata": {
    "slideshow": {
     "slide_type": "slide"
    }
   },
   "source": [
    "## Numeric methods (III/IV)\n",
    "An important method is `value_counts`. This counts\n",
    "number for each observation. Example:"
   ]
  },
  {
   "cell_type": "code",
   "execution_count": 50,
   "metadata": {
    "slideshow": {
     "slide_type": "-"
    },
    "ExecuteTime": {
     "end_time": "2023-08-03T11:54:38.560069Z",
     "start_time": "2023-08-03T11:54:37.483880Z"
    }
   },
   "outputs": [],
   "source": [
    "cuts = np.arange(-10, 10, 1) # range from -10 to 10 with intervals of unit size\n",
    "cats = pd.cut(s2, cuts) # cut into categorical data"
   ]
  },
  {
   "cell_type": "code",
   "execution_count": 51,
   "metadata": {
    "slideshow": {
     "slide_type": "-"
    },
    "ExecuteTime": {
     "end_time": "2023-08-03T11:54:38.635516Z",
     "start_time": "2023-08-03T11:54:37.888750Z"
    }
   },
   "outputs": [
    {
     "data": {
      "text/plain": "(0, 1]       3413383\n(-1, 0]      3413122\n(-2, -1]     1359666\n(1, 2]       1359209\n(-3, -2]      214777\n(2, 3]        212746\n(-4, -3]       13253\n(3, 4]         13138\n(-5, -4]         351\n(4, 5]           346\n(5, 6]             6\n(-6, -5]           2\n(-7, -6]           1\n(7, 8]             0\n(6, 7]             0\n(-10, -9]          0\n(-9, -8]           0\n(-8, -7]           0\n(8, 9]             0\ndtype: int64"
     },
     "execution_count": 51,
     "metadata": {},
     "output_type": "execute_result"
    }
   ],
   "source": [
    "cats.value_counts()"
   ]
  },
  {
   "cell_type": "markdown",
   "metadata": {
    "slideshow": {
     "slide_type": "slide"
    }
   },
   "source": [
    "## Numeric methods (IV/IV)\n",
    "*Are there other powerful numeric methods?*"
   ]
  },
  {
   "cell_type": "markdown",
   "metadata": {
    "slideshow": {
     "slide_type": "fragment"
    }
   },
   "source": [
    "Yes: examples include \n",
    "- `unique`, `nunique`: the unique elements and the count of unique elements\n",
    "- `cut`, `qcut`: partition series into bins \n",
    "- `diff`: difference every two consecutive observations\n",
    "- `cumsum`: cumulative sum\n",
    "- `nlargest`, `nsmallest`: the n largest elements \n",
    "- `idxmin`, `idxmax`: index which is minimal/maximal \n",
    "- `corr`: correlation matrix\n",
    "\n",
    "Check [series documentation](https://pandas.pydata.org/pandas-docs/stable/generated/pandas.Series.html) for more information."
   ]
  },
  {
   "cell_type": "markdown",
   "metadata": {
    "slideshow": {
     "slide_type": "slide"
    }
   },
   "source": [
    "# VIDEO 2.4: String Operations"
   ]
  },
  {
   "cell_type": "markdown",
   "metadata": {
    "slideshow": {
     "slide_type": "slide"
    }
   },
   "source": [
    "## String Operations (I/III)\n",
    "*Do the numeric python operators also apply to strings?*"
   ]
  },
  {
   "cell_type": "markdown",
   "metadata": {
    "slideshow": {
     "slide_type": "fragment"
    }
   },
   "source": [
    "In some cases yes! Consider the following example with a series:"
   ]
  },
  {
   "cell_type": "code",
   "execution_count": 52,
   "metadata": {
    "scrolled": true,
    "slideshow": {
     "slide_type": "fragment"
    },
    "ExecuteTime": {
     "end_time": "2023-08-03T11:54:38.636278Z",
     "start_time": "2023-08-03T11:54:37.926420Z"
    }
   },
   "outputs": [
    {
     "data": {
      "text/plain": "0    Andreas\n1     Tobias\n2     Hjalte\ndtype: object"
     },
     "execution_count": 52,
     "metadata": {},
     "output_type": "execute_result"
    }
   ],
   "source": [
    "names_ser1 = pd.Series(['Andreas', 'Tobias', 'Hjalte'])\n",
    "names_ser1"
   ]
  },
  {
   "cell_type": "markdown",
   "metadata": {
    "slideshow": {
     "slide_type": "fragment"
    }
   },
   "source": [
    "Now add another string:"
   ]
  },
  {
   "cell_type": "code",
   "execution_count": 53,
   "metadata": {
    "scrolled": true,
    "slideshow": {
     "slide_type": "fragment"
    },
    "ExecuteTime": {
     "end_time": "2023-08-03T11:54:38.636795Z",
     "start_time": "2023-08-03T11:54:37.928950Z"
    }
   },
   "outputs": [
    {
     "data": {
      "text/plain": "0    Andreas works @ SAMF\n1     Tobias works @ SAMF\n2     Hjalte works @ SAMF\ndtype: object"
     },
     "execution_count": 53,
     "metadata": {},
     "output_type": "execute_result"
    }
   ],
   "source": [
    "names_ser1 + ' works @ SAMF'\n"
   ]
  },
  {
   "cell_type": "markdown",
   "metadata": {
    "slideshow": {
     "slide_type": "slide"
    }
   },
   "source": [
    "## String Operations (II/III)\n",
    "*Can two series of strings also be combined like as with numeric vectors?*"
   ]
  },
  {
   "cell_type": "markdown",
   "metadata": {
    "slideshow": {
     "slide_type": "fragment"
    }
   },
   "source": [
    "Fortunately, yes:"
   ]
  },
  {
   "cell_type": "code",
   "execution_count": 54,
   "metadata": {
    "scrolled": true,
    "slideshow": {
     "slide_type": "fragment"
    },
    "ExecuteTime": {
     "end_time": "2023-08-03T11:54:38.637453Z",
     "start_time": "2023-08-03T11:54:37.934006Z"
    }
   },
   "outputs": [
    {
     "data": {
      "text/plain": "0                      Andreas teaches ethics\n1      Tobias teaches data structuring and ML\n2    Hjalte teaches scraping and text as data\ndtype: object"
     },
     "execution_count": 54,
     "metadata": {},
     "output_type": "execute_result"
    }
   ],
   "source": [
    "names_ser2 = pd.Series(['ethics', 'data structuring and ML', 'scraping and text as data'])\n",
    "names_ser1 + ' teaches ' + names_ser2\n"
   ]
  },
  {
   "cell_type": "markdown",
   "metadata": {
    "slideshow": {
     "slide_type": "slide"
    }
   },
   "source": [
    "## String Operations (III/III)\n",
    "*Any other types of vectorized operations with strings?*"
   ]
  },
  {
   "cell_type": "markdown",
   "metadata": {
    "slideshow": {
     "slide_type": "fragment"
    }
   },
   "source": [
    "Many. In particular, there is a large set of string-specific operation (see `.str`-notation below). Some examples:"
   ]
  },
  {
   "cell_type": "code",
   "execution_count": 55,
   "metadata": {
    "ExecuteTime": {
     "end_time": "2023-08-03T11:54:38.637954Z",
     "start_time": "2023-08-03T11:54:37.936758Z"
    }
   },
   "outputs": [
    {
     "data": {
      "text/plain": "0    andreas\n1     tobias\n2     hjalte\ndtype: object"
     },
     "execution_count": 55,
     "metadata": {},
     "output_type": "execute_result"
    }
   ],
   "source": [
    "names_ser1.str.lower() #Also work with .lower()"
   ]
  },
  {
   "cell_type": "code",
   "execution_count": 56,
   "metadata": {
    "scrolled": true,
    "slideshow": {
     "slide_type": "fragment"
    },
    "ExecuteTime": {
     "end_time": "2023-08-03T11:54:38.638385Z",
     "start_time": "2023-08-03T11:54:37.939176Z"
    }
   },
   "outputs": [
    {
     "data": {
      "text/plain": "0     True\n1     True\n2    False\ndtype: bool"
     },
     "execution_count": 56,
     "metadata": {},
     "output_type": "execute_result"
    }
   ],
   "source": [
    "names_ser1.str.contains('as')"
   ]
  },
  {
   "cell_type": "code",
   "execution_count": 57,
   "metadata": {
    "scrolled": true,
    "slideshow": {
     "slide_type": "fragment"
    },
    "ExecuteTime": {
     "end_time": "2023-08-03T11:54:38.638652Z",
     "start_time": "2023-08-03T11:54:37.940894Z"
    }
   },
   "outputs": [
    {
     "data": {
      "text/plain": "0    dr\n1    bi\n2    al\ndtype: object"
     },
     "execution_count": 57,
     "metadata": {},
     "output_type": "execute_result"
    }
   ],
   "source": [
    "names_ser1.str[2:4] # We can even do vectorized slicing of strings!"
   ]
  },
  {
   "cell_type": "markdown",
   "metadata": {
    "slideshow": {
     "slide_type": "slide"
    }
   },
   "source": [
    "# VIDEO 2.5: Categorical Data"
   ]
  },
  {
   "cell_type": "markdown",
   "metadata": {
    "slideshow": {
     "slide_type": "slide"
    }
   },
   "source": [
    "## The Categorical Data Type\n",
    "*Are string columns attractive to work with?*\n"
   ]
  },
  {
   "cell_type": "code",
   "execution_count": 58,
   "metadata": {
    "ExecuteTime": {
     "end_time": "2023-08-03T11:54:38.638911Z",
     "start_time": "2023-08-03T11:54:37.944650Z"
    }
   },
   "outputs": [
    {
     "data": {
      "text/plain": "0    Pandas\n1    series\ndtype: object"
     },
     "execution_count": 58,
     "metadata": {},
     "output_type": "execute_result"
    }
   ],
   "source": [
    "pd.Series(['Pandas', 'series'])\n"
   ]
  },
  {
   "cell_type": "markdown",
   "metadata": {
    "slideshow": {
     "slide_type": "-"
    }
   },
   "source": [
    "No, sometimes the categorical data type is better:\n",
    "- Use categorical data when many characters are repeated can save memory and lead to faster computations\n",
    "- You can put some order (structure) on your string data (particularly useful for ordered data)\n",
    "- It also allows new features such as plotting bar-plots etc. sorted according to category order"
   ]
  },
  {
   "cell_type": "markdown",
   "metadata": {
    "slideshow": {
     "slide_type": "slide"
    }
   },
   "source": [
    "## Example of Categorical Data (I/II)\n",
    "\n",
    "Simulate data:"
   ]
  },
  {
   "cell_type": "code",
   "execution_count": 59,
   "metadata": {
    "ExecuteTime": {
     "end_time": "2023-08-03T11:54:38.639161Z",
     "start_time": "2023-08-03T11:54:37.946893Z"
    }
   },
   "outputs": [],
   "source": [
    "edu_list = ['Primary School', 'Secondary School', 'High School',  'High School']\n",
    "\n",
    "str_ser = pd.Series(edu_list*10**5)\n"
   ]
  },
  {
   "cell_type": "markdown",
   "metadata": {
    "slideshow": {
     "slide_type": "fragment"
    }
   },
   "source": [
    "Option 1: No order"
   ]
  },
  {
   "cell_type": "code",
   "execution_count": 60,
   "metadata": {
    "ExecuteTime": {
     "end_time": "2023-08-03T11:54:38.639523Z",
     "start_time": "2023-08-03T11:54:37.971050Z"
    }
   },
   "outputs": [
    {
     "data": {
      "text/plain": "0           Primary School\n1         Secondary School\n2              High School\n3              High School\n4           Primary School\n                ...       \n399995         High School\n399996      Primary School\n399997    Secondary School\n399998         High School\n399999         High School\nLength: 400000, dtype: category\nCategories (3, object): ['High School', 'Primary School', 'Secondary School']"
     },
     "execution_count": 60,
     "metadata": {},
     "output_type": "execute_result"
    }
   ],
   "source": [
    "cat_ser = str_ser.astype('category')\n",
    "cat_ser\n"
   ]
  },
  {
   "cell_type": "markdown",
   "metadata": {
    "slideshow": {
     "slide_type": "slide"
    }
   },
   "source": [
    "## Example of Categorical Data (II/II)\n",
    "\n",
    "Option 2: Order"
   ]
  },
  {
   "cell_type": "code",
   "execution_count": 61,
   "metadata": {
    "ExecuteTime": {
     "end_time": "2023-08-03T11:54:38.656056Z",
     "start_time": "2023-08-03T11:54:37.990688Z"
    }
   },
   "outputs": [
    {
     "data": {
      "text/plain": "0      Primary School\n1    Secondary School\n2         High School\n3         High School\n4      Primary School\ndtype: category\nCategories (3, object): ['Primary School' < 'Secondary School' < 'High School']"
     },
     "execution_count": 61,
     "metadata": {},
     "output_type": "execute_result"
    }
   ],
   "source": [
    "edu_cats = ['Primary School' , 'Secondary School', 'High School']\n",
    "cats = pd.Categorical(str_ser, categories=edu_cats, ordered=True)\n",
    "cat_ser2 = pd.Series(cats)\n",
    "cat_ser2[:5]\n"
   ]
  },
  {
   "cell_type": "markdown",
   "metadata": {
    "slideshow": {
     "slide_type": "slide"
    }
   },
   "source": [
    "## Numbers as Categories\n"
   ]
  },
  {
   "cell_type": "markdown",
   "metadata": {
    "slideshow": {
     "slide_type": "fragment"
    }
   },
   "source": [
    "#### *Can we convert our numerical data to bins in a smart way?*"
   ]
  },
  {
   "cell_type": "markdown",
   "metadata": {
    "slideshow": {
     "slide_type": "fragment"
    }
   },
   "source": [
    "Yes, there are two methods that are useful (and you just applied one of them earlier in this session!):\n",
    "- `cut` which divides data by user specified bins\n",
    "- `qcut` which divides data by user specified quantiles\n",
    "    - E.g. median, $q=0.5$; lower quartile threshold, $q=0.25$; etc."
   ]
  },
  {
   "cell_type": "code",
   "execution_count": 62,
   "metadata": {
    "scrolled": true,
    "slideshow": {
     "slide_type": "fragment"
    },
    "ExecuteTime": {
     "end_time": "2023-08-03T11:54:38.812014Z",
     "start_time": "2023-08-03T11:54:37.994228Z"
    }
   },
   "outputs": [
    {
     "data": {
      "text/plain": "0         6\n1         0\n2         0\n3         8\n4         1\n         ..\n999995    1\n999996    6\n999997    1\n999998    1\n999999    4\nLength: 1000000, dtype: int8"
     },
     "execution_count": 62,
     "metadata": {},
     "output_type": "execute_result"
    }
   ],
   "source": [
    "cat_ser3 = pd.qcut(pd.Series(np.random.normal(size = 10**6)), q = 10)\n",
    "cat_ser3.cat.codes"
   ]
  },
  {
   "cell_type": "markdown",
   "metadata": {
    "slideshow": {
     "slide_type": "slide"
    }
   },
   "source": [
    "## Converting to Numeric and Binary\n",
    "\n",
    "For regression, we often want our string / categorical variable as dummy variables (one-hot encoding):\n",
    "- That is, all categories have their own binary column (0 and 1)\n",
    "    - Note: We may leave one 'reference' category out here (intro statistics)\n",
    "- Using dummy variables in regression gives:\n",
    "    - More flexible models and only thing that makes sense for unordered (nominal) variables e.g the color of a shirt (nominal)\n"
   ]
  },
  {
   "cell_type": "markdown",
   "metadata": {
    "slideshow": {
     "slide_type": "fragment"
    }
   },
   "source": [
    "*How can we do this?*"
   ]
  },
  {
   "cell_type": "markdown",
   "metadata": {
    "slideshow": {
     "slide_type": "fragment"
    }
   },
   "source": [
    "Insert dataframe, `df`, into the function as `pd.get_dummies(df)`"
   ]
  },
  {
   "cell_type": "code",
   "execution_count": 63,
   "metadata": {
    "ExecuteTime": {
     "end_time": "2023-08-03T11:54:38.812873Z",
     "start_time": "2023-08-03T11:54:38.089071Z"
    }
   },
   "outputs": [
    {
     "data": {
      "text/plain": "   (-4.776000000000001, -1.281]  (-1.281, -0.839]  (-0.839, -0.522]  \\\n0                             0                 0                 0   \n1                             1                 0                 0   \n2                             1                 0                 0   \n3                             0                 0                 0   \n4                             0                 1                 0   \n\n   (-0.522, -0.25]  (-0.25, 0.00247]  (0.00247, 0.257]  (0.257, 0.527]  \\\n0                0                 0                 0               1   \n1                0                 0                 0               0   \n2                0                 0                 0               0   \n3                0                 0                 0               0   \n4                0                 0                 0               0   \n\n   (0.527, 0.843]  (0.843, 1.282]  (1.282, 4.906]  \n0               0               0               0  \n1               0               0               0  \n2               0               0               0  \n3               0               1               0  \n4               0               0               0  ",
      "text/html": "<div>\n<style scoped>\n    .dataframe tbody tr th:only-of-type {\n        vertical-align: middle;\n    }\n\n    .dataframe tbody tr th {\n        vertical-align: top;\n    }\n\n    .dataframe thead th {\n        text-align: right;\n    }\n</style>\n<table border=\"1\" class=\"dataframe\">\n  <thead>\n    <tr style=\"text-align: right;\">\n      <th></th>\n      <th>(-4.776000000000001, -1.281]</th>\n      <th>(-1.281, -0.839]</th>\n      <th>(-0.839, -0.522]</th>\n      <th>(-0.522, -0.25]</th>\n      <th>(-0.25, 0.00247]</th>\n      <th>(0.00247, 0.257]</th>\n      <th>(0.257, 0.527]</th>\n      <th>(0.527, 0.843]</th>\n      <th>(0.843, 1.282]</th>\n      <th>(1.282, 4.906]</th>\n    </tr>\n  </thead>\n  <tbody>\n    <tr>\n      <th>0</th>\n      <td>0</td>\n      <td>0</td>\n      <td>0</td>\n      <td>0</td>\n      <td>0</td>\n      <td>0</td>\n      <td>1</td>\n      <td>0</td>\n      <td>0</td>\n      <td>0</td>\n    </tr>\n    <tr>\n      <th>1</th>\n      <td>1</td>\n      <td>0</td>\n      <td>0</td>\n      <td>0</td>\n      <td>0</td>\n      <td>0</td>\n      <td>0</td>\n      <td>0</td>\n      <td>0</td>\n      <td>0</td>\n    </tr>\n    <tr>\n      <th>2</th>\n      <td>1</td>\n      <td>0</td>\n      <td>0</td>\n      <td>0</td>\n      <td>0</td>\n      <td>0</td>\n      <td>0</td>\n      <td>0</td>\n      <td>0</td>\n      <td>0</td>\n    </tr>\n    <tr>\n      <th>3</th>\n      <td>0</td>\n      <td>0</td>\n      <td>0</td>\n      <td>0</td>\n      <td>0</td>\n      <td>0</td>\n      <td>0</td>\n      <td>0</td>\n      <td>1</td>\n      <td>0</td>\n    </tr>\n    <tr>\n      <th>4</th>\n      <td>0</td>\n      <td>1</td>\n      <td>0</td>\n      <td>0</td>\n      <td>0</td>\n      <td>0</td>\n      <td>0</td>\n      <td>0</td>\n      <td>0</td>\n      <td>0</td>\n    </tr>\n  </tbody>\n</table>\n</div>"
     },
     "execution_count": 63,
     "metadata": {},
     "output_type": "execute_result"
    }
   ],
   "source": [
    "pd.get_dummies(cat_ser3).head(5)"
   ]
  },
  {
   "cell_type": "markdown",
   "metadata": {
    "slideshow": {
     "slide_type": "slide"
    }
   },
   "source": [
    "# VIDEO 2.6: Time Series Data"
   ]
  },
  {
   "cell_type": "markdown",
   "metadata": {
    "slideshow": {
     "slide_type": "slide"
    }
   },
   "source": [
    "## Temporal Data Type\n",
    "\n",
    "*Why is time so fundamental?*"
   ]
  },
  {
   "cell_type": "markdown",
   "metadata": {
    "slideshow": {
     "slide_type": "fragment"
    }
   },
   "source": [
    "Every measurement made by a human was made at some point in time - therefore, it has a \"timestamp\"!"
   ]
  },
  {
   "cell_type": "markdown",
   "metadata": {
    "slideshow": {
     "slide_type": "slide"
    }
   },
   "source": [
    "## Formats for Time\n",
    "\n",
    "*How are time stamps measured?*"
   ]
  },
  {
   "cell_type": "markdown",
   "metadata": {
    "slideshow": {
     "slide_type": "fragment"
    }
   },
   "source": [
    "1. **Datetime** (ISO 8601): Standard calendar\n",
    "    - year, month, day (minute, second, milisecond); timezone\n",
    "    - can come as string in raw data\n",
    "2. **Epoch time**: Seconds since January 1, 1970 - 00:00, GMT (Greenwich time zone)\n",
    "    - nanoseconds in pandas"
   ]
  },
  {
   "cell_type": "markdown",
   "metadata": {
    "slideshow": {
     "slide_type": "slide"
    }
   },
   "source": [
    "## Time Data in Pandas\n",
    "\n",
    "*Does Pandas store it in a smart way?*"
   ]
  },
  {
   "cell_type": "markdown",
   "metadata": {
    "slideshow": {
     "slide_type": "fragment"
    }
   },
   "source": [
    "Pandas and numpy have native support for temporal data combining datetime and epoch time."
   ]
  },
  {
   "cell_type": "code",
   "execution_count": 64,
   "metadata": {
    "ExecuteTime": {
     "end_time": "2023-08-03T11:54:38.813175Z",
     "start_time": "2023-08-03T11:54:38.119392Z"
    }
   },
   "outputs": [
    {
     "data": {
      "text/plain": "0   2017-01-01\n1   2017-07-27\n2   2017-08-03\n3   2017-12-24\ndtype: datetime64[ns]"
     },
     "execution_count": 64,
     "metadata": {},
     "output_type": "execute_result"
    }
   ],
   "source": [
    "str_ser2 = pd.Series(['20170101', '20170727', '20170803', '20171224'])\n",
    "dt_ser = pd.to_datetime(str_ser2)\n",
    "dt_ser"
   ]
  },
  {
   "cell_type": "markdown",
   "metadata": {
    "slideshow": {
     "slide_type": "slide"
    }
   },
   "source": [
    "## Example of Passing Temporal Data\n",
    "\n",
    "*How does the input type matter for how time data is passed?*\n",
    "\n",
    "A lot! As we will see, `to_datetime()` may assume either *datetime* or *epoch time* format:"
   ]
  },
  {
   "cell_type": "code",
   "execution_count": 65,
   "metadata": {
    "slideshow": {
     "slide_type": "-"
    },
    "ExecuteTime": {
     "end_time": "2023-08-03T11:54:38.813429Z",
     "start_time": "2023-08-03T11:54:38.122176Z"
    }
   },
   "outputs": [
    {
     "data": {
      "text/plain": "0   2017-01-01\n1   2017-07-27\n2   2017-08-03\n3   2017-12-24\ndtype: datetime64[ns]"
     },
     "execution_count": 65,
     "metadata": {},
     "output_type": "execute_result"
    }
   ],
   "source": [
    "pd.to_datetime(str_ser2)\n"
   ]
  },
  {
   "cell_type": "code",
   "execution_count": 66,
   "metadata": {
    "slideshow": {
     "slide_type": "-"
    },
    "ExecuteTime": {
     "end_time": "2023-08-03T11:54:38.813651Z",
     "start_time": "2023-08-03T11:54:38.124776Z"
    }
   },
   "outputs": [
    {
     "data": {
      "text/plain": "0   1970-01-01 00:00:00.020170101\n1   1970-01-01 00:00:00.020170727\n2   1970-01-01 00:00:00.020170803\n3   1970-01-01 00:00:00.020171224\ndtype: datetime64[ns]"
     },
     "execution_count": 66,
     "metadata": {},
     "output_type": "execute_result"
    }
   ],
   "source": [
    "pd.to_datetime(str_ser2.astype(int))\n"
   ]
  },
  {
   "cell_type": "markdown",
   "metadata": {
    "slideshow": {
     "slide_type": "slide"
    }
   },
   "source": [
    "## Time Series Data\n",
    "\n",
    "*Why are temporal data powerful?*\n",
    "\n",
    "We can easily make and plot time series. Example of $\\sim$40 years of Apple stock prices:\n",
    "- Tip: Install in terminal using: *pip install yfinance* in Anaconda Prompt"
   ]
  },
  {
   "cell_type": "code",
   "execution_count": 67,
   "metadata": {
    "ExecuteTime": {
     "end_time": "2023-08-03T11:54:39.523399Z",
     "start_time": "2023-08-03T11:54:38.127338Z"
    }
   },
   "outputs": [
    {
     "name": "stdout",
     "output_type": "stream",
     "text": [
      "[*********************100%***********************]  1 of 1 completed\n"
     ]
    },
    {
     "data": {
      "text/plain": "Text(0, 0.5, 'Apple Stock Price')"
     },
     "execution_count": 67,
     "metadata": {},
     "output_type": "execute_result"
    },
    {
     "data": {
      "text/plain": "<Figure size 640x480 with 1 Axes>",
      "image/png": "[encoded data removed]"
     },
     "metadata": {},
     "output_type": "display_data"
    }
   ],
   "source": [
    "import yfinance as yf\n",
    "import matplotlib.pyplot as plt\n",
    "\n",
    "aapl = yf.download(\"AAPL\")['Adj Close']\n",
    "\n",
    "plt.plot(aapl)\n",
    "plt.yscale('log')\n",
    "plt.xlabel('Time')\n",
    "plt.ylabel('Apple Stock Price')\n"
   ]
  },
  {
   "cell_type": "markdown",
   "metadata": {
    "slideshow": {
     "slide_type": "slide"
    }
   },
   "source": [
    "## Time Series Components\n",
    "\n",
    "*What is within the series that we just donwloaded? What is a time series*"
   ]
  },
  {
   "cell_type": "code",
   "execution_count": 68,
   "metadata": {
    "ExecuteTime": {
     "end_time": "2023-08-03T11:54:39.993073Z",
     "start_time": "2023-08-03T11:54:39.270852Z"
    }
   },
   "outputs": [
    {
     "name": "stdout",
     "output_type": "stream",
     "text": [
      "[*********************100%***********************]  1 of 1 completed\n"
     ]
    },
    {
     "data": {
      "text/plain": "Date\n1980-12-12    0.099584\n1980-12-15    0.094388\n1980-12-16    0.087461\n1980-12-17    0.089625\n1980-12-18    0.092224\nName: Adj Close, dtype: float64"
     },
     "execution_count": 68,
     "metadata": {},
     "output_type": "execute_result"
    }
   ],
   "source": [
    "aapl = yf.download(\"AAPL\")['Adj Close']\n",
    "aapl.head(5)\n"
   ]
  },
  {
   "cell_type": "code",
   "execution_count": 69,
   "metadata": {
    "ExecuteTime": {
     "end_time": "2023-08-03T11:54:39.997197Z",
     "start_time": "2023-08-03T11:54:39.990645Z"
    }
   },
   "outputs": [
    {
     "data": {
      "text/plain": "DatetimeIndex(['1980-12-12', '1980-12-15', '1980-12-16', '1980-12-17',\n               '1980-12-18'],\n              dtype='datetime64[ns]', name='Date', freq=None)"
     },
     "execution_count": 69,
     "metadata": {},
     "output_type": "execute_result"
    }
   ],
   "source": [
    "aapl.head(5).index\n"
   ]
  },
  {
   "cell_type": "markdown",
   "metadata": {
    "slideshow": {
     "slide_type": "fragment"
    }
   },
   "source": [
    "So in essence, time series in pandas are often just series of data with a time index."
   ]
  },
  {
   "cell_type": "markdown",
   "metadata": {
    "slideshow": {
     "slide_type": "slide"
    }
   },
   "source": [
    "## Datetime in Pandas\n",
    "\n",
    "We can extract data from datetime columns. These columns have the `dt` and its sub-methods. Example:"
   ]
  },
  {
   "cell_type": "code",
   "execution_count": 70,
   "metadata": {
    "ExecuteTime": {
     "end_time": "2023-08-03T11:54:40.034377Z",
     "start_time": "2023-08-03T11:54:39.992536Z"
    }
   },
   "outputs": [
    {
     "data": {
      "text/plain": "0        12\n1        12\n2        12\n3        12\n4        12\n         ..\n10744     7\n10745     7\n10746     7\n10747     8\n10748     8\nName: Date, Length: 10749, dtype: int64"
     },
     "execution_count": 70,
     "metadata": {},
     "output_type": "execute_result"
    }
   ],
   "source": [
    "dt_ser2 = pd.Series(aapl.index)\n",
    "dt_ser2.dt.month #also year, weekday, hour, second\n",
    "\n"
   ]
  },
  {
   "cell_type": "markdown",
   "metadata": {
    "slideshow": {
     "slide_type": "fragment"
    }
   },
   "source": [
    "Many other useful features (e.g. aggregation over time into means, medians, etc.)"
   ]
  }
 ],
 "metadata": {
  "celltoolbar": "Slideshow",
  "kernelspec": {
   "display_name": "Python 3 (ipykernel)",
   "language": "python",
   "name": "python3"
  },
  "language_info": {
   "codemirror_mode": {
    "name": "ipython",
    "version": 3
   },
   "file_extension": ".py",
   "mimetype": "text/x-python",
   "name": "python",
   "nbconvert_exporter": "python",
   "pygments_lexer": "ipython3",
   "version": "3.9.16"
  }
 },
 "nbformat": 4,
 "nbformat_minor": 4
}
